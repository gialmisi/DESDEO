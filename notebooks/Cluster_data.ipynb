{
 "cells": [
  {
   "cell_type": "markdown",
   "id": "7e9af5d0-e5bb-4c18-906f-6c8eb5150692",
   "metadata": {},
   "source": [
    "# Load the cluster data from a shape file"
   ]
  },
  {
   "cell_type": "code",
   "execution_count": 1,
   "id": "b2d34dc4-78aa-4fb0-b587-118fb796c6ca",
   "metadata": {},
   "outputs": [
    {
     "data": {
      "text/html": [
       "<div><style>\n",
       ".dataframe > thead > tr,\n",
       ".dataframe > tbody > tr {\n",
       "  text-align: right;\n",
       "  white-space: pre-wrap;\n",
       "}\n",
       "</style>\n",
       "<small>shape: (468, 3)</small><table border=\"1\" class=\"dataframe\"><thead><tr><th>BESTANDS_I</th><th>Forest_own</th><th>geometry</th></tr><tr><td>i64</td><td>i64</td><td>str</td></tr></thead><tbody><tr><td>25037</td><td>56</td><td>&quot;POLYGON ((607358.363169 659658…</td></tr><tr><td>25039</td><td>56</td><td>&quot;POLYGON ((607484.284218 659661…</td></tr><tr><td>25036</td><td>56</td><td>&quot;POLYGON ((607349.684448 659662…</td></tr><tr><td>24985</td><td>55</td><td>&quot;POLYGON ((607634.79149 6596605…</td></tr><tr><td>25038</td><td>56</td><td>&quot;POLYGON ((607420.071156 659656…</td></tr><tr><td>&hellip;</td><td>&hellip;</td><td>&hellip;</td></tr><tr><td>25323</td><td>224</td><td>&quot;POLYGON ((608431.419375 660024…</td></tr><tr><td>61145</td><td>222</td><td>&quot;POLYGON ((607627.026502 659906…</td></tr><tr><td>25469</td><td>114</td><td>&quot;POLYGON ((607915.91287 6600687…</td></tr><tr><td>25520</td><td>114</td><td>&quot;POLYGON ((607653.093866 660052…</td></tr><tr><td>25433</td><td>114</td><td>&quot;POLYGON ((607935.052293 660049…</td></tr></tbody></table></div>"
      ],
      "text/plain": [
       "shape: (468, 3)\n",
       "┌────────────┬────────────┬─────────────────────────────────┐\n",
       "│ BESTANDS_I ┆ Forest_own ┆ geometry                        │\n",
       "│ ---        ┆ ---        ┆ ---                             │\n",
       "│ i64        ┆ i64        ┆ str                             │\n",
       "╞════════════╪════════════╪═════════════════════════════════╡\n",
       "│ 25037      ┆ 56         ┆ POLYGON ((607358.363169 659658… │\n",
       "│ 25039      ┆ 56         ┆ POLYGON ((607484.284218 659661… │\n",
       "│ 25036      ┆ 56         ┆ POLYGON ((607349.684448 659662… │\n",
       "│ 24985      ┆ 55         ┆ POLYGON ((607634.79149 6596605… │\n",
       "│ 25038      ┆ 56         ┆ POLYGON ((607420.071156 659656… │\n",
       "│ …          ┆ …          ┆ …                               │\n",
       "│ 25323      ┆ 224        ┆ POLYGON ((608431.419375 660024… │\n",
       "│ 61145      ┆ 222        ┆ POLYGON ((607627.026502 659906… │\n",
       "│ 25469      ┆ 114        ┆ POLYGON ((607915.91287 6600687… │\n",
       "│ 25520      ┆ 114        ┆ POLYGON ((607653.093866 660052… │\n",
       "│ 25433      ┆ 114        ┆ POLYGON ((607935.052293 660049… │\n",
       "└────────────┴────────────┴─────────────────────────────────┘"
      ]
     },
     "execution_count": 1,
     "metadata": {},
     "output_type": "execute_result"
    }
   ],
   "source": [
    "import geopandas as gpd\n",
    "import polars as pl\n",
    "\n",
    "gdf = gpd.read_file(\"../data/Property_information.shp\")\n",
    "\n",
    "pdf = pl.from_pandas(gdf.astype({\"geometry\": \"str\"}))\n",
    "\n",
    "cluster_data = pdf\n",
    "cluster_data"
   ]
  },
  {
   "cell_type": "markdown",
   "id": "5527d0e3-c7d4-4812-b30f-a0e9b0892e70",
   "metadata": {},
   "source": [
    "# Load regime data"
   ]
  },
  {
   "cell_type": "code",
   "execution_count": 16,
   "id": "62333e62-c7ee-438e-9d67-a38db913f265",
   "metadata": {},
   "outputs": [],
   "source": [
    "pdf = pl.read_csv(\"../data/Vaaler_data.csv\",\n",
    "                  separator=';',\n",
    "                  has_header=True,\n",
    "                  infer_schema_length=500000)\n",
    "pdf = pdf[[s.name for s in pdf if not (s.null_count() > 0)]]  # drop null columns\n",
    "regime_data = pdf"
   ]
  },
  {
   "cell_type": "code",
   "execution_count": 17,
   "id": "3cf709f3-796c-4c1f-8535-3c29b293cce7",
   "metadata": {},
   "outputs": [
    {
     "data": {
      "text/html": [
       "<div><style>\n",
       ".dataframe > thead > tr,\n",
       ".dataframe > tbody > tr {\n",
       "  text-align: right;\n",
       "  white-space: pre-wrap;\n",
       "}\n",
       "</style>\n",
       "<small>shape: (296_440, 98)</small><table border=\"1\" class=\"dataframe\"><thead><tr><th>id</th><th>branch</th><th>year</th><th>area</th><th>age</th><th>reg_age</th><th>reg_n</th><th>reg_n_S</th><th>reg_n_P</th><th>reg_n_B</th><th>reg_hDom</th><th>reg_hDom_S</th><th>reg_hDom_P</th><th>reg_hDom_B</th><th>reg_d</th><th>Tr</th><th>Rg</th><th>INC</th><th>COST</th><th>Net</th><th>Harvested_V</th><th>Harvested_V_S</th><th>Harvested_V_P</th><th>Harvested_V_B</th><th>Harvested_V_log</th><th>Harvested_V_log_S</th><th>Harvested_V_log_P</th><th>Harvested_V_log_B</th><th>Harvested_V_pulp</th><th>Harvested_V_pulp_S</th><th>Harvested_V_pulp_P</th><th>Harvested_V_pulp_B</th><th>n</th><th>n_S</th><th>n_P</th><th>n_B</th><th>h</th><th>&hellip;</th><th>vol_mort_pine.1</th><th>vol_mort_birch.1</th><th>h_mort.1</th><th>h_mort_spruce.1</th><th>h_mort_pine.1</th><th>h_mort_birch.1</th><th>d_mort.1</th><th>d_mort_spruce.1</th><th>d_mort_pine.1</th><th>d_mort_birch.1</th><th>ba_mort.1</th><th>ba_mort_spruce.1</th><th>ba_mort_pine.1</th><th>ba_mort_birch.1</th><th>biomass</th><th>soil</th><th>products</th><th>biomass.1</th><th>soil.1</th><th>products.1</th><th>NPV</th><th>Decay_class_1_volume</th><th>Decay_class_2_volume</th><th>Decay_class_3_volume</th><th>Decay_class_4_volume</th><th>Decay_class_5_volume</th><th>d_mort_pine_y</th><th>d_mort_spruce_y</th><th>vol_mort_pine_y</th><th>vol_mort_spruce_y</th><th>year.1</th><th>TTWP</th><th>CAP</th><th>HAZ</th><th>LSWP</th><th>SFS</th><th>LTT</th></tr><tr><td>i64</td><td>i64</td><td>i64</td><td>f64</td><td>i64</td><td>i64</td><td>i64</td><td>f64</td><td>f64</td><td>i64</td><td>f64</td><td>f64</td><td>f64</td><td>f64</td><td>i64</td><td>i64</td><td>i64</td><td>f64</td><td>f64</td><td>f64</td><td>f64</td><td>f64</td><td>f64</td><td>f64</td><td>f64</td><td>f64</td><td>f64</td><td>f64</td><td>i64</td><td>i64</td><td>i64</td><td>i64</td><td>f64</td><td>f64</td><td>f64</td><td>f64</td><td>f64</td><td>&hellip;</td><td>i64</td><td>i64</td><td>i64</td><td>i64</td><td>i64</td><td>i64</td><td>i64</td><td>i64</td><td>i64</td><td>i64</td><td>i64</td><td>i64</td><td>i64</td><td>f64</td><td>f64</td><td>f64</td><td>f64</td><td>f64</td><td>f64</td><td>f64</td><td>f64</td><td>f64</td><td>f64</td><td>f64</td><td>f64</td><td>f64</td><td>f64</td><td>f64</td><td>f64</td><td>f64</td><td>i64</td><td>f64</td><td>i64</td><td>f64</td><td>f64</td><td>f64</td><td>f64</td></tr></thead><tbody><tr><td>24473</td><td>1</td><td>1</td><td>2.03555</td><td>116</td><td>0</td><td>0</td><td>0.0</td><td>0.0</td><td>0</td><td>0.0</td><td>0.0</td><td>0.0</td><td>0.0</td><td>0</td><td>0</td><td>0</td><td>0.0</td><td>0.0</td><td>0.0</td><td>0.0</td><td>0.0</td><td>0.0</td><td>0.0</td><td>0.0</td><td>0.0</td><td>0.0</td><td>0.0</td><td>0</td><td>0</td><td>0</td><td>0</td><td>307.0</td><td>0.0</td><td>142.0</td><td>165.0</td><td>21.1219</td><td>&hellip;</td><td>0</td><td>0</td><td>0</td><td>0</td><td>0</td><td>0</td><td>0</td><td>0</td><td>0</td><td>0</td><td>0</td><td>0</td><td>0</td><td>0.877308</td><td>152.553</td><td>0.0</td><td>0.0</td><td>154.544</td><td>7.85294</td><td>0.0</td><td>43885.5</td><td>13.997524</td><td>0.0</td><td>0.0</td><td>0.0</td><td>0.0</td><td>43.6782</td><td>0.0</td><td>6.51497</td><td>0.0</td><td>1</td><td>0.791623</td><td>0</td><td>0.0</td><td>0.539321</td><td>0.0</td><td>0.84365</td></tr><tr><td>25533</td><td>1</td><td>1</td><td>2.45563</td><td>0</td><td>1</td><td>170</td><td>0.0</td><td>170.0</td><td>0</td><td>1.35618</td><td>0.0</td><td>1.35618</td><td>0.0</td><td>0</td><td>0</td><td>0</td><td>0.0</td><td>0.0</td><td>0.0</td><td>0.0</td><td>0.0</td><td>0.0</td><td>0.0</td><td>0.0</td><td>0.0</td><td>0.0</td><td>0.0</td><td>0</td><td>0</td><td>0</td><td>0</td><td>0.0</td><td>0.0</td><td>0.0</td><td>0.0</td><td>0.0</td><td>&hellip;</td><td>0</td><td>0</td><td>0</td><td>0</td><td>0</td><td>0</td><td>0</td><td>0</td><td>0</td><td>0</td><td>0</td><td>0</td><td>0</td><td>0.0</td><td>0.0</td><td>0.0</td><td>0.0</td><td>0.0</td><td>0.0</td><td>0.0</td><td>777.112</td><td>0.0</td><td>0.0</td><td>0.0</td><td>0.0</td><td>0.0</td><td>0.0</td><td>0.0</td><td>0.0</td><td>0.0</td><td>1</td><td>0.0</td><td>0</td><td>0.0</td><td>0.0</td><td>0.0</td><td>0.0</td></tr><tr><td>25533</td><td>1</td><td>2</td><td>2.45563</td><td>0</td><td>6</td><td>170</td><td>0.0</td><td>170.0</td><td>0</td><td>2.6482</td><td>0.0</td><td>2.6482</td><td>0.0</td><td>0</td><td>0</td><td>0</td><td>0.0</td><td>0.0</td><td>0.0</td><td>0.0</td><td>0.0</td><td>0.0</td><td>0.0</td><td>0.0</td><td>0.0</td><td>0.0</td><td>0.0</td><td>0</td><td>0</td><td>0</td><td>0</td><td>0.0</td><td>0.0</td><td>0.0</td><td>0.0</td><td>0.0</td><td>&hellip;</td><td>0</td><td>0</td><td>0</td><td>0</td><td>0</td><td>0</td><td>0</td><td>0</td><td>0</td><td>0</td><td>0</td><td>0</td><td>0</td><td>0.0</td><td>0.0</td><td>0.0</td><td>0.0</td><td>0.0</td><td>0.0</td><td>0.0</td><td>777.112</td><td>0.0</td><td>0.0</td><td>0.0</td><td>0.0</td><td>0.0</td><td>0.0</td><td>0.0</td><td>0.0</td><td>0.0</td><td>2</td><td>0.0</td><td>0</td><td>0.0</td><td>0.0</td><td>0.0</td><td>0.0</td></tr><tr><td>24473</td><td>1</td><td>2</td><td>2.03555</td><td>121</td><td>0</td><td>0</td><td>0.0</td><td>0.0</td><td>0</td><td>0.0</td><td>0.0</td><td>0.0</td><td>0.0</td><td>0</td><td>0</td><td>0</td><td>0.0</td><td>0.0</td><td>0.0</td><td>0.0</td><td>0.0</td><td>0.0</td><td>0.0</td><td>0.0</td><td>0.0</td><td>0.0</td><td>0.0</td><td>0</td><td>0</td><td>0</td><td>0</td><td>296.106</td><td>0.0</td><td>136.961</td><td>159.145</td><td>21.5568</td><td>&hellip;</td><td>0</td><td>0</td><td>0</td><td>0</td><td>0</td><td>0</td><td>0</td><td>0</td><td>0</td><td>0</td><td>0</td><td>0</td><td>0</td><td>0.887889</td><td>154.544</td><td>7.85294</td><td>0.0</td><td>156.181</td><td>12.7199</td><td>0.0</td><td>43885.5</td><td>27.918172</td><td>0.0</td><td>0.0</td><td>0.0</td><td>0.0</td><td>88.42</td><td>0.0</td><td>13.22017</td><td>0.0</td><td>2</td><td>0.802918</td><td>0</td><td>0.0</td><td>0.565131</td><td>0.0</td><td>0.843649</td></tr><tr><td>25533</td><td>1</td><td>3</td><td>2.45563</td><td>0</td><td>11</td><td>170</td><td>0.0</td><td>170.0</td><td>0</td><td>4.0775</td><td>0.0</td><td>4.0775</td><td>0.0</td><td>0</td><td>0</td><td>0</td><td>0.0</td><td>0.0</td><td>0.0</td><td>0.0</td><td>0.0</td><td>0.0</td><td>0.0</td><td>0.0</td><td>0.0</td><td>0.0</td><td>0.0</td><td>0</td><td>0</td><td>0</td><td>0</td><td>0.0</td><td>0.0</td><td>0.0</td><td>0.0</td><td>0.0</td><td>&hellip;</td><td>0</td><td>0</td><td>0</td><td>0</td><td>0</td><td>0</td><td>0</td><td>0</td><td>0</td><td>0</td><td>0</td><td>0</td><td>0</td><td>0.0</td><td>0.0</td><td>0.0</td><td>0.0</td><td>0.0</td><td>0.0</td><td>0.0</td><td>777.112</td><td>0.0</td><td>0.0</td><td>0.0</td><td>0.0</td><td>0.0</td><td>0.0</td><td>0.0</td><td>0.0</td><td>0.0</td><td>3</td><td>0.0</td><td>0</td><td>0.0</td><td>0.0</td><td>0.0</td><td>0.0</td></tr><tr><td>&hellip;</td><td>&hellip;</td><td>&hellip;</td><td>&hellip;</td><td>&hellip;</td><td>&hellip;</td><td>&hellip;</td><td>&hellip;</td><td>&hellip;</td><td>&hellip;</td><td>&hellip;</td><td>&hellip;</td><td>&hellip;</td><td>&hellip;</td><td>&hellip;</td><td>&hellip;</td><td>&hellip;</td><td>&hellip;</td><td>&hellip;</td><td>&hellip;</td><td>&hellip;</td><td>&hellip;</td><td>&hellip;</td><td>&hellip;</td><td>&hellip;</td><td>&hellip;</td><td>&hellip;</td><td>&hellip;</td><td>&hellip;</td><td>&hellip;</td><td>&hellip;</td><td>&hellip;</td><td>&hellip;</td><td>&hellip;</td><td>&hellip;</td><td>&hellip;</td><td>&hellip;</td><td>&hellip;</td><td>&hellip;</td><td>&hellip;</td><td>&hellip;</td><td>&hellip;</td><td>&hellip;</td><td>&hellip;</td><td>&hellip;</td><td>&hellip;</td><td>&hellip;</td><td>&hellip;</td><td>&hellip;</td><td>&hellip;</td><td>&hellip;</td><td>&hellip;</td><td>&hellip;</td><td>&hellip;</td><td>&hellip;</td><td>&hellip;</td><td>&hellip;</td><td>&hellip;</td><td>&hellip;</td><td>&hellip;</td><td>&hellip;</td><td>&hellip;</td><td>&hellip;</td><td>&hellip;</td><td>&hellip;</td><td>&hellip;</td><td>&hellip;</td><td>&hellip;</td><td>&hellip;</td><td>&hellip;</td><td>&hellip;</td><td>&hellip;</td><td>&hellip;</td><td>&hellip;</td><td>&hellip;</td></tr><tr><td>61166</td><td>5</td><td>10</td><td>0.389153</td><td>61</td><td>0</td><td>0</td><td>0.0</td><td>0.0</td><td>0</td><td>0.0</td><td>0.0</td><td>0.0</td><td>0.0</td><td>0</td><td>19</td><td>63</td><td>142393.0</td><td>45009.0</td><td>97384.0</td><td>280.287</td><td>140.143</td><td>140.143</td><td>0.0</td><td>135.421</td><td>135.421</td><td>135.421</td><td>0.0</td><td>0</td><td>0</td><td>0</td><td>0</td><td>0.0</td><td>0.0</td><td>0.0</td><td>0.0</td><td>0.0</td><td>&hellip;</td><td>0</td><td>0</td><td>0</td><td>0</td><td>0</td><td>0</td><td>0</td><td>0</td><td>0</td><td>0</td><td>0</td><td>0</td><td>0</td><td>0.0</td><td>98.2422</td><td>10.7366</td><td>0.0</td><td>0.0</td><td>26.0607</td><td>0.0</td><td>31725.6</td><td>14.841899</td><td>4.797826</td><td>3.260281</td><td>3.281431</td><td>1.12436</td><td>194.1876</td><td>194.1876</td><td>18.91532</td><td>18.91532</td><td>10</td><td>0.01143</td><td>0</td><td>0.0</td><td>0.015026</td><td>0.0</td><td>0.0</td></tr><tr><td>61166</td><td>6</td><td>10</td><td>0.389153</td><td>0</td><td>5</td><td>3800</td><td>1910.0</td><td>90.0</td><td>1800</td><td>0.65</td><td>0.65</td><td>0.65</td><td>0.0</td><td>0</td><td>0</td><td>0</td><td>0.0</td><td>0.0</td><td>0.0</td><td>0.0</td><td>0.0</td><td>0.0</td><td>0.0</td><td>0.0</td><td>0.0</td><td>0.0</td><td>0.0</td><td>0</td><td>0</td><td>0</td><td>0</td><td>0.0</td><td>0.0</td><td>0.0</td><td>0.0</td><td>0.0</td><td>&hellip;</td><td>0</td><td>0</td><td>0</td><td>0</td><td>0</td><td>0</td><td>0</td><td>0</td><td>0</td><td>0</td><td>0</td><td>0</td><td>0</td><td>0.0</td><td>0.0</td><td>23.4304</td><td>0.0</td><td>0.0</td><td>15.8551</td><td>0.0</td><td>29261.1</td><td>6.522975</td><td>4.797826</td><td>3.260281</td><td>3.281431</td><td>1.12436</td><td>163.3861</td><td>163.3861</td><td>14.57784</td><td>14.57784</td><td>10</td><td>0.0</td><td>0</td><td>0.0</td><td>0.0</td><td>0.0</td><td>0.0</td></tr><tr><td>61166</td><td>7</td><td>10</td><td>0.389153</td><td>0</td><td>0</td><td>5200</td><td>1600.0</td><td>100.0</td><td>3500</td><td>0.0</td><td>0.0</td><td>0.0</td><td>0.0</td><td>0</td><td>0</td><td>0</td><td>0.0</td><td>0.0</td><td>0.0</td><td>0.0</td><td>0.0</td><td>0.0</td><td>0.0</td><td>0.0</td><td>0.0</td><td>0.0</td><td>0.0</td><td>0</td><td>0</td><td>0</td><td>0</td><td>0.0</td><td>0.0</td><td>0.0</td><td>0.0</td><td>0.0</td><td>&hellip;</td><td>0</td><td>0</td><td>0</td><td>0</td><td>0</td><td>0</td><td>0</td><td>0</td><td>0</td><td>0</td><td>0</td><td>0</td><td>0</td><td>0.0</td><td>0.0</td><td>23.4304</td><td>0.0</td><td>0.0</td><td>15.8551</td><td>0.0</td><td>32535.6</td><td>6.522975</td><td>4.797826</td><td>3.260281</td><td>3.281431</td><td>1.12436</td><td>163.3861</td><td>163.3861</td><td>14.57784</td><td>14.57784</td><td>10</td><td>0.0</td><td>0</td><td>0.0</td><td>0.0</td><td>0.0</td><td>0.0</td></tr><tr><td>61166</td><td>8</td><td>10</td><td>0.389153</td><td>0</td><td>10</td><td>3800</td><td>1910.0</td><td>90.0</td><td>1800</td><td>1.10386</td><td>1.10386</td><td>1.10386</td><td>0.65</td><td>0</td><td>0</td><td>0</td><td>0.0</td><td>0.0</td><td>0.0</td><td>0.0</td><td>0.0</td><td>0.0</td><td>0.0</td><td>0.0</td><td>0.0</td><td>0.0</td><td>0.0</td><td>0</td><td>0</td><td>0</td><td>0</td><td>0.0</td><td>0.0</td><td>0.0</td><td>0.0</td><td>0.0</td><td>&hellip;</td><td>0</td><td>0</td><td>0</td><td>0</td><td>0</td><td>0</td><td>0</td><td>0</td><td>0</td><td>0</td><td>0</td><td>0</td><td>0</td><td>0.0</td><td>0.0</td><td>13.9353</td><td>0.0</td><td>0.0</td><td>9.79973</td><td>0.0</td><td>29397.9</td><td>0.0</td><td>4.797826</td><td>3.260281</td><td>3.281431</td><td>1.12436</td><td>134.7973</td><td>134.7973</td><td>10.8871</td><td>10.8871</td><td>10</td><td>0.0</td><td>0</td><td>0.0</td><td>0.0</td><td>0.0</td><td>0.0</td></tr><tr><td>61166</td><td>9</td><td>10</td><td>0.389153</td><td>0</td><td>5</td><td>5200</td><td>1600.0</td><td>100.0</td><td>3500</td><td>0.65</td><td>0.65</td><td>0.65</td><td>0.65</td><td>0</td><td>0</td><td>0</td><td>0.0</td><td>0.0</td><td>0.0</td><td>0.0</td><td>0.0</td><td>0.0</td><td>0.0</td><td>0.0</td><td>0.0</td><td>0.0</td><td>0.0</td><td>0</td><td>0</td><td>0</td><td>0</td><td>0.0</td><td>0.0</td><td>0.0</td><td>0.0</td><td>0.0</td><td>&hellip;</td><td>0</td><td>0</td><td>0</td><td>0</td><td>0</td><td>0</td><td>0</td><td>0</td><td>0</td><td>0</td><td>0</td><td>0</td><td>0</td><td>0.0</td><td>0.0</td><td>13.9353</td><td>0.0</td><td>0.0</td><td>9.79973</td><td>0.0</td><td>32471.2</td><td>0.0</td><td>4.797826</td><td>3.260281</td><td>3.281431</td><td>1.12436</td><td>134.7973</td><td>134.7973</td><td>10.8871</td><td>10.8871</td><td>10</td><td>0.0</td><td>0</td><td>0.0</td><td>0.0</td><td>0.0</td><td>0.0</td></tr></tbody></table></div>"
      ],
      "text/plain": [
       "shape: (296_440, 98)\n",
       "┌───────┬────────┬──────┬──────────┬───┬─────┬──────────┬─────┬──────────┐\n",
       "│ id    ┆ branch ┆ year ┆ area     ┆ … ┆ HAZ ┆ LSWP     ┆ SFS ┆ LTT      │\n",
       "│ ---   ┆ ---    ┆ ---  ┆ ---      ┆   ┆ --- ┆ ---      ┆ --- ┆ ---      │\n",
       "│ i64   ┆ i64    ┆ i64  ┆ f64      ┆   ┆ f64 ┆ f64      ┆ f64 ┆ f64      │\n",
       "╞═══════╪════════╪══════╪══════════╪═══╪═════╪══════════╪═════╪══════════╡\n",
       "│ 24473 ┆ 1      ┆ 1    ┆ 2.03555  ┆ … ┆ 0.0 ┆ 0.539321 ┆ 0.0 ┆ 0.84365  │\n",
       "│ 25533 ┆ 1      ┆ 1    ┆ 2.45563  ┆ … ┆ 0.0 ┆ 0.0      ┆ 0.0 ┆ 0.0      │\n",
       "│ 25533 ┆ 1      ┆ 2    ┆ 2.45563  ┆ … ┆ 0.0 ┆ 0.0      ┆ 0.0 ┆ 0.0      │\n",
       "│ 24473 ┆ 1      ┆ 2    ┆ 2.03555  ┆ … ┆ 0.0 ┆ 0.565131 ┆ 0.0 ┆ 0.843649 │\n",
       "│ 25533 ┆ 1      ┆ 3    ┆ 2.45563  ┆ … ┆ 0.0 ┆ 0.0      ┆ 0.0 ┆ 0.0      │\n",
       "│ …     ┆ …      ┆ …    ┆ …        ┆ … ┆ …   ┆ …        ┆ …   ┆ …        │\n",
       "│ 61166 ┆ 5      ┆ 10   ┆ 0.389153 ┆ … ┆ 0.0 ┆ 0.015026 ┆ 0.0 ┆ 0.0      │\n",
       "│ 61166 ┆ 6      ┆ 10   ┆ 0.389153 ┆ … ┆ 0.0 ┆ 0.0      ┆ 0.0 ┆ 0.0      │\n",
       "│ 61166 ┆ 7      ┆ 10   ┆ 0.389153 ┆ … ┆ 0.0 ┆ 0.0      ┆ 0.0 ┆ 0.0      │\n",
       "│ 61166 ┆ 8      ┆ 10   ┆ 0.389153 ┆ … ┆ 0.0 ┆ 0.0      ┆ 0.0 ┆ 0.0      │\n",
       "│ 61166 ┆ 9      ┆ 10   ┆ 0.389153 ┆ … ┆ 0.0 ┆ 0.0      ┆ 0.0 ┆ 0.0      │\n",
       "└───────┴────────┴──────┴──────────┴───┴─────┴──────────┴─────┴──────────┘"
      ]
     },
     "execution_count": 17,
     "metadata": {},
     "output_type": "execute_result"
    }
   ],
   "source": [
    "regime_data"
   ]
  },
  {
   "cell_type": "markdown",
   "id": "a1022839-f302-4dcc-983c-da6c7caf5f6d",
   "metadata": {},
   "source": [
    "# Compute regimes"
   ]
  },
  {
   "cell_type": "code",
   "execution_count": 18,
   "id": "29ca9d9a-a917-4ac8-a8a4-52e6c16a015e",
   "metadata": {},
   "outputs": [
    {
     "data": {
      "text/html": [
       "<div><style>\n",
       ".dataframe > thead > tr,\n",
       ".dataframe > tbody > tr {\n",
       "  text-align: right;\n",
       "  white-space: pre-wrap;\n",
       "}\n",
       "</style>\n",
       "<small>shape: (296_440, 100)</small><table border=\"1\" class=\"dataframe\"><thead><tr><th>id</th><th>branch</th><th>year</th><th>area</th><th>age</th><th>reg_age</th><th>reg_n</th><th>reg_n_S</th><th>reg_n_P</th><th>reg_n_B</th><th>reg_hDom</th><th>reg_hDom_S</th><th>reg_hDom_P</th><th>reg_hDom_B</th><th>reg_d</th><th>Tr</th><th>Rg</th><th>INC</th><th>COST</th><th>Net</th><th>Harvested_V</th><th>Harvested_V_S</th><th>Harvested_V_P</th><th>Harvested_V_B</th><th>Harvested_V_log</th><th>Harvested_V_log_S</th><th>Harvested_V_log_P</th><th>Harvested_V_log_B</th><th>Harvested_V_pulp</th><th>Harvested_V_pulp_S</th><th>Harvested_V_pulp_P</th><th>Harvested_V_pulp_B</th><th>n</th><th>n_S</th><th>n_P</th><th>n_B</th><th>h</th><th>&hellip;</th><th>h_mort.1</th><th>h_mort_spruce.1</th><th>h_mort_pine.1</th><th>h_mort_birch.1</th><th>d_mort.1</th><th>d_mort_spruce.1</th><th>d_mort_pine.1</th><th>d_mort_birch.1</th><th>ba_mort.1</th><th>ba_mort_spruce.1</th><th>ba_mort_pine.1</th><th>ba_mort_birch.1</th><th>biomass</th><th>soil</th><th>products</th><th>biomass.1</th><th>soil.1</th><th>products.1</th><th>NPV</th><th>Decay_class_1_volume</th><th>Decay_class_2_volume</th><th>Decay_class_3_volume</th><th>Decay_class_4_volume</th><th>Decay_class_5_volume</th><th>d_mort_pine_y</th><th>d_mort_spruce_y</th><th>vol_mort_pine_y</th><th>vol_mort_spruce_y</th><th>year.1</th><th>TTWP</th><th>CAP</th><th>HAZ</th><th>LSWP</th><th>SFS</th><th>LTT</th><th>sum_Harvested_V</th><th>branching_group</th></tr><tr><td>i64</td><td>i64</td><td>i64</td><td>f64</td><td>i64</td><td>i64</td><td>i64</td><td>f64</td><td>f64</td><td>i64</td><td>f64</td><td>f64</td><td>f64</td><td>f64</td><td>i64</td><td>i64</td><td>i64</td><td>f64</td><td>f64</td><td>f64</td><td>f64</td><td>f64</td><td>f64</td><td>f64</td><td>f64</td><td>f64</td><td>f64</td><td>f64</td><td>i64</td><td>i64</td><td>i64</td><td>i64</td><td>f64</td><td>f64</td><td>f64</td><td>f64</td><td>f64</td><td>&hellip;</td><td>i64</td><td>i64</td><td>i64</td><td>i64</td><td>i64</td><td>i64</td><td>i64</td><td>i64</td><td>i64</td><td>i64</td><td>i64</td><td>f64</td><td>f64</td><td>f64</td><td>f64</td><td>f64</td><td>f64</td><td>f64</td><td>f64</td><td>f64</td><td>f64</td><td>f64</td><td>f64</td><td>f64</td><td>f64</td><td>f64</td><td>f64</td><td>f64</td><td>i64</td><td>f64</td><td>i64</td><td>f64</td><td>f64</td><td>f64</td><td>f64</td><td>f64</td><td>str</td></tr></thead><tbody><tr><td>24473</td><td>1</td><td>1</td><td>2.03555</td><td>116</td><td>0</td><td>0</td><td>0.0</td><td>0.0</td><td>0</td><td>0.0</td><td>0.0</td><td>0.0</td><td>0.0</td><td>0</td><td>0</td><td>0</td><td>0.0</td><td>0.0</td><td>0.0</td><td>0.0</td><td>0.0</td><td>0.0</td><td>0.0</td><td>0.0</td><td>0.0</td><td>0.0</td><td>0.0</td><td>0</td><td>0</td><td>0</td><td>0</td><td>307.0</td><td>0.0</td><td>142.0</td><td>165.0</td><td>21.1219</td><td>&hellip;</td><td>0</td><td>0</td><td>0</td><td>0</td><td>0</td><td>0</td><td>0</td><td>0</td><td>0</td><td>0</td><td>0</td><td>0.877308</td><td>152.553</td><td>0.0</td><td>0.0</td><td>154.544</td><td>7.85294</td><td>0.0</td><td>43885.5</td><td>13.997524</td><td>0.0</td><td>0.0</td><td>0.0</td><td>0.0</td><td>43.6782</td><td>0.0</td><td>6.51497</td><td>0.0</td><td>1</td><td>0.791623</td><td>0</td><td>0.0</td><td>0.539321</td><td>0.0</td><td>0.84365</td><td>0.0</td><td>&quot;SA&quot;</td></tr><tr><td>25533</td><td>1</td><td>1</td><td>2.45563</td><td>0</td><td>1</td><td>170</td><td>0.0</td><td>170.0</td><td>0</td><td>1.35618</td><td>0.0</td><td>1.35618</td><td>0.0</td><td>0</td><td>0</td><td>0</td><td>0.0</td><td>0.0</td><td>0.0</td><td>0.0</td><td>0.0</td><td>0.0</td><td>0.0</td><td>0.0</td><td>0.0</td><td>0.0</td><td>0.0</td><td>0</td><td>0</td><td>0</td><td>0</td><td>0.0</td><td>0.0</td><td>0.0</td><td>0.0</td><td>0.0</td><td>&hellip;</td><td>0</td><td>0</td><td>0</td><td>0</td><td>0</td><td>0</td><td>0</td><td>0</td><td>0</td><td>0</td><td>0</td><td>0.0</td><td>0.0</td><td>0.0</td><td>0.0</td><td>0.0</td><td>0.0</td><td>0.0</td><td>777.112</td><td>0.0</td><td>0.0</td><td>0.0</td><td>0.0</td><td>0.0</td><td>0.0</td><td>0.0</td><td>0.0</td><td>0.0</td><td>1</td><td>0.0</td><td>0</td><td>0.0</td><td>0.0</td><td>0.0</td><td>0.0</td><td>0.0</td><td>&quot;SA&quot;</td></tr><tr><td>25533</td><td>1</td><td>2</td><td>2.45563</td><td>0</td><td>6</td><td>170</td><td>0.0</td><td>170.0</td><td>0</td><td>2.6482</td><td>0.0</td><td>2.6482</td><td>0.0</td><td>0</td><td>0</td><td>0</td><td>0.0</td><td>0.0</td><td>0.0</td><td>0.0</td><td>0.0</td><td>0.0</td><td>0.0</td><td>0.0</td><td>0.0</td><td>0.0</td><td>0.0</td><td>0</td><td>0</td><td>0</td><td>0</td><td>0.0</td><td>0.0</td><td>0.0</td><td>0.0</td><td>0.0</td><td>&hellip;</td><td>0</td><td>0</td><td>0</td><td>0</td><td>0</td><td>0</td><td>0</td><td>0</td><td>0</td><td>0</td><td>0</td><td>0.0</td><td>0.0</td><td>0.0</td><td>0.0</td><td>0.0</td><td>0.0</td><td>0.0</td><td>777.112</td><td>0.0</td><td>0.0</td><td>0.0</td><td>0.0</td><td>0.0</td><td>0.0</td><td>0.0</td><td>0.0</td><td>0.0</td><td>2</td><td>0.0</td><td>0</td><td>0.0</td><td>0.0</td><td>0.0</td><td>0.0</td><td>0.0</td><td>&quot;SA&quot;</td></tr><tr><td>24473</td><td>1</td><td>2</td><td>2.03555</td><td>121</td><td>0</td><td>0</td><td>0.0</td><td>0.0</td><td>0</td><td>0.0</td><td>0.0</td><td>0.0</td><td>0.0</td><td>0</td><td>0</td><td>0</td><td>0.0</td><td>0.0</td><td>0.0</td><td>0.0</td><td>0.0</td><td>0.0</td><td>0.0</td><td>0.0</td><td>0.0</td><td>0.0</td><td>0.0</td><td>0</td><td>0</td><td>0</td><td>0</td><td>296.106</td><td>0.0</td><td>136.961</td><td>159.145</td><td>21.5568</td><td>&hellip;</td><td>0</td><td>0</td><td>0</td><td>0</td><td>0</td><td>0</td><td>0</td><td>0</td><td>0</td><td>0</td><td>0</td><td>0.887889</td><td>154.544</td><td>7.85294</td><td>0.0</td><td>156.181</td><td>12.7199</td><td>0.0</td><td>43885.5</td><td>27.918172</td><td>0.0</td><td>0.0</td><td>0.0</td><td>0.0</td><td>88.42</td><td>0.0</td><td>13.22017</td><td>0.0</td><td>2</td><td>0.802918</td><td>0</td><td>0.0</td><td>0.565131</td><td>0.0</td><td>0.843649</td><td>0.0</td><td>&quot;SA&quot;</td></tr><tr><td>25533</td><td>1</td><td>3</td><td>2.45563</td><td>0</td><td>11</td><td>170</td><td>0.0</td><td>170.0</td><td>0</td><td>4.0775</td><td>0.0</td><td>4.0775</td><td>0.0</td><td>0</td><td>0</td><td>0</td><td>0.0</td><td>0.0</td><td>0.0</td><td>0.0</td><td>0.0</td><td>0.0</td><td>0.0</td><td>0.0</td><td>0.0</td><td>0.0</td><td>0.0</td><td>0</td><td>0</td><td>0</td><td>0</td><td>0.0</td><td>0.0</td><td>0.0</td><td>0.0</td><td>0.0</td><td>&hellip;</td><td>0</td><td>0</td><td>0</td><td>0</td><td>0</td><td>0</td><td>0</td><td>0</td><td>0</td><td>0</td><td>0</td><td>0.0</td><td>0.0</td><td>0.0</td><td>0.0</td><td>0.0</td><td>0.0</td><td>0.0</td><td>777.112</td><td>0.0</td><td>0.0</td><td>0.0</td><td>0.0</td><td>0.0</td><td>0.0</td><td>0.0</td><td>0.0</td><td>0.0</td><td>3</td><td>0.0</td><td>0</td><td>0.0</td><td>0.0</td><td>0.0</td><td>0.0</td><td>0.0</td><td>&quot;SA&quot;</td></tr><tr><td>&hellip;</td><td>&hellip;</td><td>&hellip;</td><td>&hellip;</td><td>&hellip;</td><td>&hellip;</td><td>&hellip;</td><td>&hellip;</td><td>&hellip;</td><td>&hellip;</td><td>&hellip;</td><td>&hellip;</td><td>&hellip;</td><td>&hellip;</td><td>&hellip;</td><td>&hellip;</td><td>&hellip;</td><td>&hellip;</td><td>&hellip;</td><td>&hellip;</td><td>&hellip;</td><td>&hellip;</td><td>&hellip;</td><td>&hellip;</td><td>&hellip;</td><td>&hellip;</td><td>&hellip;</td><td>&hellip;</td><td>&hellip;</td><td>&hellip;</td><td>&hellip;</td><td>&hellip;</td><td>&hellip;</td><td>&hellip;</td><td>&hellip;</td><td>&hellip;</td><td>&hellip;</td><td>&hellip;</td><td>&hellip;</td><td>&hellip;</td><td>&hellip;</td><td>&hellip;</td><td>&hellip;</td><td>&hellip;</td><td>&hellip;</td><td>&hellip;</td><td>&hellip;</td><td>&hellip;</td><td>&hellip;</td><td>&hellip;</td><td>&hellip;</td><td>&hellip;</td><td>&hellip;</td><td>&hellip;</td><td>&hellip;</td><td>&hellip;</td><td>&hellip;</td><td>&hellip;</td><td>&hellip;</td><td>&hellip;</td><td>&hellip;</td><td>&hellip;</td><td>&hellip;</td><td>&hellip;</td><td>&hellip;</td><td>&hellip;</td><td>&hellip;</td><td>&hellip;</td><td>&hellip;</td><td>&hellip;</td><td>&hellip;</td><td>&hellip;</td><td>&hellip;</td><td>&hellip;</td><td>&hellip;</td></tr><tr><td>61166</td><td>5</td><td>10</td><td>0.389153</td><td>61</td><td>0</td><td>0</td><td>0.0</td><td>0.0</td><td>0</td><td>0.0</td><td>0.0</td><td>0.0</td><td>0.0</td><td>0</td><td>19</td><td>63</td><td>142393.0</td><td>45009.0</td><td>97384.0</td><td>280.287</td><td>140.143</td><td>140.143</td><td>0.0</td><td>135.421</td><td>135.421</td><td>135.421</td><td>0.0</td><td>0</td><td>0</td><td>0</td><td>0</td><td>0.0</td><td>0.0</td><td>0.0</td><td>0.0</td><td>0.0</td><td>&hellip;</td><td>0</td><td>0</td><td>0</td><td>0</td><td>0</td><td>0</td><td>0</td><td>0</td><td>0</td><td>0</td><td>0</td><td>0.0</td><td>98.2422</td><td>10.7366</td><td>0.0</td><td>0.0</td><td>26.0607</td><td>0.0</td><td>31725.6</td><td>14.841899</td><td>4.797826</td><td>3.260281</td><td>3.281431</td><td>1.12436</td><td>194.1876</td><td>194.1876</td><td>18.91532</td><td>18.91532</td><td>10</td><td>0.01143</td><td>0</td><td>0.0</td><td>0.015026</td><td>0.0</td><td>0.0</td><td>280.287</td><td>&quot;INT&quot;</td></tr><tr><td>61166</td><td>6</td><td>10</td><td>0.389153</td><td>0</td><td>5</td><td>3800</td><td>1910.0</td><td>90.0</td><td>1800</td><td>0.65</td><td>0.65</td><td>0.65</td><td>0.0</td><td>0</td><td>0</td><td>0</td><td>0.0</td><td>0.0</td><td>0.0</td><td>0.0</td><td>0.0</td><td>0.0</td><td>0.0</td><td>0.0</td><td>0.0</td><td>0.0</td><td>0.0</td><td>0</td><td>0</td><td>0</td><td>0</td><td>0.0</td><td>0.0</td><td>0.0</td><td>0.0</td><td>0.0</td><td>&hellip;</td><td>0</td><td>0</td><td>0</td><td>0</td><td>0</td><td>0</td><td>0</td><td>0</td><td>0</td><td>0</td><td>0</td><td>0.0</td><td>0.0</td><td>23.4304</td><td>0.0</td><td>0.0</td><td>15.8551</td><td>0.0</td><td>29261.1</td><td>6.522975</td><td>4.797826</td><td>3.260281</td><td>3.281431</td><td>1.12436</td><td>163.3861</td><td>163.3861</td><td>14.57784</td><td>14.57784</td><td>10</td><td>0.0</td><td>0</td><td>0.0</td><td>0.0</td><td>0.0</td><td>0.0</td><td>244.466</td><td>&quot;EXT&quot;</td></tr><tr><td>61166</td><td>7</td><td>10</td><td>0.389153</td><td>0</td><td>0</td><td>5200</td><td>1600.0</td><td>100.0</td><td>3500</td><td>0.0</td><td>0.0</td><td>0.0</td><td>0.0</td><td>0</td><td>0</td><td>0</td><td>0.0</td><td>0.0</td><td>0.0</td><td>0.0</td><td>0.0</td><td>0.0</td><td>0.0</td><td>0.0</td><td>0.0</td><td>0.0</td><td>0.0</td><td>0</td><td>0</td><td>0</td><td>0</td><td>0.0</td><td>0.0</td><td>0.0</td><td>0.0</td><td>0.0</td><td>&hellip;</td><td>0</td><td>0</td><td>0</td><td>0</td><td>0</td><td>0</td><td>0</td><td>0</td><td>0</td><td>0</td><td>0</td><td>0.0</td><td>0.0</td><td>23.4304</td><td>0.0</td><td>0.0</td><td>15.8551</td><td>0.0</td><td>32535.6</td><td>6.522975</td><td>4.797826</td><td>3.260281</td><td>3.281431</td><td>1.12436</td><td>163.3861</td><td>163.3861</td><td>14.57784</td><td>14.57784</td><td>10</td><td>0.0</td><td>0</td><td>0.0</td><td>0.0</td><td>0.0</td><td>0.0</td><td>244.466</td><td>&quot;EXT&quot;</td></tr><tr><td>61166</td><td>8</td><td>10</td><td>0.389153</td><td>0</td><td>10</td><td>3800</td><td>1910.0</td><td>90.0</td><td>1800</td><td>1.10386</td><td>1.10386</td><td>1.10386</td><td>0.65</td><td>0</td><td>0</td><td>0</td><td>0.0</td><td>0.0</td><td>0.0</td><td>0.0</td><td>0.0</td><td>0.0</td><td>0.0</td><td>0.0</td><td>0.0</td><td>0.0</td><td>0.0</td><td>0</td><td>0</td><td>0</td><td>0</td><td>0.0</td><td>0.0</td><td>0.0</td><td>0.0</td><td>0.0</td><td>&hellip;</td><td>0</td><td>0</td><td>0</td><td>0</td><td>0</td><td>0</td><td>0</td><td>0</td><td>0</td><td>0</td><td>0</td><td>0.0</td><td>0.0</td><td>13.9353</td><td>0.0</td><td>0.0</td><td>9.79973</td><td>0.0</td><td>29397.9</td><td>0.0</td><td>4.797826</td><td>3.260281</td><td>3.281431</td><td>1.12436</td><td>134.7973</td><td>134.7973</td><td>10.8871</td><td>10.8871</td><td>10</td><td>0.0</td><td>0</td><td>0.0</td><td>0.0</td><td>0.0</td><td>0.0</td><td>208.015</td><td>&quot;EXT&quot;</td></tr><tr><td>61166</td><td>9</td><td>10</td><td>0.389153</td><td>0</td><td>5</td><td>5200</td><td>1600.0</td><td>100.0</td><td>3500</td><td>0.65</td><td>0.65</td><td>0.65</td><td>0.65</td><td>0</td><td>0</td><td>0</td><td>0.0</td><td>0.0</td><td>0.0</td><td>0.0</td><td>0.0</td><td>0.0</td><td>0.0</td><td>0.0</td><td>0.0</td><td>0.0</td><td>0.0</td><td>0</td><td>0</td><td>0</td><td>0</td><td>0.0</td><td>0.0</td><td>0.0</td><td>0.0</td><td>0.0</td><td>&hellip;</td><td>0</td><td>0</td><td>0</td><td>0</td><td>0</td><td>0</td><td>0</td><td>0</td><td>0</td><td>0</td><td>0</td><td>0.0</td><td>0.0</td><td>13.9353</td><td>0.0</td><td>0.0</td><td>9.79973</td><td>0.0</td><td>32471.2</td><td>0.0</td><td>4.797826</td><td>3.260281</td><td>3.281431</td><td>1.12436</td><td>134.7973</td><td>134.7973</td><td>10.8871</td><td>10.8871</td><td>10</td><td>0.0</td><td>0</td><td>0.0</td><td>0.0</td><td>0.0</td><td>0.0</td><td>208.015</td><td>&quot;EXT&quot;</td></tr></tbody></table></div>"
      ],
      "text/plain": [
       "shape: (296_440, 100)\n",
       "┌───────┬────────┬──────┬──────────┬───┬─────┬──────────┬─────────────────┬─────────────────┐\n",
       "│ id    ┆ branch ┆ year ┆ area     ┆ … ┆ SFS ┆ LTT      ┆ sum_Harvested_V ┆ branching_group │\n",
       "│ ---   ┆ ---    ┆ ---  ┆ ---      ┆   ┆ --- ┆ ---      ┆ ---             ┆ ---             │\n",
       "│ i64   ┆ i64    ┆ i64  ┆ f64      ┆   ┆ f64 ┆ f64      ┆ f64             ┆ str             │\n",
       "╞═══════╪════════╪══════╪══════════╪═══╪═════╪══════════╪═════════════════╪═════════════════╡\n",
       "│ 24473 ┆ 1      ┆ 1    ┆ 2.03555  ┆ … ┆ 0.0 ┆ 0.84365  ┆ 0.0             ┆ SA              │\n",
       "│ 25533 ┆ 1      ┆ 1    ┆ 2.45563  ┆ … ┆ 0.0 ┆ 0.0      ┆ 0.0             ┆ SA              │\n",
       "│ 25533 ┆ 1      ┆ 2    ┆ 2.45563  ┆ … ┆ 0.0 ┆ 0.0      ┆ 0.0             ┆ SA              │\n",
       "│ 24473 ┆ 1      ┆ 2    ┆ 2.03555  ┆ … ┆ 0.0 ┆ 0.843649 ┆ 0.0             ┆ SA              │\n",
       "│ 25533 ┆ 1      ┆ 3    ┆ 2.45563  ┆ … ┆ 0.0 ┆ 0.0      ┆ 0.0             ┆ SA              │\n",
       "│ …     ┆ …      ┆ …    ┆ …        ┆ … ┆ …   ┆ …        ┆ …               ┆ …               │\n",
       "│ 61166 ┆ 5      ┆ 10   ┆ 0.389153 ┆ … ┆ 0.0 ┆ 0.0      ┆ 280.287         ┆ INT             │\n",
       "│ 61166 ┆ 6      ┆ 10   ┆ 0.389153 ┆ … ┆ 0.0 ┆ 0.0      ┆ 244.466         ┆ EXT             │\n",
       "│ 61166 ┆ 7      ┆ 10   ┆ 0.389153 ┆ … ┆ 0.0 ┆ 0.0      ┆ 244.466         ┆ EXT             │\n",
       "│ 61166 ┆ 8      ┆ 10   ┆ 0.389153 ┆ … ┆ 0.0 ┆ 0.0      ┆ 208.015         ┆ EXT             │\n",
       "│ 61166 ┆ 9      ┆ 10   ┆ 0.389153 ┆ … ┆ 0.0 ┆ 0.0      ┆ 208.015         ┆ EXT             │\n",
       "└───────┴────────┴──────┴──────────┴───┴─────┴──────────┴─────────────────┴─────────────────┘"
      ]
     },
     "execution_count": 18,
     "metadata": {},
     "output_type": "execute_result"
    }
   ],
   "source": [
    "grouped_sum = regime_data.group_by([\"id\", \"branch\"]).agg(pl.col(\"Harvested_V\").sum().alias(\"sum_Harvested_V\"))\n",
    "threshold = grouped_sum.mean()[\"sum_Harvested_V\"][0]\n",
    "\n",
    "regime_data_w_sums = regime_data.join(grouped_sum.select([\"id\", \"branch\", \"sum_Harvested_V\"]), on=[\"id\", \"branch\"], how=\"left\")\n",
    "\n",
    "result_column = (\n",
    "    pl.when(pl.col(\"sum_Harvested_V\") == 0)\n",
    "    .then(pl.lit(\"SA\"))\n",
    "    .when(pl.col(\"sum_Harvested_V\") <= threshold)\n",
    "    .then(pl.lit(\"EXT\"))\n",
    "    .otherwise(pl.lit(\"INT\"))\n",
    "    .alias(\"branching_group\")\n",
    ")\n",
    "\n",
    "regime_data = regime_data_w_sums.with_columns(result_column)\n",
    "\n",
    "regime_data"
   ]
  },
  {
   "cell_type": "markdown",
   "id": "ad293033-5e02-41d9-b05f-94b77e681b0f",
   "metadata": {},
   "source": [
    "# Combine the dataframes"
   ]
  },
  {
   "cell_type": "code",
   "execution_count": 61,
   "id": "ec78460b-5013-4c04-b7be-3784d0e4894e",
   "metadata": {},
   "outputs": [
    {
     "data": {
      "text/html": [
       "<div><style>\n",
       ".dataframe > thead > tr,\n",
       ".dataframe > tbody > tr {\n",
       "  text-align: right;\n",
       "  white-space: pre-wrap;\n",
       "}\n",
       "</style>\n",
       "<small>shape: (296_450, 103)</small><table border=\"1\" class=\"dataframe\"><thead><tr><th>id</th><th>branch</th><th>year</th><th>area</th><th>age</th><th>reg_age</th><th>reg_n</th><th>reg_n_S</th><th>reg_n_P</th><th>reg_n_B</th><th>reg_hDom</th><th>reg_hDom_S</th><th>reg_hDom_P</th><th>reg_hDom_B</th><th>reg_d</th><th>Tr</th><th>Rg</th><th>INC</th><th>COST</th><th>Net</th><th>Harvested_V</th><th>Harvested_V_S</th><th>Harvested_V_P</th><th>Harvested_V_B</th><th>Harvested_V_log</th><th>Harvested_V_log_S</th><th>Harvested_V_log_P</th><th>Harvested_V_log_B</th><th>Harvested_V_pulp</th><th>Harvested_V_pulp_S</th><th>Harvested_V_pulp_P</th><th>Harvested_V_pulp_B</th><th>n</th><th>n_S</th><th>n_P</th><th>n_B</th><th>h</th><th>&hellip;</th><th>h_mort_birch.1</th><th>d_mort.1</th><th>d_mort_spruce.1</th><th>d_mort_pine.1</th><th>d_mort_birch.1</th><th>ba_mort.1</th><th>ba_mort_spruce.1</th><th>ba_mort_pine.1</th><th>ba_mort_birch.1</th><th>biomass</th><th>soil</th><th>products</th><th>biomass.1</th><th>soil.1</th><th>products.1</th><th>NPV</th><th>Decay_class_1_volume</th><th>Decay_class_2_volume</th><th>Decay_class_3_volume</th><th>Decay_class_4_volume</th><th>Decay_class_5_volume</th><th>d_mort_pine_y</th><th>d_mort_spruce_y</th><th>vol_mort_pine_y</th><th>vol_mort_spruce_y</th><th>year.1</th><th>TTWP</th><th>CAP</th><th>HAZ</th><th>LSWP</th><th>SFS</th><th>LTT</th><th></th><th>_duplicated_0</th><th>_duplicated_1</th><th>Forest_own</th><th>geometry</th></tr><tr><td>i64</td><td>i64</td><td>i64</td><td>f64</td><td>i64</td><td>i64</td><td>i64</td><td>f64</td><td>f64</td><td>i64</td><td>f64</td><td>f64</td><td>f64</td><td>f64</td><td>i64</td><td>i64</td><td>i64</td><td>f64</td><td>f64</td><td>f64</td><td>f64</td><td>f64</td><td>f64</td><td>f64</td><td>f64</td><td>f64</td><td>f64</td><td>f64</td><td>i64</td><td>i64</td><td>i64</td><td>i64</td><td>f64</td><td>f64</td><td>f64</td><td>f64</td><td>f64</td><td>&hellip;</td><td>i64</td><td>i64</td><td>i64</td><td>i64</td><td>i64</td><td>i64</td><td>i64</td><td>i64</td><td>f64</td><td>f64</td><td>f64</td><td>f64</td><td>f64</td><td>f64</td><td>f64</td><td>f64</td><td>f64</td><td>f64</td><td>f64</td><td>f64</td><td>f64</td><td>f64</td><td>f64</td><td>f64</td><td>f64</td><td>i64</td><td>f64</td><td>i64</td><td>f64</td><td>f64</td><td>f64</td><td>f64</td><td>str</td><td>f64</td><td>str</td><td>i64</td><td>str</td></tr></thead><tbody><tr><td>24473</td><td>1</td><td>1</td><td>2.03555</td><td>116</td><td>0</td><td>0</td><td>0.0</td><td>0.0</td><td>0</td><td>0.0</td><td>0.0</td><td>0.0</td><td>0.0</td><td>0</td><td>0</td><td>0</td><td>0.0</td><td>0.0</td><td>0.0</td><td>0.0</td><td>0.0</td><td>0.0</td><td>0.0</td><td>0.0</td><td>0.0</td><td>0.0</td><td>0.0</td><td>0</td><td>0</td><td>0</td><td>0</td><td>307.0</td><td>0.0</td><td>142.0</td><td>165.0</td><td>21.1219</td><td>&hellip;</td><td>0</td><td>0</td><td>0</td><td>0</td><td>0</td><td>0</td><td>0</td><td>0</td><td>0.877308</td><td>152.553</td><td>0.0</td><td>0.0</td><td>154.544</td><td>7.85294</td><td>0.0</td><td>43885.5</td><td>13.997524</td><td>0.0</td><td>0.0</td><td>0.0</td><td>0.0</td><td>43.6782</td><td>0.0</td><td>6.51497</td><td>0.0</td><td>1</td><td>0.791623</td><td>0</td><td>0.0</td><td>0.539321</td><td>0.0</td><td>0.84365</td><td>null</td><td>null</td><td>null</td><td>211</td><td>&quot;POLYGON ((608511.693783 659739…</td></tr><tr><td>25533</td><td>1</td><td>1</td><td>2.45563</td><td>0</td><td>1</td><td>170</td><td>0.0</td><td>170.0</td><td>0</td><td>1.35618</td><td>0.0</td><td>1.35618</td><td>0.0</td><td>0</td><td>0</td><td>0</td><td>0.0</td><td>0.0</td><td>0.0</td><td>0.0</td><td>0.0</td><td>0.0</td><td>0.0</td><td>0.0</td><td>0.0</td><td>0.0</td><td>0.0</td><td>0</td><td>0</td><td>0</td><td>0</td><td>0.0</td><td>0.0</td><td>0.0</td><td>0.0</td><td>0.0</td><td>&hellip;</td><td>0</td><td>0</td><td>0</td><td>0</td><td>0</td><td>0</td><td>0</td><td>0</td><td>0.0</td><td>0.0</td><td>0.0</td><td>0.0</td><td>0.0</td><td>0.0</td><td>0.0</td><td>777.112</td><td>0.0</td><td>0.0</td><td>0.0</td><td>0.0</td><td>0.0</td><td>0.0</td><td>0.0</td><td>0.0</td><td>0.0</td><td>1</td><td>0.0</td><td>0</td><td>0.0</td><td>0.0</td><td>0.0</td><td>0.0</td><td>null</td><td>null</td><td>null</td><td>114</td><td>&quot;POLYGON ((607326.931065 659950…</td></tr><tr><td>25533</td><td>1</td><td>2</td><td>2.45563</td><td>0</td><td>6</td><td>170</td><td>0.0</td><td>170.0</td><td>0</td><td>2.6482</td><td>0.0</td><td>2.6482</td><td>0.0</td><td>0</td><td>0</td><td>0</td><td>0.0</td><td>0.0</td><td>0.0</td><td>0.0</td><td>0.0</td><td>0.0</td><td>0.0</td><td>0.0</td><td>0.0</td><td>0.0</td><td>0.0</td><td>0</td><td>0</td><td>0</td><td>0</td><td>0.0</td><td>0.0</td><td>0.0</td><td>0.0</td><td>0.0</td><td>&hellip;</td><td>0</td><td>0</td><td>0</td><td>0</td><td>0</td><td>0</td><td>0</td><td>0</td><td>0.0</td><td>0.0</td><td>0.0</td><td>0.0</td><td>0.0</td><td>0.0</td><td>0.0</td><td>777.112</td><td>0.0</td><td>0.0</td><td>0.0</td><td>0.0</td><td>0.0</td><td>0.0</td><td>0.0</td><td>0.0</td><td>0.0</td><td>2</td><td>0.0</td><td>0</td><td>0.0</td><td>0.0</td><td>0.0</td><td>0.0</td><td>null</td><td>null</td><td>null</td><td>114</td><td>&quot;POLYGON ((607326.931065 659950…</td></tr><tr><td>24473</td><td>1</td><td>2</td><td>2.03555</td><td>121</td><td>0</td><td>0</td><td>0.0</td><td>0.0</td><td>0</td><td>0.0</td><td>0.0</td><td>0.0</td><td>0.0</td><td>0</td><td>0</td><td>0</td><td>0.0</td><td>0.0</td><td>0.0</td><td>0.0</td><td>0.0</td><td>0.0</td><td>0.0</td><td>0.0</td><td>0.0</td><td>0.0</td><td>0.0</td><td>0</td><td>0</td><td>0</td><td>0</td><td>296.106</td><td>0.0</td><td>136.961</td><td>159.145</td><td>21.5568</td><td>&hellip;</td><td>0</td><td>0</td><td>0</td><td>0</td><td>0</td><td>0</td><td>0</td><td>0</td><td>0.887889</td><td>154.544</td><td>7.85294</td><td>0.0</td><td>156.181</td><td>12.7199</td><td>0.0</td><td>43885.5</td><td>27.918172</td><td>0.0</td><td>0.0</td><td>0.0</td><td>0.0</td><td>88.42</td><td>0.0</td><td>13.22017</td><td>0.0</td><td>2</td><td>0.802918</td><td>0</td><td>0.0</td><td>0.565131</td><td>0.0</td><td>0.843649</td><td>null</td><td>null</td><td>null</td><td>211</td><td>&quot;POLYGON ((608511.693783 659739…</td></tr><tr><td>25533</td><td>1</td><td>3</td><td>2.45563</td><td>0</td><td>11</td><td>170</td><td>0.0</td><td>170.0</td><td>0</td><td>4.0775</td><td>0.0</td><td>4.0775</td><td>0.0</td><td>0</td><td>0</td><td>0</td><td>0.0</td><td>0.0</td><td>0.0</td><td>0.0</td><td>0.0</td><td>0.0</td><td>0.0</td><td>0.0</td><td>0.0</td><td>0.0</td><td>0.0</td><td>0</td><td>0</td><td>0</td><td>0</td><td>0.0</td><td>0.0</td><td>0.0</td><td>0.0</td><td>0.0</td><td>&hellip;</td><td>0</td><td>0</td><td>0</td><td>0</td><td>0</td><td>0</td><td>0</td><td>0</td><td>0.0</td><td>0.0</td><td>0.0</td><td>0.0</td><td>0.0</td><td>0.0</td><td>0.0</td><td>777.112</td><td>0.0</td><td>0.0</td><td>0.0</td><td>0.0</td><td>0.0</td><td>0.0</td><td>0.0</td><td>0.0</td><td>0.0</td><td>3</td><td>0.0</td><td>0</td><td>0.0</td><td>0.0</td><td>0.0</td><td>0.0</td><td>null</td><td>null</td><td>null</td><td>114</td><td>&quot;POLYGON ((607326.931065 659950…</td></tr><tr><td>&hellip;</td><td>&hellip;</td><td>&hellip;</td><td>&hellip;</td><td>&hellip;</td><td>&hellip;</td><td>&hellip;</td><td>&hellip;</td><td>&hellip;</td><td>&hellip;</td><td>&hellip;</td><td>&hellip;</td><td>&hellip;</td><td>&hellip;</td><td>&hellip;</td><td>&hellip;</td><td>&hellip;</td><td>&hellip;</td><td>&hellip;</td><td>&hellip;</td><td>&hellip;</td><td>&hellip;</td><td>&hellip;</td><td>&hellip;</td><td>&hellip;</td><td>&hellip;</td><td>&hellip;</td><td>&hellip;</td><td>&hellip;</td><td>&hellip;</td><td>&hellip;</td><td>&hellip;</td><td>&hellip;</td><td>&hellip;</td><td>&hellip;</td><td>&hellip;</td><td>&hellip;</td><td>&hellip;</td><td>&hellip;</td><td>&hellip;</td><td>&hellip;</td><td>&hellip;</td><td>&hellip;</td><td>&hellip;</td><td>&hellip;</td><td>&hellip;</td><td>&hellip;</td><td>&hellip;</td><td>&hellip;</td><td>&hellip;</td><td>&hellip;</td><td>&hellip;</td><td>&hellip;</td><td>&hellip;</td><td>&hellip;</td><td>&hellip;</td><td>&hellip;</td><td>&hellip;</td><td>&hellip;</td><td>&hellip;</td><td>&hellip;</td><td>&hellip;</td><td>&hellip;</td><td>&hellip;</td><td>&hellip;</td><td>&hellip;</td><td>&hellip;</td><td>&hellip;</td><td>&hellip;</td><td>&hellip;</td><td>&hellip;</td><td>&hellip;</td><td>&hellip;</td><td>&hellip;</td><td>&hellip;</td></tr><tr><td>61166</td><td>5</td><td>10</td><td>0.389153</td><td>61</td><td>0</td><td>0</td><td>0.0</td><td>0.0</td><td>0</td><td>0.0</td><td>0.0</td><td>0.0</td><td>0.0</td><td>0</td><td>19</td><td>63</td><td>142393.0</td><td>45009.0</td><td>97384.0</td><td>280.287</td><td>140.143</td><td>140.143</td><td>0.0</td><td>135.421</td><td>135.421</td><td>135.421</td><td>0.0</td><td>0</td><td>0</td><td>0</td><td>0</td><td>0.0</td><td>0.0</td><td>0.0</td><td>0.0</td><td>0.0</td><td>&hellip;</td><td>0</td><td>0</td><td>0</td><td>0</td><td>0</td><td>0</td><td>0</td><td>0</td><td>0.0</td><td>98.2422</td><td>10.7366</td><td>0.0</td><td>0.0</td><td>26.0607</td><td>0.0</td><td>31725.6</td><td>14.841899</td><td>4.797826</td><td>3.260281</td><td>3.281431</td><td>1.12436</td><td>194.1876</td><td>194.1876</td><td>18.91532</td><td>18.91532</td><td>10</td><td>0.01143</td><td>0</td><td>0.0</td><td>0.015026</td><td>0.0</td><td>0.0</td><td>null</td><td>null</td><td>null</td><td>222</td><td>&quot;POLYGON ((607587.283292 659910…</td></tr><tr><td>61166</td><td>6</td><td>10</td><td>0.389153</td><td>0</td><td>5</td><td>3800</td><td>1910.0</td><td>90.0</td><td>1800</td><td>0.65</td><td>0.65</td><td>0.65</td><td>0.0</td><td>0</td><td>0</td><td>0</td><td>0.0</td><td>0.0</td><td>0.0</td><td>0.0</td><td>0.0</td><td>0.0</td><td>0.0</td><td>0.0</td><td>0.0</td><td>0.0</td><td>0.0</td><td>0</td><td>0</td><td>0</td><td>0</td><td>0.0</td><td>0.0</td><td>0.0</td><td>0.0</td><td>0.0</td><td>&hellip;</td><td>0</td><td>0</td><td>0</td><td>0</td><td>0</td><td>0</td><td>0</td><td>0</td><td>0.0</td><td>0.0</td><td>23.4304</td><td>0.0</td><td>0.0</td><td>15.8551</td><td>0.0</td><td>29261.1</td><td>6.522975</td><td>4.797826</td><td>3.260281</td><td>3.281431</td><td>1.12436</td><td>163.3861</td><td>163.3861</td><td>14.57784</td><td>14.57784</td><td>10</td><td>0.0</td><td>0</td><td>0.0</td><td>0.0</td><td>0.0</td><td>0.0</td><td>null</td><td>null</td><td>null</td><td>222</td><td>&quot;POLYGON ((607587.283292 659910…</td></tr><tr><td>61166</td><td>7</td><td>10</td><td>0.389153</td><td>0</td><td>0</td><td>5200</td><td>1600.0</td><td>100.0</td><td>3500</td><td>0.0</td><td>0.0</td><td>0.0</td><td>0.0</td><td>0</td><td>0</td><td>0</td><td>0.0</td><td>0.0</td><td>0.0</td><td>0.0</td><td>0.0</td><td>0.0</td><td>0.0</td><td>0.0</td><td>0.0</td><td>0.0</td><td>0.0</td><td>0</td><td>0</td><td>0</td><td>0</td><td>0.0</td><td>0.0</td><td>0.0</td><td>0.0</td><td>0.0</td><td>&hellip;</td><td>0</td><td>0</td><td>0</td><td>0</td><td>0</td><td>0</td><td>0</td><td>0</td><td>0.0</td><td>0.0</td><td>23.4304</td><td>0.0</td><td>0.0</td><td>15.8551</td><td>0.0</td><td>32535.6</td><td>6.522975</td><td>4.797826</td><td>3.260281</td><td>3.281431</td><td>1.12436</td><td>163.3861</td><td>163.3861</td><td>14.57784</td><td>14.57784</td><td>10</td><td>0.0</td><td>0</td><td>0.0</td><td>0.0</td><td>0.0</td><td>0.0</td><td>null</td><td>null</td><td>null</td><td>222</td><td>&quot;POLYGON ((607587.283292 659910…</td></tr><tr><td>61166</td><td>8</td><td>10</td><td>0.389153</td><td>0</td><td>10</td><td>3800</td><td>1910.0</td><td>90.0</td><td>1800</td><td>1.10386</td><td>1.10386</td><td>1.10386</td><td>0.65</td><td>0</td><td>0</td><td>0</td><td>0.0</td><td>0.0</td><td>0.0</td><td>0.0</td><td>0.0</td><td>0.0</td><td>0.0</td><td>0.0</td><td>0.0</td><td>0.0</td><td>0.0</td><td>0</td><td>0</td><td>0</td><td>0</td><td>0.0</td><td>0.0</td><td>0.0</td><td>0.0</td><td>0.0</td><td>&hellip;</td><td>0</td><td>0</td><td>0</td><td>0</td><td>0</td><td>0</td><td>0</td><td>0</td><td>0.0</td><td>0.0</td><td>13.9353</td><td>0.0</td><td>0.0</td><td>9.79973</td><td>0.0</td><td>29397.9</td><td>0.0</td><td>4.797826</td><td>3.260281</td><td>3.281431</td><td>1.12436</td><td>134.7973</td><td>134.7973</td><td>10.8871</td><td>10.8871</td><td>10</td><td>0.0</td><td>0</td><td>0.0</td><td>0.0</td><td>0.0</td><td>0.0</td><td>null</td><td>null</td><td>null</td><td>222</td><td>&quot;POLYGON ((607587.283292 659910…</td></tr><tr><td>61166</td><td>9</td><td>10</td><td>0.389153</td><td>0</td><td>5</td><td>5200</td><td>1600.0</td><td>100.0</td><td>3500</td><td>0.65</td><td>0.65</td><td>0.65</td><td>0.65</td><td>0</td><td>0</td><td>0</td><td>0.0</td><td>0.0</td><td>0.0</td><td>0.0</td><td>0.0</td><td>0.0</td><td>0.0</td><td>0.0</td><td>0.0</td><td>0.0</td><td>0.0</td><td>0</td><td>0</td><td>0</td><td>0</td><td>0.0</td><td>0.0</td><td>0.0</td><td>0.0</td><td>0.0</td><td>&hellip;</td><td>0</td><td>0</td><td>0</td><td>0</td><td>0</td><td>0</td><td>0</td><td>0</td><td>0.0</td><td>0.0</td><td>13.9353</td><td>0.0</td><td>0.0</td><td>9.79973</td><td>0.0</td><td>32471.2</td><td>0.0</td><td>4.797826</td><td>3.260281</td><td>3.281431</td><td>1.12436</td><td>134.7973</td><td>134.7973</td><td>10.8871</td><td>10.8871</td><td>10</td><td>0.0</td><td>0</td><td>0.0</td><td>0.0</td><td>0.0</td><td>0.0</td><td>null</td><td>null</td><td>null</td><td>222</td><td>&quot;POLYGON ((607587.283292 659910…</td></tr></tbody></table></div>"
      ],
      "text/plain": [
       "shape: (296_450, 103)\n",
       "┌───────┬────────┬──────┬──────────┬───┬───────────────┬───────────────┬────────────┬──────────────┐\n",
       "│ id    ┆ branch ┆ year ┆ area     ┆ … ┆ _duplicated_0 ┆ _duplicated_1 ┆ Forest_own ┆ geometry     │\n",
       "│ ---   ┆ ---    ┆ ---  ┆ ---      ┆   ┆ ---           ┆ ---           ┆ ---        ┆ ---          │\n",
       "│ i64   ┆ i64    ┆ i64  ┆ f64      ┆   ┆ f64           ┆ str           ┆ i64        ┆ str          │\n",
       "╞═══════╪════════╪══════╪══════════╪═══╪═══════════════╪═══════════════╪════════════╪══════════════╡\n",
       "│ 24473 ┆ 1      ┆ 1    ┆ 2.03555  ┆ … ┆ null          ┆ null          ┆ 211        ┆ POLYGON ((60 │\n",
       "│       ┆        ┆      ┆          ┆   ┆               ┆               ┆            ┆ 8511.693783  │\n",
       "│       ┆        ┆      ┆          ┆   ┆               ┆               ┆            ┆ 659739…      │\n",
       "│ 25533 ┆ 1      ┆ 1    ┆ 2.45563  ┆ … ┆ null          ┆ null          ┆ 114        ┆ POLYGON ((60 │\n",
       "│       ┆        ┆      ┆          ┆   ┆               ┆               ┆            ┆ 7326.931065  │\n",
       "│       ┆        ┆      ┆          ┆   ┆               ┆               ┆            ┆ 659950…      │\n",
       "│ 25533 ┆ 1      ┆ 2    ┆ 2.45563  ┆ … ┆ null          ┆ null          ┆ 114        ┆ POLYGON ((60 │\n",
       "│       ┆        ┆      ┆          ┆   ┆               ┆               ┆            ┆ 7326.931065  │\n",
       "│       ┆        ┆      ┆          ┆   ┆               ┆               ┆            ┆ 659950…      │\n",
       "│ 24473 ┆ 1      ┆ 2    ┆ 2.03555  ┆ … ┆ null          ┆ null          ┆ 211        ┆ POLYGON ((60 │\n",
       "│       ┆        ┆      ┆          ┆   ┆               ┆               ┆            ┆ 8511.693783  │\n",
       "│       ┆        ┆      ┆          ┆   ┆               ┆               ┆            ┆ 659739…      │\n",
       "│ 25533 ┆ 1      ┆ 3    ┆ 2.45563  ┆ … ┆ null          ┆ null          ┆ 114        ┆ POLYGON ((60 │\n",
       "│       ┆        ┆      ┆          ┆   ┆               ┆               ┆            ┆ 7326.931065  │\n",
       "│       ┆        ┆      ┆          ┆   ┆               ┆               ┆            ┆ 659950…      │\n",
       "│ …     ┆ …      ┆ …    ┆ …        ┆ … ┆ …             ┆ …             ┆ …          ┆ …            │\n",
       "│ 61166 ┆ 5      ┆ 10   ┆ 0.389153 ┆ … ┆ null          ┆ null          ┆ 222        ┆ POLYGON ((60 │\n",
       "│       ┆        ┆      ┆          ┆   ┆               ┆               ┆            ┆ 7587.283292  │\n",
       "│       ┆        ┆      ┆          ┆   ┆               ┆               ┆            ┆ 659910…      │\n",
       "│ 61166 ┆ 6      ┆ 10   ┆ 0.389153 ┆ … ┆ null          ┆ null          ┆ 222        ┆ POLYGON ((60 │\n",
       "│       ┆        ┆      ┆          ┆   ┆               ┆               ┆            ┆ 7587.283292  │\n",
       "│       ┆        ┆      ┆          ┆   ┆               ┆               ┆            ┆ 659910…      │\n",
       "│ 61166 ┆ 7      ┆ 10   ┆ 0.389153 ┆ … ┆ null          ┆ null          ┆ 222        ┆ POLYGON ((60 │\n",
       "│       ┆        ┆      ┆          ┆   ┆               ┆               ┆            ┆ 7587.283292  │\n",
       "│       ┆        ┆      ┆          ┆   ┆               ┆               ┆            ┆ 659910…      │\n",
       "│ 61166 ┆ 8      ┆ 10   ┆ 0.389153 ┆ … ┆ null          ┆ null          ┆ 222        ┆ POLYGON ((60 │\n",
       "│       ┆        ┆      ┆          ┆   ┆               ┆               ┆            ┆ 7587.283292  │\n",
       "│       ┆        ┆      ┆          ┆   ┆               ┆               ┆            ┆ 659910…      │\n",
       "│ 61166 ┆ 9      ┆ 10   ┆ 0.389153 ┆ … ┆ null          ┆ null          ┆ 222        ┆ POLYGON ((60 │\n",
       "│       ┆        ┆      ┆          ┆   ┆               ┆               ┆            ┆ 7587.283292  │\n",
       "│       ┆        ┆      ┆          ┆   ┆               ┆               ┆            ┆ 659910…      │\n",
       "└───────┴────────┴──────┴──────────┴───┴───────────────┴───────────────┴────────────┴──────────────┘"
      ]
     },
     "execution_count": 61,
     "metadata": {},
     "output_type": "execute_result"
    }
   ],
   "source": [
    "combined = regime_data.join(\n",
    "    cluster_data,\n",
    "    left_on=\"id\",\n",
    "    right_on=\"BESTANDS_I\",\n",
    "    how=\"left\")\n",
    "\n",
    "combined"
   ]
  },
  {
   "cell_type": "code",
   "execution_count": null,
   "id": "e9cec71a-2816-4819-a450-7219c82c9525",
   "metadata": {},
   "outputs": [],
   "source": []
  }
 ],
 "metadata": {
  "kernelspec": {
   "display_name": "desides-cs2",
   "language": "python",
   "name": "desides-cs2"
  },
  "language_info": {
   "codemirror_mode": {
    "name": "ipython",
    "version": 3
   },
   "file_extension": ".py",
   "mimetype": "text/x-python",
   "name": "python",
   "nbconvert_exporter": "python",
   "pygments_lexer": "ipython3",
   "version": "3.12.5"
  }
 },
 "nbformat": 4,
 "nbformat_minor": 5
}
