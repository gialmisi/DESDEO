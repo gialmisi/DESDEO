{
 "cells": [
  {
   "cell_type": "markdown",
   "id": "26a3cf64-3f70-43b4-ac73-73895c7357a1",
   "metadata": {},
   "source": [
    "# A full example: from problem definition to solutions using interactive multiobjective optimization methods\n",
    "In this example, we will see how we can define a simple problem and how to solve it using an interactive multiobjective optimization method.\n",
    "\n",
    "## Defining a multiobjective optimization problem\n",
    "As an example, consider the following multiobjective optimization problem:\n",
    "\n",
    "$$\n",
    "\\begin{align*}\n",
    "\\min f_1(\\mathbf{x}) &= x_1^2 - c_1\\sin(x_2) \\\\\n",
    "\\min f_2(\\mathbf{x}) &= x_2^2 - \\cos(3x_1) \\\\\n",
    "\\text{s.t.}\\quad & g_1(\\mathbf{x}) = x_1 + x_2 \\leq 10, \\\\\n",
    "                 & -5 \\leq x_1 \\leq 5, \\\\\n",
    "                 & -5 \\leq x_2 \\leq 5, \\\\\n",
    "                 & c_1 = 1.5.\n",
    "\\end{align*}\n",
    "\n",
    "$$\n",
    "\n",
    "We see that we have two objective functions, $f_1$ and $f_2$, two decision variables, $\\mathbf{x} = (x_1$, $x_2),$ a constant, $c_1 = 2.5$, and a constraint $g_1$. The values of the decision variables are also bound\n",
    "to be between $-5$ and $5$.\n",
    "\n",
    "To begin, we will need to import relevant code from DESDEO first:"
   ]
  },
  {
   "cell_type": "code",
   "execution_count": 1,
   "id": "5a4cbab8-719e-476c-8f42-bc1376bd2842",
   "metadata": {},
   "outputs": [],
   "source": [
    "from desdeo.problem import Constant, Constraint, ConstraintTypeEnum, Variable, Problem, Objective, VariableTypeEnum\n",
    "\n",
    "# These are to just suppress warnings in the outputs of the example\n",
    "import warnings\n",
    "\n",
    "warnings.filterwarnings(\"ignore\")"
   ]
  },
  {
   "cell_type": "markdown",
   "id": "9290bf53",
   "metadata": {},
   "source": [
    "## Defining constants and variables\n",
    "Next, we will define the constants and variables. With constants and variables, the attribute `symbol` is very important, as it will be used later in function definitions."
   ]
  },
  {
   "cell_type": "code",
   "execution_count": 2,
   "id": "712ae143",
   "metadata": {},
   "outputs": [],
   "source": [
    "variable_x_1 = Variable(\n",
    "    name=\"The first variable, x_1\",\n",
    "    symbol=\"x_1\",\n",
    "    variable_type=VariableTypeEnum.real,\n",
    "    lowerbound=-5.0,\n",
    "    upperbound=5.0,\n",
    "    initial_value=1.0,\n",
    ")\n",
    "variable_x_2 = Variable(\n",
    "    name=\"The first variable, x_2\",\n",
    "    symbol=\"x_2\",\n",
    "    variable_type=VariableTypeEnum.real,\n",
    "    lowerbound=-5.0,\n",
    "    upperbound=5.0,\n",
    "    initial_value=1.0,\n",
    ")"
   ]
  },
  {
   "cell_type": "markdown",
   "id": "cd5a1dce",
   "metadata": {},
   "source": [
    "We have defined the variables to be a real numbers by setting the attribute `variable_type=VariableTypeEnum.real`, and we have bound their values by setting the `lowerbound` and `upperbound` attributes. The `initial_value` of the variables have also been set. Notice that the `name` of the variable is only important in providing information about the variable.\n",
    "\n",
    "Similar to variables, we can define our constant $c_1$:"
   ]
  },
  {
   "cell_type": "code",
   "execution_count": 3,
   "id": "de97c866",
   "metadata": {},
   "outputs": [],
   "source": [
    "constant_c_1 = Constant(name=\"The constant c_1\", symbol=\"c_1\", value=1.5)"
   ]
  },
  {
   "cell_type": "markdown",
   "id": "0aa78434",
   "metadata": {},
   "source": [
    "A constant has not bounds since its value, by definition, is not going to change."
   ]
  },
  {
   "cell_type": "markdown",
   "id": "52ea0d60",
   "metadata": {},
   "source": [
    "## Defining constraints and objective functions\n",
    "We can now proceed to defining objective and constraint functions:"
   ]
  },
  {
   "cell_type": "code",
   "execution_count": 4,
   "id": "3c9d0dbb",
   "metadata": {},
   "outputs": [],
   "source": [
    "objective_f_1 = Objective(\n",
    "    name=\"Objective f_1\",\n",
    "    symbol=\"f_1\",\n",
    "    func=\"x_1**2 - c_1*Sin(x_2)\",\n",
    "    maximize=False,\n",
    "    is_convex=False,\n",
    "    is_linear=False,\n",
    "    is_twice_differentiable=True,\n",
    ")\n",
    "objective_f_2 = Objective(\n",
    "    name=\"Objective f_2\",\n",
    "    symbol=\"f_2\",\n",
    "    func=\"x_2**2 - Cos(3*x_1)\",\n",
    "    maximize=False,\n",
    "    is_convex=False,\n",
    "    is_linear=False,\n",
    "    is_twice_differentiable=True,\n",
    ")"
   ]
  },
  {
   "cell_type": "markdown",
   "id": "3197c983",
   "metadata": {},
   "source": [
    "Similar to variables and constants, we have a `name` and a `symbol` attribute. We now also have a `func` attribute, which is the mathematical representation of the objective function. Notice how we have utilized\n",
    "the symbols we defined earlier for the variables and constants in the `func` attribute. Since we are minimizing both objective functions, we have set `maximize=False`. Lastly, we have the attributes `is_linear`, `is_convex`,\n",
    "and `is_twice_differentiable`, which tell us whether the objective function is convex, linear, or differentiable, respectively. Since our objective functions are neither convex or linear, the first two of these attributes\n",
    "are set to `False`, while the last one is set to `True`, because the functions are (twice) differentiable in $x_1$ and $x_2$.\n",
    "\n",
    "Our constraint $g_1$ is defined similarly to objective functions:"
   ]
  },
  {
   "cell_type": "code",
   "execution_count": 5,
   "id": "e171a708",
   "metadata": {},
   "outputs": [],
   "source": [
    "constraint_g_1 = Constraint(\n",
    "    name=\"Constraint g_1\",\n",
    "    symbol=\"g_1\",\n",
    "    func=\"x_1 + x_2 - 10\",\n",
    "    cons_type=ConstraintTypeEnum.LTE,\n",
    "    is_linear=True,\n",
    "    is_convex=True,\n",
    "    is_twice_differentiable=True,\n",
    ")"
   ]
  },
  {
   "cell_type": "markdown",
   "id": "2bc4467d",
   "metadata": {},
   "source": [
    "One might notice that the `func` of the constraint is not exactly the same as in our problem definition. This is because in DESDEO, constraints are expected in a standard form, where inequality constraints $g$ and equality\n",
    "constraints $h$ are defines as $g \\leq 0$ and $h = 0$. We readily see that if we define $g_1 = x_1 + x_2 - 10$ it is now congruent with this standard form and equivalent to the original constraint in our problem. \n",
    "\n",
    "To express whether we are dealing with an equality or inequality constraint, we provide the attribute `const_type`, which we set to be `ConstraintTypeEnum.LTE` to express a constraint of type \"less than or equal\" (for an quality constraint, we would set the attribute to `ConstraintTypeEnum.EQ` instead.) The rest of the attributes are the same as found when defining an instance of `Objective`.\n",
    "\n",
    "## Putting it all together\n",
    "We can now define our multiobjective optimization problem as an instance of the `Problem` class, which is used to represent all kinds of multiobjective optimization problems in DESDEO:"
   ]
  },
  {
   "cell_type": "code",
   "execution_count": 6,
   "id": "98cede0c",
   "metadata": {},
   "outputs": [],
   "source": [
    "problem = Problem(\n",
    "    name=\"Example problem\",\n",
    "    description=\"This problem is a simple example on how to define problems in DESDEO.\",\n",
    "    constants=[constant_c_1],\n",
    "    variables=[variable_x_1, variable_x_2],\n",
    "    objectives=[objective_f_1, objective_f_2],\n",
    "    constraints=[constraint_g_1],\n",
    ")"
   ]
  },
  {
   "cell_type": "markdown",
   "id": "1491eb9a",
   "metadata": {},
   "source": [
    "And that is it! We are now ready to do all kinds of interesting things with our problem. We will begin by calculating its ideal point, and approximating its nadir point.\n",
    "\n",
    "## Ideal and nadir points\n",
    "Because the scalarization functions required by the interactive method we are going to apply require an ideal point and an approximation of the nadir point, we need to calculate them next. Luckily, this is very straightforward if we utilize the _payoff-table method_, which is well suited for the purpose of this example:"
   ]
  },
  {
   "cell_type": "code",
   "execution_count": 7,
   "id": "9a661bec",
   "metadata": {},
   "outputs": [],
   "source": [
    "from desdeo.tools import payoff_table_method\n",
    "\n",
    "ideal, nadir = payoff_table_method(problem)"
   ]
  },
  {
   "cell_type": "markdown",
   "id": "58b9af2c",
   "metadata": {},
   "source": [
    "We can then update our problem with the new ideal and nadir point values:"
   ]
  },
  {
   "cell_type": "code",
   "execution_count": 8,
   "id": "29975611",
   "metadata": {},
   "outputs": [],
   "source": [
    "problem = problem.update_ideal_and_nadir(new_ideal=ideal, new_nadir=nadir)"
   ]
  },
  {
   "cell_type": "markdown",
   "id": "98277e47",
   "metadata": {},
   "source": [
    "## Solving the problem using the reference point method\n",
    "We are now ready to solve the problem utilizing an interactive multiobjective optimization method found in DESDEO. We will be utilizing the _reference point method_.\n",
    "\n",
    "Because the reference point method requires a _reference point_, it might be a good idea to inspect the ideal and nadir points we just calculated to get an idea of the ranges for the two objective functions $f_1$ and $f_2$:\n"
   ]
  },
  {
   "cell_type": "code",
   "execution_count": 9,
   "id": "318cd3e0",
   "metadata": {},
   "outputs": [
    {
     "name": "stdout",
     "output_type": "stream",
     "text": [
      "Ideal values: {'f_1': -1.5, 'f_2': -1.0}\n",
      "Nadir values: {'f_1': 1.8793571533137906e-10, 'f_2': 1.4674010989178496} (approximations!)\n"
     ]
    }
   ],
   "source": [
    "print(f\"Ideal values: {problem.get_ideal_point()}\")\n",
    "print(f\"Nadir values: {problem.get_nadir_point()} (approximations!)\")"
   ]
  },
  {
   "cell_type": "markdown",
   "id": "68597f5b",
   "metadata": {},
   "source": [
    "We can safely assume the nadir value for $f_1$ to be (very near) zero.\n",
    "\n",
    "Next, we can define an initial reference point and solve the problem using the reference point method:"
   ]
  },
  {
   "cell_type": "code",
   "execution_count": 10,
   "id": "182c2e70",
   "metadata": {},
   "outputs": [],
   "source": [
    "from desdeo.mcdm.reference_point_method import rpm_solve_solutions\n",
    "\n",
    "reference_point = {\"f_1\": -0.75, \"f_2\": 1.2}\n",
    "\n",
    "results = rpm_solve_solutions(problem, reference_point=reference_point)"
   ]
  },
  {
   "cell_type": "markdown",
   "id": "8334dff6",
   "metadata": {},
   "source": [
    "Let us then inspect the results:"
   ]
  },
  {
   "cell_type": "code",
   "execution_count": 11,
   "id": "0ec2802f",
   "metadata": {},
   "outputs": [
    {
     "name": "stdout",
     "output_type": "stream",
     "text": [
      "Solution 1:\n",
      "Objective function values \t\t {'f_1': -1.3418453187349122, 'f_2': 0.2264537186251374}\n",
      "Decision variable values \t\t {'x_1': -1.341880647083145e-10, 'x_2': 1.1074537094728327, '_alpha': -0.3945632889855735}\n",
      "Constraint values \t\t\t {'g_1': -8.892546290661356, 'f_1_con': 6.2539222134283534e-09, 'f_2_con': 2.4414633092995075e-09}\n",
      "---\n",
      "Solution 2:\n",
      "Objective function values \t\t {'f_1': -0.7709617885583611, 'f_2': -0.7086032659774049}\n",
      "Decision variable values \t\t {'x_1': -9.232688904165525e-11, 'x_2': 0.5398117579514132, '_alpha': -0.77352746119992}\n",
      "Constraint values \t\t\t {'g_1': -9.460188242140912, 'f_1_con': 2.557184797247203e-09, 'f_2_con': 6.224309068159073e-09}\n",
      "---\n",
      "Solution 3:\n",
      "Objective function values \t\t {'f_1': -1.4902309480370677, 'f_2': 1.121699318261173}\n",
      "Decision variable values \t\t {'x_1': -1.9339132868851074e-10, 'x_2': 1.456605409251652, '_alpha': -0.4934869770258314}\n",
      "Constraint values \t\t\t {'g_1': -8.54339459094174, 'f_1_con': 7.387595202246189e-09, 'f_2_con': -2.10404455525115e-08}\n",
      "---\n"
     ]
    }
   ],
   "source": [
    "for i, result in enumerate(results):\n",
    "    print(f\"Solution {i+1}:\")\n",
    "    print(f\"Objective function values \\t\\t {result.optimal_objectives}\")\n",
    "    print(f\"Decision variable values \\t\\t {result.optimal_variables}\")\n",
    "    print(f\"Constraint values \\t\\t\\t {result.constraint_values}\")\n",
    "    print(\"---\")"
   ]
  },
  {
   "cell_type": "markdown",
   "id": "4ef3d5a6",
   "metadata": {},
   "source": [
    "We can readily inspect the objective function values and decision variable values in the results. We have three solutions, because the reference point method returns $k+1$ solutions, where $k$ is the number of objective functions. We also notice some new acquittances in the results, namely `_alpha`, `f_1_con`, and `f_2_con`. These are the symbols auxiliary variables and constraints that have been added to the problem automatically when it has been scalarized by the reference point method. These can be safely ignored for the purpose of this example.\n",
    "\n",
    "If we are not happy with the solutions, we can try to change the reference point. We can try to be more demanding (we are minimizing both objective functions, thus, less is more!):"
   ]
  },
  {
   "cell_type": "code",
   "execution_count": 12,
   "id": "5e856a7f",
   "metadata": {},
   "outputs": [
    {
     "name": "stdout",
     "output_type": "stream",
     "text": [
      "Solution 1:\n",
      "Objective function values \t\t {'f_1': -0.9160487221718046, 'f_2': -0.5684256234762242}\n",
      "Decision variable values \t\t {'x_1': -9.85984558253847e-11, 'x_2': 0.6569432064674814, '_alpha': 0.25596734413127403}\n",
      "Constraint values \t\t\t {'g_1': -9.343056793631117, 'f_1_con': 3.743887477813956e-09, 'f_2_con': 5.8198226793315655e-09}\n",
      "---\n",
      "Solution 2:\n",
      "Objective function values \t\t {'f_1': -0.39591627426061626, 'f_2': -0.9286527164391796}\n",
      "Decision variable values \t\t {'x_1': -7.965526931189278e-11, 'x_2': 0.2671091229456987, '_alpha': 0.10997286032311551}\n",
      "Constraint values \t\t\t {'g_1': -9.732890877133956, 'f_1_con': -3.894020772499118e-09, 'f_2_con': 6.960991727478216e-09}\n",
      "---\n",
      "Solution 3:\n",
      "Objective function values \t\t {'f_1': -1.156514524606623, 'f_2': -0.22485158558614837}\n",
      "Decision variable values \t\t {'x_1': -1.1332371382914433e-10, 'x_2': 0.8804251327704427, '_alpha': 0.09565691455471285}\n",
      "Constraint values \t\t\t {'g_1': -9.119574867342882, 'f_1_con': 5.257607030295652e-09, 'f_2_con': 4.686439333823067e-09}\n",
      "---\n"
     ]
    }
   ],
   "source": [
    "reference_point = {\"f_1\": -1.3, \"f_2\": -1.2}\n",
    "\n",
    "results = rpm_solve_solutions(problem, reference_point=reference_point)\n",
    "\n",
    "for i, result in enumerate(results):\n",
    "    print(f\"Solution {i+1}:\")\n",
    "    print(f\"Objective function values \\t\\t {result.optimal_objectives}\")\n",
    "    print(f\"Decision variable values \\t\\t {result.optimal_variables}\")\n",
    "    print(f\"Constraint values \\t\\t\\t {result.constraint_values}\")\n",
    "    print(\"---\")"
   ]
  },
  {
   "cell_type": "markdown",
   "id": "e7900597",
   "metadata": {},
   "source": [
    "Perhaps unsurprisingly, we got different results after changing the reference point. We can keep iterating the method by changing the reference point until we find something we are satisfied with (or the decision maker is!).\n",
    "\n",
    "Try changing the reference point again, or try modifying the problem! You can add a third objective functions, or you might come up with a completely new problem. The sky is the limit!\n",
    "\n",
    "## Conclusions\n",
    "In this example, we have seen how to define a multiobjective optimization problem, how to find out its nadir and (approximate) ideal points, and how to solve the problem utilizing the reference point method.\n",
    "\n",
    "DESDEO has support for many kinds of multiobjective optimization problems. Keep exploring the framework to find out what it has to offer!\n",
    "\n",
    "**Please note:** DESDEO 2.0 is still under heavy development. The documentation will be updated in due time with more examples like this."
   ]
  }
 ],
 "metadata": {
  "kernelspec": {
   "display_name": ".venv",
   "language": "python",
   "name": "python3"
  },
  "language_info": {
   "codemirror_mode": {
    "name": "ipython",
    "version": 3
   },
   "file_extension": ".py",
   "mimetype": "text/x-python",
   "name": "python",
   "nbconvert_exporter": "python",
   "pygments_lexer": "ipython3",
   "version": "3.12.6"
  }
 },
 "nbformat": 4,
 "nbformat_minor": 5
}
