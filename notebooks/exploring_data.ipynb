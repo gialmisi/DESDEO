{
 "cells": [
  {
   "cell_type": "code",
   "execution_count": 16,
   "id": "570f255c-09fc-4c59-8919-93439b77ef54",
   "metadata": {},
   "outputs": [
    {
     "name": "stdout",
     "output_type": "stream",
     "text": [
      "shape: (5, 56)\n",
      "┌───────┬────────┬──────┬──────────┬───┬─────┬──────┬─────┬─────┐\n",
      "│ id    ┆ branch ┆ year ┆ area     ┆ … ┆ HAZ ┆ LSWP ┆ SFS ┆ LTT │\n",
      "│ ---   ┆ ---    ┆ ---  ┆ ---      ┆   ┆ --- ┆ ---  ┆ --- ┆ --- │\n",
      "│ i64   ┆ i64    ┆ i64  ┆ f64      ┆   ┆ f64 ┆ f64  ┆ f64 ┆ f64 │\n",
      "╞═══════╪════════╪══════╪══════════╪═══╪═════╪══════╪═════╪═════╡\n",
      "│ 25037 ┆ 1      ┆ 1    ┆ 0.425325 ┆ … ┆ 0.0 ┆ 0.0  ┆ 0.0 ┆ 0.0 │\n",
      "│ 25037 ┆ 1      ┆ 2    ┆ 0.425325 ┆ … ┆ 0.0 ┆ 0.0  ┆ 0.0 ┆ 0.0 │\n",
      "│ 25037 ┆ 1      ┆ 3    ┆ 0.425325 ┆ … ┆ 0.0 ┆ 0.0  ┆ 0.0 ┆ 0.0 │\n",
      "│ 25037 ┆ 1      ┆ 4    ┆ 0.425325 ┆ … ┆ 0.0 ┆ 0.0  ┆ 0.0 ┆ 0.0 │\n",
      "│ 25037 ┆ 1      ┆ 5    ┆ 0.425325 ┆ … ┆ 0.0 ┆ 0.0  ┆ 0.0 ┆ 0.0 │\n",
      "└───────┴────────┴──────┴──────────┴───┴─────┴──────┴─────┴─────┘\n"
     ]
    }
   ],
   "source": [
    "import polars as pl\n",
    "\n",
    "df = pl.read_csv(\"../data/Vaaler_DATA_50.csv\", separator=\",\", has_header=True)\n",
    "\n",
    "print(df.head())"
   ]
  },
  {
   "cell_type": "code",
   "execution_count": 29,
   "id": "25dea0f5-f744-45e4-a95e-b1ec4cf591ca",
   "metadata": {},
   "outputs": [],
   "source": [
    "unique_stands = df[\"id\"].unique()\n",
    "n_unique_stands = len(unique_stands)\n",
    "\n",
    "unique_regimes = df[\"branch\"].unique()\n",
    "n_unique_regimes = len(unique_regimes)\n",
    "\n",
    "years = df[\"year\"].unique()\n",
    "n_years = len(years)"
   ]
  },
  {
   "cell_type": "code",
   "execution_count": 36,
   "id": "4dd0336e-3f60-4f15-9d31-f13d7922613e",
   "metadata": {},
   "outputs": [
    {
     "data": {
      "text/html": [
       "<div><style>\n",
       ".dataframe > thead > tr,\n",
       ".dataframe > tbody > tr {\n",
       "  text-align: right;\n",
       "  white-space: pre-wrap;\n",
       "}\n",
       "</style>\n",
       "<small>shape: (10, 56)</small><table border=\"1\" class=\"dataframe\"><thead><tr><th>id</th><th>branch</th><th>year</th><th>area</th><th>age</th><th>reg_age</th><th>reg_n</th><th>reg_n_S</th><th>reg_n_P</th><th>reg_n_B</th><th>reg_hDom</th><th>reg_hDom_S</th><th>reg_hDom_P</th><th>reg_hDom_B</th><th>reg_d</th><th>Tr</th><th>Rg</th><th>INC</th><th>COST</th><th>Net</th><th>Harvested_V</th><th>Harvested_V_S</th><th>Harvested_V_P</th><th>Harvested_V_B</th><th>Harvested_V_log</th><th>Harvested_V_log_S</th><th>Harvested_V_log_P</th><th>Harvested_V_log_B</th><th>Harvested_V_pulp</th><th>Harvested_V_pulp_S</th><th>Harvested_V_pulp_P</th><th>Harvested_V_pulp_B</th><th>n</th><th>n_S</th><th>n_P</th><th>n_B</th><th>h</th><th>d</th><th>ba</th><th>V</th><th>V_Spruce</th><th>V_Pine</th><th>V_Birch</th><th>biomass</th><th>soil</th><th>products</th><th>biomass.1</th><th>soil.1</th><th>products.1</th><th>NPV</th><th>TTWP</th><th>CAP</th><th>HAZ</th><th>LSWP</th><th>SFS</th><th>LTT</th></tr><tr><td>i64</td><td>i64</td><td>i64</td><td>f64</td><td>i64</td><td>i64</td><td>i64</td><td>f64</td><td>f64</td><td>i64</td><td>f64</td><td>f64</td><td>f64</td><td>f64</td><td>i64</td><td>i64</td><td>i64</td><td>f64</td><td>f64</td><td>f64</td><td>f64</td><td>f64</td><td>f64</td><td>f64</td><td>f64</td><td>f64</td><td>f64</td><td>f64</td><td>i64</td><td>i64</td><td>i64</td><td>i64</td><td>f64</td><td>f64</td><td>f64</td><td>f64</td><td>f64</td><td>f64</td><td>f64</td><td>f64</td><td>f64</td><td>f64</td><td>f64</td><td>f64</td><td>f64</td><td>f64</td><td>f64</td><td>f64</td><td>f64</td><td>f64</td><td>f64</td><td>f64</td><td>f64</td><td>f64</td><td>f64</td><td>f64</td></tr></thead><tbody><tr><td>6114510</td><td>1</td><td>1</td><td>0.493767</td><td>0</td><td>0</td><td>160</td><td>0.0</td><td>160.0</td><td>0</td><td>1.13478</td><td>0.0</td><td>1.13478</td><td>0.0</td><td>0</td><td>0</td><td>0</td><td>0.0</td><td>0.0</td><td>0.0</td><td>0.0</td><td>0.0</td><td>0.0</td><td>0.0</td><td>0.0</td><td>0.0</td><td>0.0</td><td>0.0</td><td>0</td><td>0</td><td>0</td><td>0</td><td>0.0</td><td>0.0</td><td>0.0</td><td>0.0</td><td>0.0</td><td>0.0</td><td>0.0</td><td>0.0</td><td>0.0</td><td>0.0</td><td>0.0</td><td>0.0</td><td>0.0</td><td>0.0</td><td>0.0</td><td>0.0</td><td>0.0</td><td>2840.65</td><td>0.0</td><td>0.0</td><td>0.0</td><td>0.0</td><td>0.0</td><td>0.0</td></tr><tr><td>6114510</td><td>1</td><td>2</td><td>0.493767</td><td>0</td><td>5</td><td>160</td><td>0.0</td><td>160.0</td><td>0</td><td>2.78327</td><td>0.0</td><td>2.78327</td><td>0.0</td><td>0</td><td>0</td><td>0</td><td>0.0</td><td>0.0</td><td>0.0</td><td>0.0</td><td>0.0</td><td>0.0</td><td>0.0</td><td>0.0</td><td>0.0</td><td>0.0</td><td>0.0</td><td>0</td><td>0</td><td>0</td><td>0</td><td>0.0</td><td>0.0</td><td>0.0</td><td>0.0</td><td>0.0</td><td>0.0</td><td>0.0</td><td>0.0</td><td>0.0</td><td>0.0</td><td>0.0</td><td>0.0</td><td>0.0</td><td>0.0</td><td>0.0</td><td>0.0</td><td>0.0</td><td>2840.65</td><td>0.0</td><td>0.0</td><td>0.0</td><td>0.0</td><td>0.0</td><td>0.0</td></tr><tr><td>6114510</td><td>1</td><td>3</td><td>0.493767</td><td>0</td><td>10</td><td>160</td><td>0.0</td><td>160.0</td><td>0</td><td>4.66485</td><td>0.0</td><td>4.66485</td><td>0.0</td><td>0</td><td>0</td><td>0</td><td>0.0</td><td>0.0</td><td>0.0</td><td>0.0</td><td>0.0</td><td>0.0</td><td>0.0</td><td>0.0</td><td>0.0</td><td>0.0</td><td>0.0</td><td>0</td><td>0</td><td>0</td><td>0</td><td>0.0</td><td>0.0</td><td>0.0</td><td>0.0</td><td>0.0</td><td>0.0</td><td>0.0</td><td>0.0</td><td>0.0</td><td>0.0</td><td>0.0</td><td>0.0</td><td>0.0</td><td>0.0</td><td>0.0</td><td>0.0</td><td>0.0</td><td>2840.65</td><td>0.0</td><td>0.0</td><td>0.0</td><td>0.0</td><td>0.0</td><td>0.0</td></tr><tr><td>6114510</td><td>1</td><td>4</td><td>0.493767</td><td>0</td><td>15</td><td>160</td><td>0.0</td><td>160.0</td><td>0</td><td>6.5208</td><td>0.0</td><td>6.5208</td><td>0.0</td><td>0</td><td>0</td><td>0</td><td>0.0</td><td>0.0</td><td>0.0</td><td>0.0</td><td>0.0</td><td>0.0</td><td>0.0</td><td>0.0</td><td>0.0</td><td>0.0</td><td>0.0</td><td>0</td><td>0</td><td>0</td><td>0</td><td>0.0</td><td>0.0</td><td>0.0</td><td>0.0</td><td>0.0</td><td>0.0</td><td>0.0</td><td>0.0</td><td>0.0</td><td>0.0</td><td>0.0</td><td>0.0</td><td>0.0</td><td>0.0</td><td>0.0</td><td>0.0</td><td>0.0</td><td>2840.65</td><td>0.0</td><td>0.0</td><td>0.0</td><td>0.0</td><td>0.0</td><td>0.0</td></tr><tr><td>6114510</td><td>1</td><td>5</td><td>0.493767</td><td>0</td><td>20</td><td>160</td><td>0.0</td><td>160.0</td><td>0</td><td>8.26312</td><td>0.0</td><td>8.26312</td><td>0.0</td><td>0</td><td>0</td><td>0</td><td>0.0</td><td>0.0</td><td>0.0</td><td>0.0</td><td>0.0</td><td>0.0</td><td>0.0</td><td>0.0</td><td>0.0</td><td>0.0</td><td>0.0</td><td>0</td><td>0</td><td>0</td><td>0</td><td>0.0</td><td>0.0</td><td>0.0</td><td>0.0</td><td>0.0</td><td>0.0</td><td>0.0</td><td>0.0</td><td>0.0</td><td>0.0</td><td>0.0</td><td>0.0</td><td>0.0</td><td>0.0</td><td>2.55055</td><td>0.163849</td><td>0.0</td><td>2840.65</td><td>0.0</td><td>0.0</td><td>0.0</td><td>0.0</td><td>0.0</td><td>0.0</td></tr><tr><td>6114510</td><td>1</td><td>6</td><td>0.493767</td><td>25</td><td>0</td><td>0</td><td>0.0</td><td>0.0</td><td>0</td><td>0.0</td><td>0.0</td><td>0.0</td><td>0.0</td><td>0</td><td>0</td><td>0</td><td>0.0</td><td>0.0</td><td>0.0</td><td>0.0</td><td>0.0</td><td>0.0</td><td>0.0</td><td>0.0</td><td>0.0</td><td>0.0</td><td>0.0</td><td>0</td><td>0</td><td>0</td><td>0</td><td>156.569</td><td>0.0</td><td>156.569</td><td>0.0</td><td>8.0454</td><td>9.92828</td><td>1.21211</td><td>5.35302</td><td>0.0</td><td>5.35302</td><td>0.0</td><td>2.55055</td><td>0.163849</td><td>0.0</td><td>3.69526</td><td>0.343186</td><td>0.0</td><td>2840.65</td><td>0.0</td><td>0.0</td><td>0.0</td><td>0.0</td><td>0.0</td><td>0.0</td></tr><tr><td>6114510</td><td>1</td><td>7</td><td>0.493767</td><td>30</td><td>0</td><td>0</td><td>0.0</td><td>0.0</td><td>0</td><td>0.0</td><td>0.0</td><td>0.0</td><td>0.0</td><td>0</td><td>0</td><td>0</td><td>0.0</td><td>0.0</td><td>0.0</td><td>0.0</td><td>0.0</td><td>0.0</td><td>0.0</td><td>0.0</td><td>0.0</td><td>0.0</td><td>0.0</td><td>0</td><td>0</td><td>0</td><td>0</td><td>151.013</td><td>0.0</td><td>151.013</td><td>0.0</td><td>9.54182</td><td>11.6704</td><td>1.61539</td><td>8.29114</td><td>0.0</td><td>8.29114</td><td>0.0</td><td>3.69526</td><td>0.343186</td><td>0.0</td><td>5.08463</td><td>0.537032</td><td>0.0</td><td>2840.65</td><td>0.0</td><td>0.0</td><td>0.0</td><td>0.0</td><td>0.0</td><td>0.0</td></tr><tr><td>6114510</td><td>1</td><td>8</td><td>0.493767</td><td>35</td><td>0</td><td>0</td><td>0.0</td><td>0.0</td><td>0</td><td>0.0</td><td>0.0</td><td>0.0</td><td>0.0</td><td>0</td><td>0</td><td>0</td><td>0.0</td><td>0.0</td><td>0.0</td><td>0.0</td><td>0.0</td><td>0.0</td><td>0.0</td><td>0.0</td><td>0.0</td><td>0.0</td><td>0.0</td><td>0</td><td>0</td><td>0</td><td>0</td><td>145.654</td><td>0.0</td><td>145.654</td><td>0.0</td><td>10.9655</td><td>13.406</td><td>2.05593</td><td>11.9055</td><td>0.0</td><td>11.9055</td><td>0.0</td><td>5.08463</td><td>0.537032</td><td>0.0</td><td>6.69848</td><td>0.751494</td><td>0.0</td><td>2840.65</td><td>0.0</td><td>0.0</td><td>0.0</td><td>0.0</td><td>0.0</td><td>0.0</td></tr><tr><td>6114510</td><td>1</td><td>9</td><td>0.493767</td><td>40</td><td>0</td><td>0</td><td>0.0</td><td>0.0</td><td>0</td><td>0.0</td><td>0.0</td><td>0.0</td><td>0.0</td><td>0</td><td>0</td><td>0</td><td>0.0</td><td>0.0</td><td>0.0</td><td>0.0</td><td>0.0</td><td>0.0</td><td>0.0</td><td>0.0</td><td>0.0</td><td>0.0</td><td>0.0</td><td>0</td><td>0</td><td>0</td><td>0</td><td>140.486</td><td>0.0</td><td>140.486</td><td>0.0</td><td>12.3144</td><td>15.1279</td><td>2.52509</td><td>16.1482</td><td>0.0</td><td>16.1482</td><td>0.0</td><td>6.69848</td><td>0.751494</td><td>0.0</td><td>8.50865</td><td>0.987616</td><td>0.0</td><td>2840.65</td><td>0.0</td><td>0.0</td><td>0.0</td><td>0.0</td><td>0.0</td><td>0.0</td></tr><tr><td>6114510</td><td>1</td><td>10</td><td>0.493767</td><td>45</td><td>0</td><td>0</td><td>0.0</td><td>0.0</td><td>0</td><td>0.0</td><td>0.0</td><td>0.0</td><td>0.0</td><td>0</td><td>0</td><td>0</td><td>0.0</td><td>0.0</td><td>0.0</td><td>0.0</td><td>0.0</td><td>0.0</td><td>0.0</td><td>0.0</td><td>0.0</td><td>0.0</td><td>0.0</td><td>0</td><td>0</td><td>0</td><td>0</td><td>135.5</td><td>0.0</td><td>135.5</td><td>0.0</td><td>13.5923</td><td>16.8319</td><td>3.01506</td><td>20.9594</td><td>0.0</td><td>20.9594</td><td>0.0</td><td>8.50865</td><td>0.987616</td><td>0.0</td><td>10.4825</td><td>1.2442</td><td>0.0</td><td>2840.65</td><td>0.0</td><td>0.0</td><td>0.0</td><td>0.0</td><td>0.0</td><td>0.0</td></tr></tbody></table></div>"
      ],
      "text/plain": [
       "shape: (10, 56)\n",
       "┌─────────┬────────┬──────┬──────────┬───┬─────┬──────┬─────┬─────┐\n",
       "│ id      ┆ branch ┆ year ┆ area     ┆ … ┆ HAZ ┆ LSWP ┆ SFS ┆ LTT │\n",
       "│ ---     ┆ ---    ┆ ---  ┆ ---      ┆   ┆ --- ┆ ---  ┆ --- ┆ --- │\n",
       "│ i64     ┆ i64    ┆ i64  ┆ f64      ┆   ┆ f64 ┆ f64  ┆ f64 ┆ f64 │\n",
       "╞═════════╪════════╪══════╪══════════╪═══╪═════╪══════╪═════╪═════╡\n",
       "│ 6114510 ┆ 1      ┆ 1    ┆ 0.493767 ┆ … ┆ 0.0 ┆ 0.0  ┆ 0.0 ┆ 0.0 │\n",
       "│ 6114510 ┆ 1      ┆ 2    ┆ 0.493767 ┆ … ┆ 0.0 ┆ 0.0  ┆ 0.0 ┆ 0.0 │\n",
       "│ 6114510 ┆ 1      ┆ 3    ┆ 0.493767 ┆ … ┆ 0.0 ┆ 0.0  ┆ 0.0 ┆ 0.0 │\n",
       "│ 6114510 ┆ 1      ┆ 4    ┆ 0.493767 ┆ … ┆ 0.0 ┆ 0.0  ┆ 0.0 ┆ 0.0 │\n",
       "│ …       ┆ …      ┆ …    ┆ …        ┆ … ┆ …   ┆ …    ┆ …   ┆ …   │\n",
       "│ 6114510 ┆ 1      ┆ 7    ┆ 0.493767 ┆ … ┆ 0.0 ┆ 0.0  ┆ 0.0 ┆ 0.0 │\n",
       "│ 6114510 ┆ 1      ┆ 8    ┆ 0.493767 ┆ … ┆ 0.0 ┆ 0.0  ┆ 0.0 ┆ 0.0 │\n",
       "│ 6114510 ┆ 1      ┆ 9    ┆ 0.493767 ┆ … ┆ 0.0 ┆ 0.0  ┆ 0.0 ┆ 0.0 │\n",
       "│ 6114510 ┆ 1      ┆ 10   ┆ 0.493767 ┆ … ┆ 0.0 ┆ 0.0  ┆ 0.0 ┆ 0.0 │\n",
       "└─────────┴────────┴──────┴──────────┴───┴─────┴──────┴─────┴─────┘"
      ]
     },
     "execution_count": 36,
     "metadata": {},
     "output_type": "execute_result"
    }
   ],
   "source": [
    "df.filter(pl.col(\"id\") == unique_stands[n_unique_stands-1])"
   ]
  },
  {
   "cell_type": "code",
   "execution_count": null,
   "id": "0dc93980-d83c-452f-85d7-fbc7c0d3eb82",
   "metadata": {},
   "outputs": [],
   "source": []
  }
 ],
 "metadata": {
  "kernelspec": {
   "display_name": "desdeo2",
   "language": "python",
   "name": "desdeo2"
  },
  "language_info": {
   "codemirror_mode": {
    "name": "ipython",
    "version": 3
   },
   "file_extension": ".py",
   "mimetype": "text/x-python",
   "name": "python",
   "nbconvert_exporter": "python",
   "pygments_lexer": "ipython3",
   "version": "3.12.1"
  }
 },
 "nbformat": 4,
 "nbformat_minor": 5
}
