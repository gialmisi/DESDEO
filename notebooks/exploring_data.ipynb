{
 "cells": [
  {
   "cell_type": "code",
   "execution_count": 2,
   "id": "570f255c-09fc-4c59-8919-93439b77ef54",
   "metadata": {},
   "outputs": [
    {
     "name": "stdout",
     "output_type": "stream",
     "text": [
      "shape: (5, 56)\n",
      "┌───────┬────────┬──────┬──────────┬───┬─────┬──────┬─────┬─────┐\n",
      "│ id    ┆ branch ┆ year ┆ area     ┆ … ┆ HAZ ┆ LSWP ┆ SFS ┆ LTT │\n",
      "│ ---   ┆ ---    ┆ ---  ┆ ---      ┆   ┆ --- ┆ ---  ┆ --- ┆ --- │\n",
      "│ i64   ┆ i64    ┆ i64  ┆ f64      ┆   ┆ f64 ┆ f64  ┆ f64 ┆ f64 │\n",
      "╞═══════╪════════╪══════╪══════════╪═══╪═════╪══════╪═════╪═════╡\n",
      "│ 25037 ┆ 1      ┆ 1    ┆ 0.425325 ┆ … ┆ 0.0 ┆ 0.0  ┆ 0.0 ┆ 0.0 │\n",
      "│ 25037 ┆ 1      ┆ 2    ┆ 0.425325 ┆ … ┆ 0.0 ┆ 0.0  ┆ 0.0 ┆ 0.0 │\n",
      "│ 25037 ┆ 1      ┆ 3    ┆ 0.425325 ┆ … ┆ 0.0 ┆ 0.0  ┆ 0.0 ┆ 0.0 │\n",
      "│ 25037 ┆ 1      ┆ 4    ┆ 0.425325 ┆ … ┆ 0.0 ┆ 0.0  ┆ 0.0 ┆ 0.0 │\n",
      "│ 25037 ┆ 1      ┆ 5    ┆ 0.425325 ┆ … ┆ 0.0 ┆ 0.0  ┆ 0.0 ┆ 0.0 │\n",
      "└───────┴────────┴──────┴──────────┴───┴─────┴──────┴─────┴─────┘\n"
     ]
    }
   ],
   "source": [
    "import polars as pl\n",
    "\n",
    "df = pl.read_csv(\"../data/Vaaler_DATA_50.csv\", separator=\",\", has_header=True)\n",
    "\n",
    "print(df.head())"
   ]
  },
  {
   "cell_type": "code",
   "execution_count": 3,
   "id": "25dea0f5-f744-45e4-a95e-b1ec4cf591ca",
   "metadata": {},
   "outputs": [],
   "source": [
    "unique_stands = df[\"id\"].unique()\n",
    "n_unique_stands = len(unique_stands)\n",
    "\n",
    "unique_regimes = df[\"branch\"].unique()\n",
    "n_unique_regimes = len(unique_regimes)\n",
    "\n",
    "years = df[\"year\"].unique()\n",
    "n_years = len(years)"
   ]
  },
  {
   "cell_type": "code",
   "execution_count": 18,
   "id": "4dd0336e-3f60-4f15-9d31-f13d7922613e",
   "metadata": {},
   "outputs": [
    {
     "data": {
      "text/html": [
       "<div><style>\n",
       ".dataframe > thead > tr,\n",
       ".dataframe > tbody > tr {\n",
       "  text-align: right;\n",
       "  white-space: pre-wrap;\n",
       "}\n",
       "</style>\n",
       "<small>shape: (0, 56)</small><table border=\"1\" class=\"dataframe\"><thead><tr><th>id</th><th>branch</th><th>year</th><th>area</th><th>age</th><th>reg_age</th><th>reg_n</th><th>reg_n_S</th><th>reg_n_P</th><th>reg_n_B</th><th>reg_hDom</th><th>reg_hDom_S</th><th>reg_hDom_P</th><th>reg_hDom_B</th><th>reg_d</th><th>Tr</th><th>Rg</th><th>INC</th><th>COST</th><th>Net</th><th>Harvested_V</th><th>Harvested_V_S</th><th>Harvested_V_P</th><th>Harvested_V_B</th><th>Harvested_V_log</th><th>Harvested_V_log_S</th><th>Harvested_V_log_P</th><th>Harvested_V_log_B</th><th>Harvested_V_pulp</th><th>Harvested_V_pulp_S</th><th>Harvested_V_pulp_P</th><th>Harvested_V_pulp_B</th><th>n</th><th>n_S</th><th>n_P</th><th>n_B</th><th>h</th><th>d</th><th>ba</th><th>V</th><th>V_Spruce</th><th>V_Pine</th><th>V_Birch</th><th>biomass</th><th>soil</th><th>products</th><th>biomass.1</th><th>soil.1</th><th>products.1</th><th>NPV</th><th>TTWP</th><th>CAP</th><th>HAZ</th><th>LSWP</th><th>SFS</th><th>LTT</th></tr><tr><td>i64</td><td>i64</td><td>i64</td><td>f64</td><td>i64</td><td>i64</td><td>i64</td><td>f64</td><td>f64</td><td>i64</td><td>f64</td><td>f64</td><td>f64</td><td>f64</td><td>i64</td><td>i64</td><td>i64</td><td>f64</td><td>f64</td><td>f64</td><td>f64</td><td>f64</td><td>f64</td><td>f64</td><td>f64</td><td>f64</td><td>f64</td><td>f64</td><td>i64</td><td>i64</td><td>i64</td><td>i64</td><td>f64</td><td>f64</td><td>f64</td><td>f64</td><td>f64</td><td>f64</td><td>f64</td><td>f64</td><td>f64</td><td>f64</td><td>f64</td><td>f64</td><td>f64</td><td>f64</td><td>f64</td><td>f64</td><td>f64</td><td>f64</td><td>f64</td><td>f64</td><td>f64</td><td>f64</td><td>f64</td><td>f64</td></tr></thead><tbody></tbody></table></div>"
      ],
      "text/plain": [
       "shape: (0, 56)\n",
       "┌─────┬────────┬──────┬──────┬───┬─────┬──────┬─────┬─────┐\n",
       "│ id  ┆ branch ┆ year ┆ area ┆ … ┆ HAZ ┆ LSWP ┆ SFS ┆ LTT │\n",
       "│ --- ┆ ---    ┆ ---  ┆ ---  ┆   ┆ --- ┆ ---  ┆ --- ┆ --- │\n",
       "│ i64 ┆ i64    ┆ i64  ┆ f64  ┆   ┆ f64 ┆ f64  ┆ f64 ┆ f64 │\n",
       "╞═════╪════════╪══════╪══════╪═══╪═════╪══════╪═════╪═════╡\n",
       "└─────┴────────┴──────┴──────┴───┴─────┴──────┴─────┴─────┘"
      ]
     },
     "execution_count": 18,
     "metadata": {},
     "output_type": "execute_result"
    }
   ],
   "source": [
    "sorted_df = df.sort([\"id\", \"branch\", \"year\"])\n",
    "\n",
    "sorted_df.filter((pl.col(\"id\") == 24494) & (pl.col(\"year\") == 5) & (pl.col(\"branch\") == 100))"
   ]
  },
  {
   "cell_type": "code",
   "execution_count": 9,
   "id": "0dc93980-d83c-452f-85d7-fbc7c0d3eb82",
   "metadata": {},
   "outputs": [
    {
     "data": {
      "text/html": [
       "<div><style>\n",
       ".dataframe > thead > tr,\n",
       ".dataframe > tbody > tr {\n",
       "  text-align: right;\n",
       "  white-space: pre-wrap;\n",
       "}\n",
       "</style>\n",
       "<small>shape: (145_810, 56)</small><table border=\"1\" class=\"dataframe\"><thead><tr><th>id</th><th>branch</th><th>year</th><th>area</th><th>age</th><th>reg_age</th><th>reg_n</th><th>reg_n_S</th><th>reg_n_P</th><th>reg_n_B</th><th>reg_hDom</th><th>reg_hDom_S</th><th>reg_hDom_P</th><th>reg_hDom_B</th><th>reg_d</th><th>Tr</th><th>Rg</th><th>INC</th><th>COST</th><th>Net</th><th>Harvested_V</th><th>Harvested_V_S</th><th>Harvested_V_P</th><th>Harvested_V_B</th><th>Harvested_V_log</th><th>Harvested_V_log_S</th><th>Harvested_V_log_P</th><th>Harvested_V_log_B</th><th>Harvested_V_pulp</th><th>Harvested_V_pulp_S</th><th>Harvested_V_pulp_P</th><th>Harvested_V_pulp_B</th><th>n</th><th>n_S</th><th>n_P</th><th>n_B</th><th>h</th><th>d</th><th>ba</th><th>V</th><th>V_Spruce</th><th>V_Pine</th><th>V_Birch</th><th>biomass</th><th>soil</th><th>products</th><th>biomass.1</th><th>soil.1</th><th>products.1</th><th>NPV</th><th>TTWP</th><th>CAP</th><th>HAZ</th><th>LSWP</th><th>SFS</th><th>LTT</th></tr><tr><td>i64</td><td>i64</td><td>i64</td><td>f64</td><td>i64</td><td>i64</td><td>i64</td><td>f64</td><td>f64</td><td>i64</td><td>f64</td><td>f64</td><td>f64</td><td>f64</td><td>i64</td><td>i64</td><td>i64</td><td>f64</td><td>f64</td><td>f64</td><td>f64</td><td>f64</td><td>f64</td><td>f64</td><td>f64</td><td>f64</td><td>f64</td><td>f64</td><td>i64</td><td>i64</td><td>i64</td><td>i64</td><td>f64</td><td>f64</td><td>f64</td><td>f64</td><td>f64</td><td>f64</td><td>f64</td><td>f64</td><td>f64</td><td>f64</td><td>f64</td><td>f64</td><td>f64</td><td>f64</td><td>f64</td><td>f64</td><td>f64</td><td>f64</td><td>f64</td><td>f64</td><td>f64</td><td>f64</td><td>f64</td><td>f64</td></tr></thead><tbody><tr><td>25037</td><td>1</td><td>1</td><td>0.425325</td><td>0</td><td>0</td><td>160</td><td>0.0</td><td>160.0</td><td>0</td><td>1.13478</td><td>0.0</td><td>1.13478</td><td>0.0</td><td>0</td><td>0</td><td>0</td><td>0.0</td><td>0.0</td><td>0.0</td><td>0.0</td><td>0.0</td><td>0.0</td><td>0.0</td><td>0.0</td><td>0.0</td><td>0.0</td><td>0.0</td><td>0</td><td>0</td><td>0</td><td>0</td><td>0.0</td><td>0.0</td><td>0.0</td><td>0.0</td><td>0.0</td><td>0.0</td><td>0.0</td><td>0.0</td><td>0.0</td><td>0.0</td><td>0.0</td><td>0.0</td><td>0.0</td><td>0.0</td><td>0.0</td><td>0.0</td><td>0.0</td><td>2840.65</td><td>0.0</td><td>0.0</td><td>0.0</td><td>0.0</td><td>0.0</td><td>0.0</td></tr><tr><td>25037</td><td>1</td><td>2</td><td>0.425325</td><td>0</td><td>5</td><td>160</td><td>0.0</td><td>160.0</td><td>0</td><td>2.78327</td><td>0.0</td><td>2.78327</td><td>0.0</td><td>0</td><td>0</td><td>0</td><td>0.0</td><td>0.0</td><td>0.0</td><td>0.0</td><td>0.0</td><td>0.0</td><td>0.0</td><td>0.0</td><td>0.0</td><td>0.0</td><td>0.0</td><td>0</td><td>0</td><td>0</td><td>0</td><td>0.0</td><td>0.0</td><td>0.0</td><td>0.0</td><td>0.0</td><td>0.0</td><td>0.0</td><td>0.0</td><td>0.0</td><td>0.0</td><td>0.0</td><td>0.0</td><td>0.0</td><td>0.0</td><td>0.0</td><td>0.0</td><td>0.0</td><td>2840.65</td><td>0.0</td><td>0.0</td><td>0.0</td><td>0.0</td><td>0.0</td><td>0.0</td></tr><tr><td>25037</td><td>1</td><td>3</td><td>0.425325</td><td>0</td><td>10</td><td>160</td><td>0.0</td><td>160.0</td><td>0</td><td>4.66485</td><td>0.0</td><td>4.66485</td><td>0.0</td><td>0</td><td>0</td><td>0</td><td>0.0</td><td>0.0</td><td>0.0</td><td>0.0</td><td>0.0</td><td>0.0</td><td>0.0</td><td>0.0</td><td>0.0</td><td>0.0</td><td>0.0</td><td>0</td><td>0</td><td>0</td><td>0</td><td>0.0</td><td>0.0</td><td>0.0</td><td>0.0</td><td>0.0</td><td>0.0</td><td>0.0</td><td>0.0</td><td>0.0</td><td>0.0</td><td>0.0</td><td>0.0</td><td>0.0</td><td>0.0</td><td>0.0</td><td>0.0</td><td>0.0</td><td>2840.65</td><td>0.0</td><td>0.0</td><td>0.0</td><td>0.0</td><td>0.0</td><td>0.0</td></tr><tr><td>25037</td><td>1</td><td>4</td><td>0.425325</td><td>0</td><td>15</td><td>160</td><td>0.0</td><td>160.0</td><td>0</td><td>6.5208</td><td>0.0</td><td>6.5208</td><td>0.0</td><td>0</td><td>0</td><td>0</td><td>0.0</td><td>0.0</td><td>0.0</td><td>0.0</td><td>0.0</td><td>0.0</td><td>0.0</td><td>0.0</td><td>0.0</td><td>0.0</td><td>0.0</td><td>0</td><td>0</td><td>0</td><td>0</td><td>0.0</td><td>0.0</td><td>0.0</td><td>0.0</td><td>0.0</td><td>0.0</td><td>0.0</td><td>0.0</td><td>0.0</td><td>0.0</td><td>0.0</td><td>0.0</td><td>0.0</td><td>0.0</td><td>0.0</td><td>0.0</td><td>0.0</td><td>2840.65</td><td>0.0</td><td>0.0</td><td>0.0</td><td>0.0</td><td>0.0</td><td>0.0</td></tr><tr><td>25037</td><td>1</td><td>5</td><td>0.425325</td><td>0</td><td>20</td><td>160</td><td>0.0</td><td>160.0</td><td>0</td><td>8.26312</td><td>0.0</td><td>8.26312</td><td>0.0</td><td>0</td><td>0</td><td>0</td><td>0.0</td><td>0.0</td><td>0.0</td><td>0.0</td><td>0.0</td><td>0.0</td><td>0.0</td><td>0.0</td><td>0.0</td><td>0.0</td><td>0.0</td><td>0</td><td>0</td><td>0</td><td>0</td><td>0.0</td><td>0.0</td><td>0.0</td><td>0.0</td><td>0.0</td><td>0.0</td><td>0.0</td><td>0.0</td><td>0.0</td><td>0.0</td><td>0.0</td><td>0.0</td><td>0.0</td><td>0.0</td><td>2.55055</td><td>0.163849</td><td>0.0</td><td>2840.65</td><td>0.0</td><td>0.0</td><td>0.0</td><td>0.0</td><td>0.0</td><td>0.0</td></tr><tr><td>25037</td><td>1</td><td>6</td><td>0.425325</td><td>25</td><td>0</td><td>0</td><td>0.0</td><td>0.0</td><td>0</td><td>0.0</td><td>0.0</td><td>0.0</td><td>0.0</td><td>0</td><td>0</td><td>0</td><td>0.0</td><td>0.0</td><td>0.0</td><td>0.0</td><td>0.0</td><td>0.0</td><td>0.0</td><td>0.0</td><td>0.0</td><td>0.0</td><td>0.0</td><td>0</td><td>0</td><td>0</td><td>0</td><td>156.569</td><td>0.0</td><td>156.569</td><td>0.0</td><td>8.0454</td><td>9.92828</td><td>1.21211</td><td>5.35302</td><td>0.0</td><td>5.35302</td><td>0.0</td><td>2.55055</td><td>0.163849</td><td>0.0</td><td>3.69526</td><td>0.343186</td><td>0.0</td><td>2840.65</td><td>0.0</td><td>0.0</td><td>0.0</td><td>0.0</td><td>0.0</td><td>0.0</td></tr><tr><td>25037</td><td>1</td><td>7</td><td>0.425325</td><td>30</td><td>0</td><td>0</td><td>0.0</td><td>0.0</td><td>0</td><td>0.0</td><td>0.0</td><td>0.0</td><td>0.0</td><td>0</td><td>0</td><td>0</td><td>0.0</td><td>0.0</td><td>0.0</td><td>0.0</td><td>0.0</td><td>0.0</td><td>0.0</td><td>0.0</td><td>0.0</td><td>0.0</td><td>0.0</td><td>0</td><td>0</td><td>0</td><td>0</td><td>151.013</td><td>0.0</td><td>151.013</td><td>0.0</td><td>9.54182</td><td>11.6704</td><td>1.61539</td><td>8.29114</td><td>0.0</td><td>8.29114</td><td>0.0</td><td>3.69526</td><td>0.343186</td><td>0.0</td><td>5.08463</td><td>0.537032</td><td>0.0</td><td>2840.65</td><td>0.0</td><td>0.0</td><td>0.0</td><td>0.0</td><td>0.0</td><td>0.0</td></tr><tr><td>25037</td><td>1</td><td>8</td><td>0.425325</td><td>35</td><td>0</td><td>0</td><td>0.0</td><td>0.0</td><td>0</td><td>0.0</td><td>0.0</td><td>0.0</td><td>0.0</td><td>0</td><td>0</td><td>0</td><td>0.0</td><td>0.0</td><td>0.0</td><td>0.0</td><td>0.0</td><td>0.0</td><td>0.0</td><td>0.0</td><td>0.0</td><td>0.0</td><td>0.0</td><td>0</td><td>0</td><td>0</td><td>0</td><td>145.654</td><td>0.0</td><td>145.654</td><td>0.0</td><td>10.9655</td><td>13.406</td><td>2.05593</td><td>11.9055</td><td>0.0</td><td>11.9055</td><td>0.0</td><td>5.08463</td><td>0.537032</td><td>0.0</td><td>6.69848</td><td>0.751494</td><td>0.0</td><td>2840.65</td><td>0.0</td><td>0.0</td><td>0.0</td><td>0.0</td><td>0.0</td><td>0.0</td></tr><tr><td>25037</td><td>1</td><td>9</td><td>0.425325</td><td>40</td><td>0</td><td>0</td><td>0.0</td><td>0.0</td><td>0</td><td>0.0</td><td>0.0</td><td>0.0</td><td>0.0</td><td>0</td><td>0</td><td>0</td><td>0.0</td><td>0.0</td><td>0.0</td><td>0.0</td><td>0.0</td><td>0.0</td><td>0.0</td><td>0.0</td><td>0.0</td><td>0.0</td><td>0.0</td><td>0</td><td>0</td><td>0</td><td>0</td><td>140.486</td><td>0.0</td><td>140.486</td><td>0.0</td><td>12.3144</td><td>15.1279</td><td>2.52509</td><td>16.1482</td><td>0.0</td><td>16.1482</td><td>0.0</td><td>6.69848</td><td>0.751494</td><td>0.0</td><td>8.50865</td><td>0.987616</td><td>0.0</td><td>2840.65</td><td>0.0</td><td>0.0</td><td>0.0</td><td>0.0</td><td>0.0</td><td>0.0</td></tr><tr><td>25037</td><td>1</td><td>10</td><td>0.425325</td><td>45</td><td>0</td><td>0</td><td>0.0</td><td>0.0</td><td>0</td><td>0.0</td><td>0.0</td><td>0.0</td><td>0.0</td><td>0</td><td>0</td><td>0</td><td>0.0</td><td>0.0</td><td>0.0</td><td>0.0</td><td>0.0</td><td>0.0</td><td>0.0</td><td>0.0</td><td>0.0</td><td>0.0</td><td>0.0</td><td>0</td><td>0</td><td>0</td><td>0</td><td>135.5</td><td>0.0</td><td>135.5</td><td>0.0</td><td>13.5923</td><td>16.8319</td><td>3.01506</td><td>20.9594</td><td>0.0</td><td>20.9594</td><td>0.0</td><td>8.50865</td><td>0.987616</td><td>0.0</td><td>10.4825</td><td>1.2442</td><td>0.0</td><td>2840.65</td><td>0.0</td><td>0.0</td><td>0.0</td><td>0.0</td><td>0.0</td><td>0.0</td></tr><tr><td>25039</td><td>1</td><td>1</td><td>0.546097</td><td>0</td><td>21</td><td>640</td><td>500.0</td><td>140.0</td><td>0</td><td>3.16412</td><td>3.16412</td><td>3.16412</td><td>0.0</td><td>0</td><td>0</td><td>0</td><td>0.0</td><td>0.0</td><td>0.0</td><td>0.0</td><td>0.0</td><td>0.0</td><td>0.0</td><td>0.0</td><td>0.0</td><td>0.0</td><td>0.0</td><td>0</td><td>0</td><td>0</td><td>0</td><td>0.0</td><td>0.0</td><td>0.0</td><td>0.0</td><td>0.0</td><td>0.0</td><td>0.0</td><td>0.0</td><td>0.0</td><td>0.0</td><td>0.0</td><td>0.0</td><td>0.0</td><td>0.0</td><td>0.0</td><td>0.0</td><td>0.0</td><td>10863.1</td><td>0.0</td><td>0.0</td><td>0.0</td><td>0.0</td><td>0.0</td><td>0.0</td></tr><tr><td>25039</td><td>1</td><td>2</td><td>0.546097</td><td>0</td><td>26</td><td>640</td><td>500.0</td><td>140.0</td><td>0</td><td>4.74718</td><td>4.74718</td><td>4.74718</td><td>0.0</td><td>0</td><td>0</td><td>0</td><td>0.0</td><td>0.0</td><td>0.0</td><td>0.0</td><td>0.0</td><td>0.0</td><td>0.0</td><td>0.0</td><td>0.0</td><td>0.0</td><td>0.0</td><td>0</td><td>0</td><td>0</td><td>0</td><td>0.0</td><td>0.0</td><td>0.0</td><td>0.0</td><td>0.0</td><td>0.0</td><td>0.0</td><td>0.0</td><td>0.0</td><td>0.0</td><td>0.0</td><td>0.0</td><td>0.0</td><td>0.0</td><td>0.0</td><td>0.0</td><td>0.0</td><td>10863.1</td><td>0.0</td><td>0.0</td><td>0.0</td><td>0.0</td><td>0.0</td><td>0.0</td></tr><tr><td>&hellip;</td><td>&hellip;</td><td>&hellip;</td><td>&hellip;</td><td>&hellip;</td><td>&hellip;</td><td>&hellip;</td><td>&hellip;</td><td>&hellip;</td><td>&hellip;</td><td>&hellip;</td><td>&hellip;</td><td>&hellip;</td><td>&hellip;</td><td>&hellip;</td><td>&hellip;</td><td>&hellip;</td><td>&hellip;</td><td>&hellip;</td><td>&hellip;</td><td>&hellip;</td><td>&hellip;</td><td>&hellip;</td><td>&hellip;</td><td>&hellip;</td><td>&hellip;</td><td>&hellip;</td><td>&hellip;</td><td>&hellip;</td><td>&hellip;</td><td>&hellip;</td><td>&hellip;</td><td>&hellip;</td><td>&hellip;</td><td>&hellip;</td><td>&hellip;</td><td>&hellip;</td><td>&hellip;</td><td>&hellip;</td><td>&hellip;</td><td>&hellip;</td><td>&hellip;</td><td>&hellip;</td><td>&hellip;</td><td>&hellip;</td><td>&hellip;</td><td>&hellip;</td><td>&hellip;</td><td>&hellip;</td><td>&hellip;</td><td>&hellip;</td><td>&hellip;</td><td>&hellip;</td><td>&hellip;</td><td>&hellip;</td><td>&hellip;</td></tr><tr><td>25433</td><td>47</td><td>9</td><td>1.63745</td><td>30</td><td>0</td><td>0</td><td>0.0</td><td>0.0</td><td>0</td><td>0.0</td><td>0.0</td><td>0.0</td><td>0.0</td><td>0</td><td>0</td><td>0</td><td>0.0</td><td>0.0</td><td>0.0</td><td>0.0</td><td>0.0</td><td>0.0</td><td>0.0</td><td>0.0</td><td>0.0</td><td>0.0</td><td>0.0</td><td>0</td><td>0</td><td>0</td><td>0</td><td>1730.3</td><td>1465.67</td><td>91.6044</td><td>173.03</td><td>9.8685</td><td>12.0598</td><td>19.765</td><td>104.487</td><td>89.5967</td><td>5.14032</td><td>9.75051</td><td>46.0448</td><td>6.31444</td><td>11.4382</td><td>68.0542</td><td>7.88905</td><td>11.4382</td><td>64876.2</td><td>0.023473</td><td>0.0</td><td>0.285898</td><td>0.0</td><td>0.0</td><td>0.0</td></tr><tr><td>25433</td><td>47</td><td>10</td><td>1.63745</td><td>35</td><td>0</td><td>0</td><td>0.0</td><td>0.0</td><td>0</td><td>0.0</td><td>0.0</td><td>0.0</td><td>0.0</td><td>0</td><td>0</td><td>0</td><td>0.0</td><td>0.0</td><td>0.0</td><td>0.0</td><td>0.0</td><td>0.0</td><td>0.0</td><td>0.0</td><td>0.0</td><td>0.0</td><td>0.0</td><td>0</td><td>0</td><td>0</td><td>0</td><td>1668.9</td><td>1413.66</td><td>88.3538</td><td>166.89</td><td>12.1567</td><td>14.1441</td><td>26.2222</td><td>168.549</td><td>144.715</td><td>8.22948</td><td>15.6053</td><td>68.0542</td><td>7.88905</td><td>10.918</td><td>91.6075</td><td>9.82015</td><td>10.918</td><td>64876.2</td><td>0.058362</td><td>0.0</td><td>0.281068</td><td>0.0</td><td>0.13</td><td>0.0</td></tr><tr><td>25433</td><td>48</td><td>1</td><td>1.63745</td><td>46</td><td>0</td><td>0</td><td>0.0</td><td>0.0</td><td>0</td><td>0.0</td><td>0.0</td><td>0.0</td><td>0.0</td><td>0</td><td>0</td><td>0</td><td>0.0</td><td>0.0</td><td>0.0</td><td>0.0</td><td>0.0</td><td>0.0</td><td>0.0</td><td>0.0</td><td>0.0</td><td>0.0</td><td>0.0</td><td>0</td><td>0</td><td>0</td><td>0</td><td>122.0</td><td>0.0</td><td>122.0</td><td>0.0</td><td>14.761</td><td>51.0793</td><td>25.0</td><td>125.696</td><td>0.0</td><td>125.696</td><td>0.0</td><td>69.3244</td><td>0.0</td><td>0.0</td><td>71.0699</td><td>3.87749</td><td>0.0</td><td>65289.5</td><td>0.040137</td><td>0.0</td><td>0.0</td><td>0.0</td><td>0.0</td><td>0.0</td></tr><tr><td>25433</td><td>48</td><td>2</td><td>1.63745</td><td>51</td><td>0</td><td>0</td><td>0.0</td><td>0.0</td><td>0</td><td>0.0</td><td>0.0</td><td>0.0</td><td>0.0</td><td>0</td><td>18</td><td>63</td><td>76767.3</td><td>28497.2</td><td>48270.2</td><td>142.968</td><td>0.0</td><td>142.968</td><td>0.0</td><td>0.0</td><td>0.0</td><td>139.588</td><td>0.0</td><td>0</td><td>0</td><td>0</td><td>0</td><td>0.0</td><td>0.0</td><td>0.0</td><td>0.0</td><td>0.0</td><td>0.0</td><td>0.0</td><td>0.0</td><td>0.0</td><td>0.0</td><td>0.0</td><td>71.0699</td><td>3.87749</td><td>0.0</td><td>0.0</td><td>21.4039</td><td>19.1947</td><td>65289.5</td><td>0.047457</td><td>0.0</td><td>0.0</td><td>0.0</td><td>0.0</td><td>0.0</td></tr><tr><td>25433</td><td>48</td><td>3</td><td>1.63745</td><td>0</td><td>0</td><td>5200</td><td>1600.0</td><td>100.0</td><td>3500</td><td>0.0</td><td>0.0</td><td>0.0</td><td>0.0</td><td>0</td><td>0</td><td>0</td><td>0.0</td><td>0.0</td><td>0.0</td><td>0.0</td><td>0.0</td><td>0.0</td><td>0.0</td><td>0.0</td><td>0.0</td><td>0.0</td><td>0.0</td><td>0</td><td>0</td><td>0</td><td>0</td><td>0.0</td><td>0.0</td><td>0.0</td><td>0.0</td><td>0.0</td><td>0.0</td><td>0.0</td><td>0.0</td><td>0.0</td><td>0.0</td><td>0.0</td><td>0.0</td><td>21.4039</td><td>17.346</td><td>0.0</td><td>14.3799</td><td>17.346</td><td>65289.5</td><td>0.0</td><td>0.0</td><td>0.0</td><td>0.0</td><td>0.0</td><td>0.0</td></tr><tr><td>25433</td><td>48</td><td>4</td><td>1.63745</td><td>0</td><td>5</td><td>5200</td><td>1600.0</td><td>100.0</td><td>3500</td><td>0.65</td><td>0.65</td><td>0.65</td><td>0.65</td><td>0</td><td>0</td><td>0</td><td>0.0</td><td>0.0</td><td>0.0</td><td>0.0</td><td>0.0</td><td>0.0</td><td>0.0</td><td>0.0</td><td>0.0</td><td>0.0</td><td>0.0</td><td>0</td><td>0</td><td>0</td><td>0</td><td>0.0</td><td>0.0</td><td>0.0</td><td>0.0</td><td>0.0</td><td>0.0</td><td>0.0</td><td>0.0</td><td>0.0</td><td>0.0</td><td>0.0</td><td>0.0</td><td>14.3799</td><td>15.7692</td><td>0.0</td><td>10.0041</td><td>15.7692</td><td>65289.5</td><td>0.0</td><td>0.0</td><td>0.0</td><td>0.0</td><td>0.0</td><td>0.0</td></tr><tr><td>25433</td><td>48</td><td>5</td><td>1.63745</td><td>0</td><td>10</td><td>5200</td><td>1600.0</td><td>100.0</td><td>3500</td><td>1.10386</td><td>1.10386</td><td>1.10386</td><td>1.10386</td><td>0</td><td>0</td><td>0</td><td>0.0</td><td>0.0</td><td>0.0</td><td>0.0</td><td>0.0</td><td>0.0</td><td>0.0</td><td>0.0</td><td>0.0</td><td>0.0</td><td>0.0</td><td>0</td><td>0</td><td>0</td><td>0</td><td>0.0</td><td>0.0</td><td>0.0</td><td>0.0</td><td>0.0</td><td>0.0</td><td>0.0</td><td>0.0</td><td>0.0</td><td>0.0</td><td>0.0</td><td>0.0</td><td>10.0041</td><td>14.6392</td><td>0.0</td><td>7.09682</td><td>14.6392</td><td>65289.5</td><td>0.0</td><td>0.0</td><td>0.0</td><td>0.0</td><td>0.0</td><td>0.0</td></tr><tr><td>25433</td><td>48</td><td>6</td><td>1.63745</td><td>0</td><td>15</td><td>5200</td><td>1600.0</td><td>100.0</td><td>3500</td><td>3.61195</td><td>3.61195</td><td>3.61195</td><td>3.61195</td><td>0</td><td>3</td><td>0</td><td>0.0</td><td>2532.39</td><td>-2532.39</td><td>0.0</td><td>0.0</td><td>0.0</td><td>0.0</td><td>0.0</td><td>0.0</td><td>0.0</td><td>0.0</td><td>0</td><td>0</td><td>0</td><td>0</td><td>0.0</td><td>0.0</td><td>0.0</td><td>0.0</td><td>0.0</td><td>0.0</td><td>0.0</td><td>0.0</td><td>0.0</td><td>0.0</td><td>0.0</td><td>0.0</td><td>7.09682</td><td>13.8267</td><td>0.0</td><td>5.13357</td><td>13.8267</td><td>65289.5</td><td>0.0</td><td>0.0</td><td>0.0</td><td>0.0</td><td>0.0</td><td>0.0</td></tr><tr><td>25433</td><td>48</td><td>7</td><td>1.63745</td><td>0</td><td>20</td><td>1800</td><td>1524.71</td><td>95.2941</td><td>180</td><td>6.41025</td><td>6.41025</td><td>6.41025</td><td>6.41025</td><td>0</td><td>0</td><td>0</td><td>0.0</td><td>0.0</td><td>0.0</td><td>0.0</td><td>0.0</td><td>0.0</td><td>0.0</td><td>0.0</td><td>0.0</td><td>0.0</td><td>0.0</td><td>0</td><td>0</td><td>0</td><td>0</td><td>0.0</td><td>0.0</td><td>0.0</td><td>0.0</td><td>0.0</td><td>0.0</td><td>0.0</td><td>0.0</td><td>0.0</td><td>0.0</td><td>0.0</td><td>0.0</td><td>5.13357</td><td>13.2403</td><td>26.4413</td><td>5.26216</td><td>13.2403</td><td>65289.5</td><td>0.0</td><td>0.0</td><td>0.0</td><td>0.0</td><td>0.0</td><td>0.0</td></tr><tr><td>25433</td><td>48</td><td>8</td><td>1.63745</td><td>25</td><td>0</td><td>0</td><td>0.0</td><td>0.0</td><td>0</td><td>0.0</td><td>0.0</td><td>0.0</td><td>0.0</td><td>0</td><td>0</td><td>0</td><td>0.0</td><td>0.0</td><td>0.0</td><td>0.0</td><td>0.0</td><td>0.0</td><td>0.0</td><td>0.0</td><td>0.0</td><td>0.0</td><td>0.0</td><td>0</td><td>0</td><td>0</td><td>0</td><td>1793.96</td><td>1519.59</td><td>94.9746</td><td>179.396</td><td>7.31333</td><td>9.57199</td><td>12.9095</td><td>51.5552</td><td>44.1218</td><td>2.56587</td><td>4.86753</td><td>26.4413</td><td>5.26216</td><td>12.1799</td><td>46.0448</td><td>6.31444</td><td>12.1799</td><td>65289.5</td><td>0.0</td><td>0.0</td><td>0.146566</td><td>0.0</td><td>0.0</td><td>0.0</td></tr><tr><td>25433</td><td>48</td><td>9</td><td>1.63745</td><td>30</td><td>0</td><td>0</td><td>0.0</td><td>0.0</td><td>0</td><td>0.0</td><td>0.0</td><td>0.0</td><td>0.0</td><td>0</td><td>0</td><td>0</td><td>0.0</td><td>0.0</td><td>0.0</td><td>0.0</td><td>0.0</td><td>0.0</td><td>0.0</td><td>0.0</td><td>0.0</td><td>0.0</td><td>0.0</td><td>0</td><td>0</td><td>0</td><td>0</td><td>1730.3</td><td>1465.67</td><td>91.6044</td><td>173.03</td><td>9.8685</td><td>12.0598</td><td>19.765</td><td>104.487</td><td>89.5967</td><td>5.14032</td><td>9.75051</td><td>46.0448</td><td>6.31444</td><td>11.4382</td><td>68.0542</td><td>7.88905</td><td>11.4382</td><td>65289.5</td><td>0.023473</td><td>0.0</td><td>0.285898</td><td>0.0</td><td>0.0</td><td>0.0</td></tr><tr><td>25433</td><td>48</td><td>10</td><td>1.63745</td><td>35</td><td>0</td><td>0</td><td>0.0</td><td>0.0</td><td>0</td><td>0.0</td><td>0.0</td><td>0.0</td><td>0.0</td><td>0</td><td>0</td><td>0</td><td>0.0</td><td>0.0</td><td>0.0</td><td>0.0</td><td>0.0</td><td>0.0</td><td>0.0</td><td>0.0</td><td>0.0</td><td>0.0</td><td>0.0</td><td>0</td><td>0</td><td>0</td><td>0</td><td>1668.9</td><td>1413.66</td><td>88.3538</td><td>166.89</td><td>12.1567</td><td>14.1441</td><td>26.2222</td><td>168.549</td><td>144.715</td><td>8.22948</td><td>15.6053</td><td>68.0542</td><td>7.88905</td><td>10.918</td><td>91.6075</td><td>9.82015</td><td>10.918</td><td>65289.5</td><td>0.058362</td><td>0.0</td><td>0.281068</td><td>0.0</td><td>0.13</td><td>0.0</td></tr></tbody></table></div>"
      ],
      "text/plain": [
       "shape: (145_810, 56)\n",
       "┌───────┬────────┬──────┬──────────┬───┬──────────┬──────┬──────┬─────┐\n",
       "│ id    ┆ branch ┆ year ┆ area     ┆ … ┆ HAZ      ┆ LSWP ┆ SFS  ┆ LTT │\n",
       "│ ---   ┆ ---    ┆ ---  ┆ ---      ┆   ┆ ---      ┆ ---  ┆ ---  ┆ --- │\n",
       "│ i64   ┆ i64    ┆ i64  ┆ f64      ┆   ┆ f64      ┆ f64  ┆ f64  ┆ f64 │\n",
       "╞═══════╪════════╪══════╪══════════╪═══╪══════════╪══════╪══════╪═════╡\n",
       "│ 25037 ┆ 1      ┆ 1    ┆ 0.425325 ┆ … ┆ 0.0      ┆ 0.0  ┆ 0.0  ┆ 0.0 │\n",
       "│ 25037 ┆ 1      ┆ 2    ┆ 0.425325 ┆ … ┆ 0.0      ┆ 0.0  ┆ 0.0  ┆ 0.0 │\n",
       "│ 25037 ┆ 1      ┆ 3    ┆ 0.425325 ┆ … ┆ 0.0      ┆ 0.0  ┆ 0.0  ┆ 0.0 │\n",
       "│ 25037 ┆ 1      ┆ 4    ┆ 0.425325 ┆ … ┆ 0.0      ┆ 0.0  ┆ 0.0  ┆ 0.0 │\n",
       "│ …     ┆ …      ┆ …    ┆ …        ┆ … ┆ …        ┆ …    ┆ …    ┆ …   │\n",
       "│ 25433 ┆ 48     ┆ 7    ┆ 1.63745  ┆ … ┆ 0.0      ┆ 0.0  ┆ 0.0  ┆ 0.0 │\n",
       "│ 25433 ┆ 48     ┆ 8    ┆ 1.63745  ┆ … ┆ 0.146566 ┆ 0.0  ┆ 0.0  ┆ 0.0 │\n",
       "│ 25433 ┆ 48     ┆ 9    ┆ 1.63745  ┆ … ┆ 0.285898 ┆ 0.0  ┆ 0.0  ┆ 0.0 │\n",
       "│ 25433 ┆ 48     ┆ 10   ┆ 1.63745  ┆ … ┆ 0.281068 ┆ 0.0  ┆ 0.13 ┆ 0.0 │\n",
       "└───────┴────────┴──────┴──────────┴───┴──────────┴──────┴──────┴─────┘"
      ]
     },
     "execution_count": 9,
     "metadata": {},
     "output_type": "execute_result"
    }
   ],
   "source": [
    "df"
   ]
  },
  {
   "cell_type": "code",
   "execution_count": 10,
   "id": "68cf76db-7830-4bf8-8cdf-bb6429b42f74",
   "metadata": {},
   "outputs": [
    {
     "data": {
      "text/html": [
       "<div><style>\n",
       ".dataframe > thead > tr,\n",
       ".dataframe > tbody > tr {\n",
       "  text-align: right;\n",
       "  white-space: pre-wrap;\n",
       "}\n",
       "</style>\n",
       "<small>shape: (1, 56)</small><table border=\"1\" class=\"dataframe\"><thead><tr><th>id</th><th>branch</th><th>year</th><th>area</th><th>age</th><th>reg_age</th><th>reg_n</th><th>reg_n_S</th><th>reg_n_P</th><th>reg_n_B</th><th>reg_hDom</th><th>reg_hDom_S</th><th>reg_hDom_P</th><th>reg_hDom_B</th><th>reg_d</th><th>Tr</th><th>Rg</th><th>INC</th><th>COST</th><th>Net</th><th>Harvested_V</th><th>Harvested_V_S</th><th>Harvested_V_P</th><th>Harvested_V_B</th><th>Harvested_V_log</th><th>Harvested_V_log_S</th><th>Harvested_V_log_P</th><th>Harvested_V_log_B</th><th>Harvested_V_pulp</th><th>Harvested_V_pulp_S</th><th>Harvested_V_pulp_P</th><th>Harvested_V_pulp_B</th><th>n</th><th>n_S</th><th>n_P</th><th>n_B</th><th>h</th><th>d</th><th>ba</th><th>V</th><th>V_Spruce</th><th>V_Pine</th><th>V_Birch</th><th>biomass</th><th>soil</th><th>products</th><th>biomass.1</th><th>soil.1</th><th>products.1</th><th>NPV</th><th>TTWP</th><th>CAP</th><th>HAZ</th><th>LSWP</th><th>SFS</th><th>LTT</th></tr><tr><td>u32</td><td>u32</td><td>u32</td><td>u32</td><td>u32</td><td>u32</td><td>u32</td><td>u32</td><td>u32</td><td>u32</td><td>u32</td><td>u32</td><td>u32</td><td>u32</td><td>u32</td><td>u32</td><td>u32</td><td>u32</td><td>u32</td><td>u32</td><td>u32</td><td>u32</td><td>u32</td><td>u32</td><td>u32</td><td>u32</td><td>u32</td><td>u32</td><td>u32</td><td>u32</td><td>u32</td><td>u32</td><td>u32</td><td>u32</td><td>u32</td><td>u32</td><td>u32</td><td>u32</td><td>u32</td><td>u32</td><td>u32</td><td>u32</td><td>u32</td><td>u32</td><td>u32</td><td>u32</td><td>u32</td><td>u32</td><td>u32</td><td>u32</td><td>u32</td><td>u32</td><td>u32</td><td>u32</td><td>u32</td><td>u32</td></tr></thead><tbody><tr><td>0</td><td>0</td><td>0</td><td>0</td><td>0</td><td>0</td><td>0</td><td>0</td><td>0</td><td>0</td><td>0</td><td>0</td><td>0</td><td>0</td><td>0</td><td>0</td><td>0</td><td>0</td><td>0</td><td>0</td><td>0</td><td>0</td><td>0</td><td>0</td><td>0</td><td>0</td><td>0</td><td>0</td><td>0</td><td>0</td><td>0</td><td>0</td><td>0</td><td>0</td><td>0</td><td>0</td><td>0</td><td>0</td><td>0</td><td>0</td><td>0</td><td>0</td><td>0</td><td>0</td><td>0</td><td>0</td><td>0</td><td>0</td><td>0</td><td>0</td><td>0</td><td>0</td><td>0</td><td>0</td><td>0</td><td>0</td></tr></tbody></table></div>"
      ],
      "text/plain": [
       "shape: (1, 56)\n",
       "┌─────┬────────┬──────┬──────┬───┬─────┬──────┬─────┬─────┐\n",
       "│ id  ┆ branch ┆ year ┆ area ┆ … ┆ HAZ ┆ LSWP ┆ SFS ┆ LTT │\n",
       "│ --- ┆ ---    ┆ ---  ┆ ---  ┆   ┆ --- ┆ ---  ┆ --- ┆ --- │\n",
       "│ u32 ┆ u32    ┆ u32  ┆ u32  ┆   ┆ u32 ┆ u32  ┆ u32 ┆ u32 │\n",
       "╞═════╪════════╪══════╪══════╪═══╪═════╪══════╪═════╪═════╡\n",
       "│ 0   ┆ 0      ┆ 0    ┆ 0    ┆ … ┆ 0   ┆ 0    ┆ 0   ┆ 0   │\n",
       "└─────┴────────┴──────┴──────┴───┴─────┴──────┴─────┴─────┘"
      ]
     },
     "execution_count": 10,
     "metadata": {},
     "output_type": "execute_result"
    }
   ],
   "source": [
    "df.null_count()"
   ]
  },
  {
   "cell_type": "code",
   "execution_count": null,
   "id": "3c7a64d5-6228-4a91-94cd-1293dd16da81",
   "metadata": {},
   "outputs": [],
   "source": []
  }
 ],
 "metadata": {
  "kernelspec": {
   "display_name": "desdeo2",
   "language": "python",
   "name": "desdeo2"
  },
  "language_info": {
   "codemirror_mode": {
    "name": "ipython",
    "version": 3
   },
   "file_extension": ".py",
   "mimetype": "text/x-python",
   "name": "python",
   "nbconvert_exporter": "python",
   "pygments_lexer": "ipython3",
   "version": "3.12.1"
  }
 },
 "nbformat": 4,
 "nbformat_minor": 5
}
