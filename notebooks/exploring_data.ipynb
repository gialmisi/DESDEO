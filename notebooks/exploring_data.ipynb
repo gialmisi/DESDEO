{
 "cells": [
  {
   "cell_type": "code",
   "execution_count": 1,
   "id": "570f255c-09fc-4c59-8919-93439b77ef54",
   "metadata": {},
   "outputs": [
    {
     "name": "stdout",
     "output_type": "stream",
     "text": [
      "shape: (5, 56)\n",
      "┌───────┬────────┬──────┬──────────┬───┬─────┬──────┬─────┬─────┐\n",
      "│ id    ┆ branch ┆ year ┆ area     ┆ … ┆ HAZ ┆ LSWP ┆ SFS ┆ LTT │\n",
      "│ ---   ┆ ---    ┆ ---  ┆ ---      ┆   ┆ --- ┆ ---  ┆ --- ┆ --- │\n",
      "│ i64   ┆ i64    ┆ i64  ┆ f64      ┆   ┆ f64 ┆ f64  ┆ f64 ┆ f64 │\n",
      "╞═══════╪════════╪══════╪══════════╪═══╪═════╪══════╪═════╪═════╡\n",
      "│ 25037 ┆ 1      ┆ 1    ┆ 0.425325 ┆ … ┆ 0.0 ┆ 0.0  ┆ 0.0 ┆ 0.0 │\n",
      "│ 25037 ┆ 1      ┆ 2    ┆ 0.425325 ┆ … ┆ 0.0 ┆ 0.0  ┆ 0.0 ┆ 0.0 │\n",
      "│ 25037 ┆ 1      ┆ 3    ┆ 0.425325 ┆ … ┆ 0.0 ┆ 0.0  ┆ 0.0 ┆ 0.0 │\n",
      "│ 25037 ┆ 1      ┆ 4    ┆ 0.425325 ┆ … ┆ 0.0 ┆ 0.0  ┆ 0.0 ┆ 0.0 │\n",
      "│ 25037 ┆ 1      ┆ 5    ┆ 0.425325 ┆ … ┆ 0.0 ┆ 0.0  ┆ 0.0 ┆ 0.0 │\n",
      "└───────┴────────┴──────┴──────────┴───┴─────┴──────┴─────┴─────┘\n"
     ]
    }
   ],
   "source": [
    "import polars as pl\n",
    "\n",
    "df = pl.read_csv(\"../data/Vaaler_DATA_50.csv\", separator=\",\", has_header=True)\n",
    "\n",
    "print(df.head())"
   ]
  },
  {
   "cell_type": "code",
   "execution_count": 2,
   "id": "25dea0f5-f744-45e4-a95e-b1ec4cf591ca",
   "metadata": {},
   "outputs": [],
   "source": [
    "unique_stands = df[\"id\"].unique()\n",
    "n_unique_stands = len(unique_stands)\n",
    "\n",
    "unique_regimes = df[\"branch\"].unique()\n",
    "n_unique_regimes = len(unique_regimes)\n",
    "\n",
    "years = df[\"year\"].unique()\n",
    "n_years = len(years)"
   ]
  },
  {
   "cell_type": "code",
   "execution_count": 41,
   "id": "4dd0336e-3f60-4f15-9d31-f13d7922613e",
   "metadata": {},
   "outputs": [
    {
     "data": {
      "text/plain": [
       "['id',\n",
       " 'branch',\n",
       " 'year',\n",
       " 'area',\n",
       " 'age',\n",
       " 'reg_age',\n",
       " 'reg_n',\n",
       " 'reg_n_S',\n",
       " 'reg_n_P',\n",
       " 'reg_n_B',\n",
       " 'reg_hDom',\n",
       " 'reg_hDom_S',\n",
       " 'reg_hDom_P',\n",
       " 'reg_hDom_B',\n",
       " 'reg_d',\n",
       " 'Tr',\n",
       " 'Rg',\n",
       " 'INC',\n",
       " 'COST',\n",
       " 'Net',\n",
       " 'Harvested_V',\n",
       " 'Harvested_V_S',\n",
       " 'Harvested_V_P',\n",
       " 'Harvested_V_B',\n",
       " 'Harvested_V_log',\n",
       " 'Harvested_V_log_S',\n",
       " 'Harvested_V_log_P',\n",
       " 'Harvested_V_log_B',\n",
       " 'Harvested_V_pulp',\n",
       " 'Harvested_V_pulp_S',\n",
       " 'Harvested_V_pulp_P',\n",
       " 'Harvested_V_pulp_B',\n",
       " 'n',\n",
       " 'n_S',\n",
       " 'n_P',\n",
       " 'n_B',\n",
       " 'h',\n",
       " 'd',\n",
       " 'ba',\n",
       " 'V',\n",
       " 'V_Spruce',\n",
       " 'V_Pine',\n",
       " 'V_Birch',\n",
       " 'biomass',\n",
       " 'soil',\n",
       " 'products',\n",
       " 'biomass.1',\n",
       " 'soil.1',\n",
       " 'products.1',\n",
       " 'NPV',\n",
       " 'TTWP',\n",
       " 'CAP',\n",
       " 'HAZ',\n",
       " 'LSWP',\n",
       " 'SFS',\n",
       " 'LTT']"
      ]
     },
     "execution_count": 41,
     "metadata": {},
     "output_type": "execute_result"
    }
   ],
   "source": [
    "sorted_df = df.sort([\"id\", \"branch\", \"year\"])\n",
    "\n",
    "sorted_df.columns"
   ]
  },
  {
   "cell_type": "code",
   "execution_count": null,
   "id": "0dc93980-d83c-452f-85d7-fbc7c0d3eb82",
   "metadata": {},
   "outputs": [],
   "source": []
  }
 ],
 "metadata": {
  "kernelspec": {
   "display_name": "desdeo2",
   "language": "python",
   "name": "desdeo2"
  },
  "language_info": {
   "codemirror_mode": {
    "name": "ipython",
    "version": 3
   },
   "file_extension": ".py",
   "mimetype": "text/x-python",
   "name": "python",
   "nbconvert_exporter": "python",
   "pygments_lexer": "ipython3",
   "version": "3.12.1"
  }
 },
 "nbformat": 4,
 "nbformat_minor": 5
}
