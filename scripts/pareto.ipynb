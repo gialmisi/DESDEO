{
 "cells": [
  {
   "cell_type": "code",
   "execution_count": 1,
   "metadata": {},
   "outputs": [],
   "source": [
    "from problem_model import forest_problem_vaaler, simple_forest_problem\n",
    "from desdeo.problem import simple_knapsack, Problem\n",
    "from methods import binary_nsga3, binary_rvea\n",
    "from desdeo.emo.hooks.archivers import FeasibleArchive\n",
    "from desdeo.emo.operators.selection import ReferenceVectorOptions\n",
    "from desdeo.mcdm import rpm_solve_solutions\n",
    "from desdeo.tools import payoff_table_method, PyomoBonminSolver, PyomoCBCSolver\n",
    "from desdeo.tools.non_dominated_sorting import fast_non_dominated_sort\n",
    "import polars as pl\n",
    "import numpy as np\n",
    "import plotly.graph_objects as go\n",
    "from pathlib import Path"
   ]
  },
  {
   "cell_type": "code",
   "execution_count": 4,
   "metadata": {},
   "outputs": [],
   "source": [
    "problem = Problem.load_json(Path(\"../data/vaaler.json\"))\n",
    "\n"
   ]
  },
  {
   "cell_type": "code",
   "execution_count": 5,
   "metadata": {},
   "outputs": [],
   "source": [
    "\n",
    "# solver, publisher = binary_rvea(problem=problem, n_generations=500, reference_vector_options=ReferenceVectorOptions(number_of_vectors=1000), forced_verbosity=2)\n",
    "solver, publisher = binary_rvea(problem=problem)\n",
    "\n",
    "archive = FeasibleArchive(problem=problem, publisher=publisher)\n",
    "publisher.auto_subscribe(archive)"
   ]
  },
  {
   "cell_type": "code",
   "execution_count": 6,
   "metadata": {},
   "outputs": [],
   "source": [
    "emo_result = solver()"
   ]
  },
  {
   "cell_type": "code",
   "execution_count": 1,
   "metadata": {},
   "outputs": [
    {
     "ename": "NameError",
     "evalue": "name 'archive' is not defined",
     "output_type": "error",
     "traceback": [
      "\u001b[0;31m---------------------------------------------------------------------------\u001b[0m",
      "\u001b[0;31mNameError\u001b[0m                                 Traceback (most recent call last)",
      "Cell \u001b[0;32mIn[1], line 5\u001b[0m\n\u001b[1;32m      1\u001b[0m \u001b[38;5;66;03m#fronts = fast_non_dominated_sort(fitness)\u001b[39;00m\n\u001b[1;32m      2\u001b[0m \u001b[38;5;66;03m#fronts = [np.where(fronts[i])[0] for i in range(len(fronts))]\u001b[39;00m\n\u001b[1;32m      3\u001b[0m \u001b[38;5;66;03m# non_dominated = fronts[0]\u001b[39;00m\n\u001b[0;32m----> 5\u001b[0m temp \u001b[38;5;241m=\u001b[39m \u001b[43marchive\u001b[49m\u001b[38;5;241m.\u001b[39mfeasible_archive[[\u001b[38;5;124m\"\u001b[39m\u001b[38;5;124mNPV\u001b[39m\u001b[38;5;124m\"\u001b[39m, \u001b[38;5;124m\"\u001b[39m\u001b[38;5;124mDWV\u001b[39m\u001b[38;5;124m\"\u001b[39m]]\u001b[38;5;241m.\u001b[39mto_numpy()\n\u001b[1;32m      6\u001b[0m fronts \u001b[38;5;241m=\u001b[39m fast_non_dominated_sort(temp)\n\u001b[1;32m      7\u001b[0m fronts \u001b[38;5;241m=\u001b[39m [np\u001b[38;5;241m.\u001b[39mwhere(fronts[i])[\u001b[38;5;241m0\u001b[39m] \u001b[38;5;28;01mfor\u001b[39;00m i \u001b[38;5;129;01min\u001b[39;00m \u001b[38;5;28mrange\u001b[39m(\u001b[38;5;28mlen\u001b[39m(fronts))]\n",
      "\u001b[0;31mNameError\u001b[0m: name 'archive' is not defined"
     ]
    }
   ],
   "source": [
    "#fronts = fast_non_dominated_sort(fitness)\n",
    "#fronts = [np.where(fronts[i])[0] for i in range(len(fronts))]\n",
    "# non_dominated = fronts[0]\n",
    "\n",
    "temp = archive.feasible_archive[[\"NPV\", \"DWV\"]].to_numpy()\n",
    "fronts = fast_non_dominated_sort(temp)\n",
    "fronts = [np.where(fronts[i])[0] for i in range(len(fronts))]\n",
    "non_dominated = fronts[0]\n",
    "non_dom_indices = non_dominated\n",
    "\n",
    "non_dom_solutions = archive.feasible_archive[non_dom_indices]"
   ]
  },
  {
   "cell_type": "code",
   "execution_count": 28,
   "metadata": {},
   "outputs": [
    {
     "name": "stdout",
     "output_type": "stream",
     "text": [
      "ideal={'NPV': 6584.0, 'DWV': 6180.0}\n",
      "nadir={'NPV': 15.0, 'DWV': 4980.0}\n"
     ]
    },
    {
     "data": {
      "text/plain": [
       "[SolverResults(optimal_variables={'X_1': [[0.0, 0.0, 0.0, 1.0], [0.0, 0.0, 1.0, 0.0], [0.0, 0.0, 1.0, 0.0]], 'X_2': [[0.0, 0.0, 0.0, 1.0], [0.0, 0.0, 1.0, 0.0], [0.0, 1.0, 0.0, 0.0]], 'X_3': [[0.0, 1.0, 0.0, 0.0], [0.0, 0.0, 0.0, 1.0], [0.0, 1.0, 0.0, 0.0]], 'X_4': [[0.0, 1.0, 0.0, 0.0], [0.0, 0.0, 1.0, 0.0], [1.0, 0.0, 0.0, 0.0]], 'X_5': [[0.0, 0.0, 0.0, 1.0], [0.0, 0.0, 0.0, 1.0], [0.0, 0.0, 1.0, 0.0]], '_alpha': -0.275}, optimal_objectives={'NPV': 4109.0, 'DWV': 6020.0}, constraint_values={'row_constraint_00': 0.0, 'row_constraint_00_': 0.0, 'row_constraint_01': 0.0, 'row_constraint_01_': 0.0, 'row_constraint_02': 0.0, 'row_constraint_02_': 0.0, 'row_constraint_10': 0.0, 'row_constraint_10_': 0.0, 'row_constraint_11': 0.0, 'row_constraint_11_': 0.0, 'row_constraint_12': 0.0, 'row_constraint_12_': 0.0, 'row_constraint_20': 0.0, 'row_constraint_20_': 0.0, 'row_constraint_21': 0.0, 'row_constraint_21_': 0.0, 'row_constraint_22': 0.0, 'row_constraint_22_': 0.0, 'row_constraint_30': 0.0, 'row_constraint_30_': 0.0, 'row_constraint_31': 0.0, 'row_constraint_31_': 0.0, 'row_constraint_32': 0.0, 'row_constraint_32_': 0.0, 'row_constraint_40': 0.0, 'row_constraint_40_': 0.0, 'row_constraint_41': 0.0, 'row_constraint_41_': 0.0, 'row_constraint_42': 0.0, 'row_constraint_42_': 0.0, 'NPV_con': -0.02093545436201316, 'DWV_con': 2.2916674113915292e-10}, success=True, message=\"Pyomo solver status is: 'ok', with termination condition: 'optimal'.\"),\n",
       " SolverResults(optimal_variables={'X_1': [[0.0, 0.0, 0.0, 1.0], [0.0, 0.0, 1.0, 0.0], [0.0, 0.0, 1.0, 0.0]], 'X_2': [[0.0, 0.0, 0.0, 1.0], [0.0, 0.0, 1.0, 0.0], [0.0, 0.0, 1.0, 0.0]], 'X_3': [[0.0, 1.0, 0.0, 0.0], [0.0, 0.0, 1.0, 0.0], [0.0, 1.0, 0.0, 0.0]], 'X_4': [[0.0, 1.0, 0.0, 0.0], [0.0, 0.0, 1.0, 0.0], [0.0, 0.0, 1.0, 0.0]], 'X_5': [[0.0, 0.0, 0.0, 1.0], [0.0, 0.0, 1.0, 0.0], [0.0, 0.0, 1.0, 0.0]], '_alpha': -0.15}, optimal_objectives={'NPV': 5163.0, 'DWV': 5870.0}, constraint_values={'row_constraint_00': 0.0, 'row_constraint_00_': 0.0, 'row_constraint_01': 0.0, 'row_constraint_01_': 0.0, 'row_constraint_02': 0.0, 'row_constraint_02_': 0.0, 'row_constraint_10': 0.0, 'row_constraint_10_': 0.0, 'row_constraint_11': 0.0, 'row_constraint_11_': 0.0, 'row_constraint_12': 0.0, 'row_constraint_12_': 0.0, 'row_constraint_20': 0.0, 'row_constraint_20_': 0.0, 'row_constraint_21': 0.0, 'row_constraint_21_': 0.0, 'row_constraint_22': 0.0, 'row_constraint_22_': 0.0, 'row_constraint_30': 0.0, 'row_constraint_30_': 0.0, 'row_constraint_31': 0.0, 'row_constraint_31_': 0.0, 'row_constraint_32': 0.0, 'row_constraint_32_': 0.0, 'row_constraint_40': 0.0, 'row_constraint_40_': 0.0, 'row_constraint_41': 0.0, 'row_constraint_41_': 0.0, 'row_constraint_42': 0.0, 'row_constraint_42_': 0.0, 'NPV_con': -0.006217029096822119, 'DWV_con': 1.25000038098122e-10}, success=True, message=\"Pyomo solver status is: 'ok', with termination condition: 'optimal'.\"),\n",
       " SolverResults(optimal_variables={'X_1': [[0.0, 0.0, 0.0, 1.0], [0.0, 0.0, 0.0, 1.0], [0.0, 0.0, 0.0, 1.0]], 'X_2': [[0.0, 0.0, 0.0, 1.0], [0.0, 0.0, 0.0, 1.0], [0.0, 1.0, 0.0, 0.0]], 'X_3': [[0.0, 0.0, 0.0, 1.0], [0.0, 0.0, 0.0, 1.0], [0.0, 1.0, 0.0, 0.0]], 'X_4': [[0.0, 1.0, 0.0, 0.0], [0.0, 0.0, 0.0, 1.0], [1.0, 0.0, 0.0, 0.0]], 'X_5': [[0.0, 0.0, 0.0, 1.0], [0.0, 0.0, 0.0, 1.0], [0.0, 0.0, 0.0, 1.0]], '_alpha': 1.2348419}, optimal_objectives={'NPV': 1485.0, 'DWV': 6180.0}, constraint_values={'row_constraint_00': 0.0, 'row_constraint_00_': 0.0, 'row_constraint_01': 0.0, 'row_constraint_01_': 0.0, 'row_constraint_02': 0.0, 'row_constraint_02_': 0.0, 'row_constraint_10': 0.0, 'row_constraint_10_': 0.0, 'row_constraint_11': 0.0, 'row_constraint_11_': 0.0, 'row_constraint_12': 0.0, 'row_constraint_12_': 0.0, 'row_constraint_20': 0.0, 'row_constraint_20_': 0.0, 'row_constraint_21': 0.0, 'row_constraint_21_': 0.0, 'row_constraint_22': 0.0, 'row_constraint_22_': 0.0, 'row_constraint_30': 0.0, 'row_constraint_30_': 0.0, 'row_constraint_31': 0.0, 'row_constraint_31_': 0.0, 'row_constraint_32': 0.0, 'row_constraint_32_': 0.0, 'row_constraint_40': 0.0, 'row_constraint_40_': 0.0, 'row_constraint_41': 0.0, 'row_constraint_41_': 0.0, 'row_constraint_42': 0.0, 'row_constraint_42_': 0.0, 'NPV_con': -1.1313253830420942, 'DWV_con': 4.539326337038574e-08}, success=True, message=\"Pyomo solver status is: 'ok', with termination condition: 'optimal'.\")]"
      ]
     },
     "execution_count": 28,
     "metadata": {},
     "output_type": "execute_result"
    }
   ],
   "source": [
    "ref_point = {\"NPV\": 2165, \"DWV\": 5690}\n",
    "\n",
    "ideal = {\"NPV\": archive.feasible_archive[\"NPV\"].max(), \"DWV\": archive.feasible_archive[\"DWV\"].max()}\n",
    "nadir = {\"NPV\": archive.feasible_archive[\"NPV\"].min(), \"DWV\": archive.feasible_archive[\"DWV\"].min()}\n",
    "\n",
    "print(f\"{ideal=}\")\n",
    "print(f\"{nadir=}\")\n",
    "problem = problem.update_ideal_and_nadir(new_ideal=ideal, new_nadir=nadir)\n",
    "\n",
    "problem.get_constraint(\"row_constraint_00\")\n",
    "\n",
    "mcdm_result = rpm_solve_solutions(problem, reference_point=ref_point, solver=PyomoCBCSolver)\n",
    "mcdm_result"
   ]
  },
  {
   "cell_type": "code",
   "execution_count": 29,
   "metadata": {},
   "outputs": [
    {
     "data": {
      "application/vnd.plotly.v1+json": {
       "config": {
        "plotlyServerURL": "https://plot.ly"
       },
       "data": [
        {
         "marker": {
          "color": "blue",
          "size": 6
         },
         "mode": "markers",
         "name": "raw",
         "type": "scatter",
         "x": [
          16299,
          16289,
          16039,
          16034,
          16035,
          16008,
          15997,
          15984,
          15980,
          15972,
          15954,
          15955,
          15940,
          15933,
          15928,
          15912,
          15894,
          15889,
          15876,
          15866,
          15858,
          15865,
          15867,
          15832,
          15859,
          15990,
          15789,
          15763,
          15737,
          15733,
          15728,
          15720,
          15710,
          15708,
          15689,
          15685,
          15675,
          15650,
          15656,
          15643,
          15634,
          15629,
          15625,
          15600,
          15593,
          15582,
          15563,
          15571,
          15546,
          15513,
          15505,
          15492,
          15485,
          15474,
          15470,
          15469,
          15437,
          15435,
          15421,
          15414,
          15400,
          15405,
          15396,
          15378,
          15378,
          15369,
          15344,
          15342,
          15333,
          15302,
          15246,
          15222,
          15233,
          15203,
          15192,
          15238,
          15189,
          15160,
          15138,
          15139,
          15123,
          15129,
          15096,
          15101,
          15068,
          15081,
          15046,
          15046,
          15043,
          15024,
          14966,
          14958,
          14939,
          14913,
          14919,
          14910,
          14907,
          14883,
          14926,
          14858,
          14866,
          14861,
          14843,
          14828,
          14784,
          14771,
          14809,
          14781,
          14771,
          14676,
          14666,
          14675,
          14651,
          14652,
          14653,
          14601,
          14596,
          14585,
          14560,
          14539,
          14543,
          14553,
          14493,
          14517,
          14378,
          14376,
          14389,
          14360,
          14352,
          14363,
          14348,
          14326,
          14506,
          14327,
          14278,
          14263,
          14272,
          14249,
          14231,
          14269,
          14078,
          14109,
          14084,
          14057,
          14046,
          14051,
          14116,
          13998,
          13980,
          13993,
          13982,
          14280,
          13910,
          13798,
          13801,
          13792,
          13787,
          13788,
          13742,
          13767,
          13939,
          13694,
          13691,
          13676,
          13631,
          13514,
          13512,
          13499,
          13491,
          13448,
          13478,
          13450,
          13453,
          13450,
          13374,
          13324,
          13221,
          13232,
          13199,
          13196,
          13152,
          13165,
          13148,
          13119,
          13138,
          13091,
          13060,
          12891,
          12926,
          12866,
          13106,
          12830,
          12865,
          12815,
          12797,
          12836,
          12622,
          12587,
          12591,
          12581,
          12816,
          12565,
          12535,
          12520,
          12478,
          12556,
          12316,
          12282,
          12302,
          12238,
          12265,
          12201,
          12138,
          12156,
          11987,
          12465,
          11957,
          11915,
          11918,
          11938,
          11830,
          12047,
          11698,
          11699,
          11911,
          11610,
          11630,
          11608,
          11821,
          11533,
          11360,
          11347,
          11258,
          11317,
          11200,
          11212,
          11260,
          11053,
          10971,
          10963,
          10941,
          10952,
          10900,
          12582,
          11142,
          10641,
          10673,
          10736,
          10639,
          10664,
          10962,
          10532,
          10326,
          10357,
          10291,
          10210,
          10291,
          10239,
          10167,
          10128,
          10099,
          9938,
          9899,
          9895,
          9856,
          9769,
          9675,
          9549,
          9584,
          9564,
          9477,
          9494,
          9274,
          9205,
          9254,
          9168,
          9131,
          9127,
          9038,
          8882,
          8851,
          8776,
          8797,
          8681,
          8538,
          8464,
          8446,
          8800,
          8445,
          8187,
          8120,
          8704,
          8198,
          7815,
          7764,
          7754,
          7683,
          7670,
          7397,
          8332,
          7530,
          7322,
          7230,
          6989,
          6919,
          6922,
          6886,
          6876,
          6721,
          6511,
          6687,
          7050,
          6903,
          6250,
          6034,
          6500,
          6201,
          6150,
          5805,
          6388,
          6108,
          6003,
          6031,
          5936,
          5886,
          5893,
          5750,
          5750,
          5620,
          5901,
          5687,
          5557,
          5611,
          5584,
          5496,
          5398,
          5325,
          5182,
          5162,
          5072,
          6695,
          5028,
          5050,
          4876,
          5231,
          4889,
          4704,
          4803,
          4648,
          4796,
          4891,
          4641,
          4551,
          4470,
          4522,
          4474,
          4726,
          5874,
          4350,
          4298,
          4440,
          4023,
          4215,
          4174,
          5655,
          3987,
          3969,
          14402,
          3771,
          3684,
          3462,
          3708,
          3575,
          3518,
          4467,
          3494,
          3489,
          3731,
          3343,
          3217,
          3202,
          3067,
          2903,
          3080,
          2950,
          2893,
          2921,
          6862,
          2727,
          2784,
          3113,
          2684,
          2661,
          2465,
          2442,
          2069,
          2417,
          2150,
          1749,
          2351,
          2427,
          3606,
          3585,
          2053,
          2657,
          2023,
          1962,
          1832,
          1918,
          1727,
          1619,
          1410,
          1593,
          1665,
          1566,
          1509,
          1327,
          1341,
          1057,
          1239,
          1219,
          1135,
          1015,
          1050,
          876,
          1963,
          2200,
          866,
          813,
          1716,
          673,
          551,
          1239,
          264,
          9443,
          307,
          552,
          526,
          1124,
          426,
          15,
          265,
          3622,
          527,
          1690,
          825,
          1215,
          1125,
          1375,
          1765,
          2154,
          3171,
          4368,
          7634,
          4739,
          9102,
          4989,
          5772,
          5282,
          5620,
          6407,
          6377,
          6657,
          6895,
          7702,
          7635,
          7978,
          9285,
          8784,
          8570,
          10365,
          9295,
          9226,
          9713,
          10497,
          10622,
          10996,
          11249,
          11675,
          11664,
          12033,
          12085,
          12456,
          12883,
          12896,
          12918,
          13389,
          13247,
          13221,
          13229,
          13673,
          13681,
          14192,
          14479,
          14954
         ],
         "y": [
          20940,
          17000,
          14440,
          14480,
          14920,
          14470,
          14510,
          14410,
          14480,
          14450,
          14440,
          14500,
          14460,
          14460,
          14430,
          14470,
          14360,
          14440,
          14410,
          14390,
          14420,
          14700,
          14830,
          14410,
          14880,
          16800,
          14160,
          14150,
          14160,
          14170,
          14200,
          14210,
          14170,
          14240,
          14210,
          14220,
          14230,
          14050,
          14200,
          14190,
          14140,
          14180,
          14220,
          14160,
          14140,
          14150,
          14020,
          14170,
          14090,
          13870,
          13900,
          13840,
          13860,
          13840,
          13950,
          14030,
          13830,
          13850,
          13840,
          13870,
          13820,
          13930,
          13930,
          13860,
          13930,
          13930,
          13810,
          13930,
          13930,
          13840,
          13540,
          13480,
          13600,
          13550,
          13540,
          13920,
          13650,
          13590,
          13510,
          13580,
          13540,
          13640,
          13560,
          13650,
          13510,
          13650,
          13490,
          13560,
          13580,
          13550,
          13270,
          13300,
          13270,
          13180,
          13250,
          13260,
          13300,
          13230,
          13550,
          13270,
          13360,
          13400,
          13360,
          13340,
          13170,
          13160,
          13410,
          13320,
          13330,
          12920,
          12920,
          13020,
          12960,
          13020,
          13080,
          12870,
          12990,
          12980,
          12920,
          12850,
          12950,
          13050,
          12940,
          13100,
          12560,
          12590,
          12700,
          12630,
          12650,
          12750,
          12740,
          12700,
          13480,
          12810,
          12660,
          12630,
          12740,
          12750,
          12730,
          12930,
          12230,
          12410,
          12340,
          12310,
          12320,
          12390,
          12670,
          12290,
          12270,
          12380,
          12390,
          13520,
          12280,
          11940,
          11990,
          12010,
          12060,
          12100,
          11990,
          12120,
          12840,
          12030,
          12070,
          12070,
          12020,
          11680,
          11720,
          11730,
          11760,
          11660,
          11820,
          11780,
          11840,
          11880,
          11690,
          11640,
          11370,
          11450,
          11400,
          11440,
          11410,
          11500,
          11500,
          11470,
          11570,
          11480,
          11440,
          11050,
          11200,
          11080,
          11820,
          11080,
          11230,
          11190,
          11190,
          11370,
          10810,
          10770,
          10820,
          10850,
          11550,
          10910,
          10880,
          10890,
          10830,
          11090,
          10510,
          10470,
          10550,
          10460,
          10580,
          10470,
          10430,
          10510,
          10190,
          11430,
          10220,
          10170,
          10230,
          10330,
          10120,
          10680,
          9920,
          9940,
          10550,
          9910,
          10010,
          10010,
          10540,
          9940,
          9610,
          9620,
          9470,
          9710,
          9500,
          9580,
          9740,
          9320,
          9220,
          9250,
          9250,
          9330,
          9270,
          12940,
          9920,
          8900,
          9000,
          9180,
          9040,
          9160,
          9820,
          8980,
          8620,
          8730,
          8650,
          8540,
          8760,
          8710,
          8620,
          8620,
          8570,
          8330,
          8310,
          8360,
          8340,
          8250,
          8100,
          7940,
          8040,
          8060,
          7950,
          8040,
          7680,
          7610,
          7760,
          7660,
          7650,
          7710,
          7620,
          7340,
          7380,
          7320,
          7390,
          7260,
          7040,
          6970,
          7000,
          7700,
          7120,
          6740,
          6670,
          7840,
          7020,
          6450,
          6430,
          6480,
          6420,
          6430,
          6080,
          7670,
          6390,
          6130,
          6040,
          5730,
          5690,
          5740,
          5740,
          5790,
          5600,
          5340,
          5730,
          6400,
          6210,
          5250,
          4960,
          5770,
          5360,
          5380,
          4900,
          5850,
          5480,
          5390,
          5520,
          5420,
          5410,
          5470,
          5340,
          5400,
          5250,
          5750,
          5500,
          5410,
          5520,
          5550,
          5480,
          5530,
          5500,
          5360,
          5460,
          5460,
          7780,
          5530,
          5650,
          5450,
          6010,
          5600,
          5410,
          5620,
          5470,
          5720,
          5920,
          5640,
          5580,
          5540,
          5670,
          5670,
          6030,
          7570,
          5700,
          5690,
          5960,
          5470,
          5780,
          5790,
          7700,
          5670,
          5710,
          18610,
          5660,
          5610,
          5400,
          5770,
          5660,
          5660,
          6870,
          5750,
          5800,
          6160,
          5760,
          5680,
          5790,
          5700,
          5560,
          5820,
          5730,
          5730,
          5820,
          10320,
          5750,
          5850,
          6250,
          5860,
          5900,
          5740,
          5760,
          5460,
          5870,
          5640,
          5250,
          5980,
          6130,
          7410,
          7490,
          5900,
          6590,
          5990,
          5990,
          5910,
          6050,
          5940,
          5900,
          5720,
          5970,
          6090,
          6060,
          6060,
          5940,
          6020,
          5790,
          6030,
          6070,
          6050,
          5990,
          6080,
          5980,
          7070,
          7350,
          6140,
          6150,
          7060,
          6140,
          6090,
          6850,
          5970,
          14570,
          6140,
          6460,
          6460,
          7050,
          6510,
          6180,
          6460,
          9530,
          6830,
          7930,
          7190,
          7590,
          7540,
          7820,
          8220,
          8610,
          9570,
          10640,
          13550,
          11130,
          14840,
          11410,
          12100,
          11720,
          12030,
          12730,
          12740,
          13010,
          13230,
          13910,
          13930,
          14230,
          15300,
          14940,
          14770,
          16230,
          15410,
          15380,
          15780,
          16430,
          16540,
          16850,
          17060,
          17400,
          17410,
          17700,
          17750,
          18050,
          18380,
          18400,
          18440,
          18790,
          18700,
          18690,
          18710,
          19040,
          19060,
          19440,
          19690,
          20030
         ]
        },
        {
         "marker": {
          "color": "red",
          "opacity": 0.5,
          "size": 10
         },
         "mode": "markers",
         "name": "feasible non-dominated",
         "type": "scatter",
         "x": [
          3659,
          3371,
          3371,
          5746,
          4133,
          4898,
          5746,
          5033,
          4941,
          5746,
          2495,
          1901,
          1901,
          5482,
          15,
          15,
          1025,
          15,
          1025,
          606,
          15,
          1025,
          15,
          259,
          606,
          15,
          606,
          1025,
          15,
          15,
          1988,
          606,
          15,
          1356,
          1336,
          15,
          15,
          264,
          15,
          15,
          2633,
          15,
          15,
          1699,
          264,
          3031,
          15,
          264,
          15,
          15,
          15,
          15,
          15
         ],
         "y": [
          5170,
          5360,
          5360,
          4980,
          5160,
          5150,
          4980,
          5130,
          5140,
          4980,
          5450,
          5610,
          5610,
          5120,
          6180,
          6180,
          5750,
          6180,
          5750,
          5830,
          6180,
          5750,
          6180,
          6130,
          5830,
          6180,
          5830,
          5750,
          6180,
          6180,
          5480,
          5830,
          6180,
          5650,
          5690,
          6180,
          6180,
          5970,
          6180,
          6180,
          5410,
          6180,
          6180,
          5630,
          5970,
          5400,
          6180,
          5970,
          6180,
          6180,
          6180,
          6180,
          6180
         ]
        },
        {
         "marker": {
          "color": "green",
          "size": 8
         },
         "mode": "markers",
         "name": "PO",
         "type": "scatter",
         "x": [
          4109,
          5163,
          1485
         ],
         "y": [
          6020,
          5870,
          6180
         ]
        }
       ],
       "layout": {
        "template": {
         "data": {
          "bar": [
           {
            "error_x": {
             "color": "#2a3f5f"
            },
            "error_y": {
             "color": "#2a3f5f"
            },
            "marker": {
             "line": {
              "color": "#E5ECF6",
              "width": 0.5
             },
             "pattern": {
              "fillmode": "overlay",
              "size": 10,
              "solidity": 0.2
             }
            },
            "type": "bar"
           }
          ],
          "barpolar": [
           {
            "marker": {
             "line": {
              "color": "#E5ECF6",
              "width": 0.5
             },
             "pattern": {
              "fillmode": "overlay",
              "size": 10,
              "solidity": 0.2
             }
            },
            "type": "barpolar"
           }
          ],
          "carpet": [
           {
            "aaxis": {
             "endlinecolor": "#2a3f5f",
             "gridcolor": "white",
             "linecolor": "white",
             "minorgridcolor": "white",
             "startlinecolor": "#2a3f5f"
            },
            "baxis": {
             "endlinecolor": "#2a3f5f",
             "gridcolor": "white",
             "linecolor": "white",
             "minorgridcolor": "white",
             "startlinecolor": "#2a3f5f"
            },
            "type": "carpet"
           }
          ],
          "choropleth": [
           {
            "colorbar": {
             "outlinewidth": 0,
             "ticks": ""
            },
            "type": "choropleth"
           }
          ],
          "contour": [
           {
            "colorbar": {
             "outlinewidth": 0,
             "ticks": ""
            },
            "colorscale": [
             [
              0,
              "#0d0887"
             ],
             [
              0.1111111111111111,
              "#46039f"
             ],
             [
              0.2222222222222222,
              "#7201a8"
             ],
             [
              0.3333333333333333,
              "#9c179e"
             ],
             [
              0.4444444444444444,
              "#bd3786"
             ],
             [
              0.5555555555555556,
              "#d8576b"
             ],
             [
              0.6666666666666666,
              "#ed7953"
             ],
             [
              0.7777777777777778,
              "#fb9f3a"
             ],
             [
              0.8888888888888888,
              "#fdca26"
             ],
             [
              1,
              "#f0f921"
             ]
            ],
            "type": "contour"
           }
          ],
          "contourcarpet": [
           {
            "colorbar": {
             "outlinewidth": 0,
             "ticks": ""
            },
            "type": "contourcarpet"
           }
          ],
          "heatmap": [
           {
            "colorbar": {
             "outlinewidth": 0,
             "ticks": ""
            },
            "colorscale": [
             [
              0,
              "#0d0887"
             ],
             [
              0.1111111111111111,
              "#46039f"
             ],
             [
              0.2222222222222222,
              "#7201a8"
             ],
             [
              0.3333333333333333,
              "#9c179e"
             ],
             [
              0.4444444444444444,
              "#bd3786"
             ],
             [
              0.5555555555555556,
              "#d8576b"
             ],
             [
              0.6666666666666666,
              "#ed7953"
             ],
             [
              0.7777777777777778,
              "#fb9f3a"
             ],
             [
              0.8888888888888888,
              "#fdca26"
             ],
             [
              1,
              "#f0f921"
             ]
            ],
            "type": "heatmap"
           }
          ],
          "heatmapgl": [
           {
            "colorbar": {
             "outlinewidth": 0,
             "ticks": ""
            },
            "colorscale": [
             [
              0,
              "#0d0887"
             ],
             [
              0.1111111111111111,
              "#46039f"
             ],
             [
              0.2222222222222222,
              "#7201a8"
             ],
             [
              0.3333333333333333,
              "#9c179e"
             ],
             [
              0.4444444444444444,
              "#bd3786"
             ],
             [
              0.5555555555555556,
              "#d8576b"
             ],
             [
              0.6666666666666666,
              "#ed7953"
             ],
             [
              0.7777777777777778,
              "#fb9f3a"
             ],
             [
              0.8888888888888888,
              "#fdca26"
             ],
             [
              1,
              "#f0f921"
             ]
            ],
            "type": "heatmapgl"
           }
          ],
          "histogram": [
           {
            "marker": {
             "pattern": {
              "fillmode": "overlay",
              "size": 10,
              "solidity": 0.2
             }
            },
            "type": "histogram"
           }
          ],
          "histogram2d": [
           {
            "colorbar": {
             "outlinewidth": 0,
             "ticks": ""
            },
            "colorscale": [
             [
              0,
              "#0d0887"
             ],
             [
              0.1111111111111111,
              "#46039f"
             ],
             [
              0.2222222222222222,
              "#7201a8"
             ],
             [
              0.3333333333333333,
              "#9c179e"
             ],
             [
              0.4444444444444444,
              "#bd3786"
             ],
             [
              0.5555555555555556,
              "#d8576b"
             ],
             [
              0.6666666666666666,
              "#ed7953"
             ],
             [
              0.7777777777777778,
              "#fb9f3a"
             ],
             [
              0.8888888888888888,
              "#fdca26"
             ],
             [
              1,
              "#f0f921"
             ]
            ],
            "type": "histogram2d"
           }
          ],
          "histogram2dcontour": [
           {
            "colorbar": {
             "outlinewidth": 0,
             "ticks": ""
            },
            "colorscale": [
             [
              0,
              "#0d0887"
             ],
             [
              0.1111111111111111,
              "#46039f"
             ],
             [
              0.2222222222222222,
              "#7201a8"
             ],
             [
              0.3333333333333333,
              "#9c179e"
             ],
             [
              0.4444444444444444,
              "#bd3786"
             ],
             [
              0.5555555555555556,
              "#d8576b"
             ],
             [
              0.6666666666666666,
              "#ed7953"
             ],
             [
              0.7777777777777778,
              "#fb9f3a"
             ],
             [
              0.8888888888888888,
              "#fdca26"
             ],
             [
              1,
              "#f0f921"
             ]
            ],
            "type": "histogram2dcontour"
           }
          ],
          "mesh3d": [
           {
            "colorbar": {
             "outlinewidth": 0,
             "ticks": ""
            },
            "type": "mesh3d"
           }
          ],
          "parcoords": [
           {
            "line": {
             "colorbar": {
              "outlinewidth": 0,
              "ticks": ""
             }
            },
            "type": "parcoords"
           }
          ],
          "pie": [
           {
            "automargin": true,
            "type": "pie"
           }
          ],
          "scatter": [
           {
            "fillpattern": {
             "fillmode": "overlay",
             "size": 10,
             "solidity": 0.2
            },
            "type": "scatter"
           }
          ],
          "scatter3d": [
           {
            "line": {
             "colorbar": {
              "outlinewidth": 0,
              "ticks": ""
             }
            },
            "marker": {
             "colorbar": {
              "outlinewidth": 0,
              "ticks": ""
             }
            },
            "type": "scatter3d"
           }
          ],
          "scattercarpet": [
           {
            "marker": {
             "colorbar": {
              "outlinewidth": 0,
              "ticks": ""
             }
            },
            "type": "scattercarpet"
           }
          ],
          "scattergeo": [
           {
            "marker": {
             "colorbar": {
              "outlinewidth": 0,
              "ticks": ""
             }
            },
            "type": "scattergeo"
           }
          ],
          "scattergl": [
           {
            "marker": {
             "colorbar": {
              "outlinewidth": 0,
              "ticks": ""
             }
            },
            "type": "scattergl"
           }
          ],
          "scattermapbox": [
           {
            "marker": {
             "colorbar": {
              "outlinewidth": 0,
              "ticks": ""
             }
            },
            "type": "scattermapbox"
           }
          ],
          "scatterpolar": [
           {
            "marker": {
             "colorbar": {
              "outlinewidth": 0,
              "ticks": ""
             }
            },
            "type": "scatterpolar"
           }
          ],
          "scatterpolargl": [
           {
            "marker": {
             "colorbar": {
              "outlinewidth": 0,
              "ticks": ""
             }
            },
            "type": "scatterpolargl"
           }
          ],
          "scatterternary": [
           {
            "marker": {
             "colorbar": {
              "outlinewidth": 0,
              "ticks": ""
             }
            },
            "type": "scatterternary"
           }
          ],
          "surface": [
           {
            "colorbar": {
             "outlinewidth": 0,
             "ticks": ""
            },
            "colorscale": [
             [
              0,
              "#0d0887"
             ],
             [
              0.1111111111111111,
              "#46039f"
             ],
             [
              0.2222222222222222,
              "#7201a8"
             ],
             [
              0.3333333333333333,
              "#9c179e"
             ],
             [
              0.4444444444444444,
              "#bd3786"
             ],
             [
              0.5555555555555556,
              "#d8576b"
             ],
             [
              0.6666666666666666,
              "#ed7953"
             ],
             [
              0.7777777777777778,
              "#fb9f3a"
             ],
             [
              0.8888888888888888,
              "#fdca26"
             ],
             [
              1,
              "#f0f921"
             ]
            ],
            "type": "surface"
           }
          ],
          "table": [
           {
            "cells": {
             "fill": {
              "color": "#EBF0F8"
             },
             "line": {
              "color": "white"
             }
            },
            "header": {
             "fill": {
              "color": "#C8D4E3"
             },
             "line": {
              "color": "white"
             }
            },
            "type": "table"
           }
          ]
         },
         "layout": {
          "annotationdefaults": {
           "arrowcolor": "#2a3f5f",
           "arrowhead": 0,
           "arrowwidth": 1
          },
          "autotypenumbers": "strict",
          "coloraxis": {
           "colorbar": {
            "outlinewidth": 0,
            "ticks": ""
           }
          },
          "colorscale": {
           "diverging": [
            [
             0,
             "#8e0152"
            ],
            [
             0.1,
             "#c51b7d"
            ],
            [
             0.2,
             "#de77ae"
            ],
            [
             0.3,
             "#f1b6da"
            ],
            [
             0.4,
             "#fde0ef"
            ],
            [
             0.5,
             "#f7f7f7"
            ],
            [
             0.6,
             "#e6f5d0"
            ],
            [
             0.7,
             "#b8e186"
            ],
            [
             0.8,
             "#7fbc41"
            ],
            [
             0.9,
             "#4d9221"
            ],
            [
             1,
             "#276419"
            ]
           ],
           "sequential": [
            [
             0,
             "#0d0887"
            ],
            [
             0.1111111111111111,
             "#46039f"
            ],
            [
             0.2222222222222222,
             "#7201a8"
            ],
            [
             0.3333333333333333,
             "#9c179e"
            ],
            [
             0.4444444444444444,
             "#bd3786"
            ],
            [
             0.5555555555555556,
             "#d8576b"
            ],
            [
             0.6666666666666666,
             "#ed7953"
            ],
            [
             0.7777777777777778,
             "#fb9f3a"
            ],
            [
             0.8888888888888888,
             "#fdca26"
            ],
            [
             1,
             "#f0f921"
            ]
           ],
           "sequentialminus": [
            [
             0,
             "#0d0887"
            ],
            [
             0.1111111111111111,
             "#46039f"
            ],
            [
             0.2222222222222222,
             "#7201a8"
            ],
            [
             0.3333333333333333,
             "#9c179e"
            ],
            [
             0.4444444444444444,
             "#bd3786"
            ],
            [
             0.5555555555555556,
             "#d8576b"
            ],
            [
             0.6666666666666666,
             "#ed7953"
            ],
            [
             0.7777777777777778,
             "#fb9f3a"
            ],
            [
             0.8888888888888888,
             "#fdca26"
            ],
            [
             1,
             "#f0f921"
            ]
           ]
          },
          "colorway": [
           "#636efa",
           "#EF553B",
           "#00cc96",
           "#ab63fa",
           "#FFA15A",
           "#19d3f3",
           "#FF6692",
           "#B6E880",
           "#FF97FF",
           "#FECB52"
          ],
          "font": {
           "color": "#2a3f5f"
          },
          "geo": {
           "bgcolor": "white",
           "lakecolor": "white",
           "landcolor": "#E5ECF6",
           "showlakes": true,
           "showland": true,
           "subunitcolor": "white"
          },
          "hoverlabel": {
           "align": "left"
          },
          "hovermode": "closest",
          "mapbox": {
           "style": "light"
          },
          "paper_bgcolor": "white",
          "plot_bgcolor": "#E5ECF6",
          "polar": {
           "angularaxis": {
            "gridcolor": "white",
            "linecolor": "white",
            "ticks": ""
           },
           "bgcolor": "#E5ECF6",
           "radialaxis": {
            "gridcolor": "white",
            "linecolor": "white",
            "ticks": ""
           }
          },
          "scene": {
           "xaxis": {
            "backgroundcolor": "#E5ECF6",
            "gridcolor": "white",
            "gridwidth": 2,
            "linecolor": "white",
            "showbackground": true,
            "ticks": "",
            "zerolinecolor": "white"
           },
           "yaxis": {
            "backgroundcolor": "#E5ECF6",
            "gridcolor": "white",
            "gridwidth": 2,
            "linecolor": "white",
            "showbackground": true,
            "ticks": "",
            "zerolinecolor": "white"
           },
           "zaxis": {
            "backgroundcolor": "#E5ECF6",
            "gridcolor": "white",
            "gridwidth": 2,
            "linecolor": "white",
            "showbackground": true,
            "ticks": "",
            "zerolinecolor": "white"
           }
          },
          "shapedefaults": {
           "line": {
            "color": "#2a3f5f"
           }
          },
          "ternary": {
           "aaxis": {
            "gridcolor": "white",
            "linecolor": "white",
            "ticks": ""
           },
           "baxis": {
            "gridcolor": "white",
            "linecolor": "white",
            "ticks": ""
           },
           "bgcolor": "#E5ECF6",
           "caxis": {
            "gridcolor": "white",
            "linecolor": "white",
            "ticks": ""
           }
          },
          "title": {
           "x": 0.05
          },
          "xaxis": {
           "automargin": true,
           "gridcolor": "white",
           "linecolor": "white",
           "ticks": "",
           "title": {
            "standoff": 15
           },
           "zerolinecolor": "white",
           "zerolinewidth": 2
          },
          "yaxis": {
           "automargin": true,
           "gridcolor": "white",
           "linecolor": "white",
           "ticks": "",
           "title": {
            "standoff": 15
           },
           "zerolinecolor": "white",
           "zerolinewidth": 2
          }
         }
        }
       }
      }
     },
     "metadata": {},
     "output_type": "display_data"
    }
   ],
   "source": [
    "fig = go.Figure(\n",
    "    go.Scatter(\n",
    "        x=emo_result.outputs[\"NPV\"],\n",
    "        y=emo_result.outputs[\"DWV\"],\n",
    "        mode=\"markers\",\n",
    "        marker=dict(size=6, color=\"blue\"),\n",
    "        name=\"raw\"\n",
    "    )\n",
    ")\n",
    "fig.add_trace(\n",
    "    go.Scatter(\n",
    "        x=non_dom_solutions[\"NPV\"],\n",
    "        y=non_dom_solutions[\"DWV\"],\n",
    "        mode=\"markers\",\n",
    "        marker=dict(size=10, color=\"red\", opacity=0.5),\n",
    "        name=\"feasible non-dominated\"\n",
    "    )\n",
    ")\n",
    "fig.add_trace(\n",
    "    go.Scatter(\n",
    "        x=[r.optimal_objectives[\"NPV\"] for r in mcdm_result],\n",
    "        y=[r.optimal_objectives[\"DWV\"] for r in mcdm_result],\n",
    "        mode=\"markers\",\n",
    "        marker=dict(size=8, color=\"green\"),\n",
    "        name=\"PO\"\n",
    "    )\n",
    ")"
   ]
  },
  {
   "cell_type": "code",
   "execution_count": 12,
   "metadata": {},
   "outputs": [
    {
     "data": {
      "text/plain": [
       "True"
      ]
     },
     "execution_count": 12,
     "metadata": {},
     "output_type": "execute_result"
    }
   ],
   "source": [
    "1 in solutions"
   ]
  },
  {
   "cell_type": "code",
   "execution_count": 13,
   "metadata": {},
   "outputs": [
    {
     "data": {
      "text/plain": [
       "True"
      ]
     },
     "execution_count": 13,
     "metadata": {},
     "output_type": "execute_result"
    }
   ],
   "source": [
    "0 in solutions"
   ]
  },
  {
   "cell_type": "code",
   "execution_count": 69,
   "metadata": {},
   "outputs": [
    {
     "data": {
      "text/html": [
       "<div><style>\n",
       ".dataframe > thead > tr,\n",
       ".dataframe > tbody > tr {\n",
       "  text-align: right;\n",
       "  white-space: pre-wrap;\n",
       "}\n",
       "</style>\n",
       "<small>shape: (1_000, 4)</small><table border=\"1\" class=\"dataframe\"><thead><tr><th>X_1</th><th>X_2</th><th>X_3</th><th>X_4</th></tr><tr><td>f64</td><td>f64</td><td>f64</td><td>f64</td></tr></thead><tbody><tr><td>1.0</td><td>1.0</td><td>1.0</td><td>1.0</td></tr><tr><td>1.0</td><td>1.0</td><td>1.0</td><td>1.0</td></tr><tr><td>1.0</td><td>1.0</td><td>1.0</td><td>1.0</td></tr><tr><td>1.0</td><td>1.0</td><td>1.0</td><td>1.0</td></tr><tr><td>1.0</td><td>1.0</td><td>1.0</td><td>1.0</td></tr><tr><td>&hellip;</td><td>&hellip;</td><td>&hellip;</td><td>&hellip;</td></tr><tr><td>1.0</td><td>1.0</td><td>1.0</td><td>1.0</td></tr><tr><td>1.0</td><td>1.0</td><td>1.0</td><td>1.0</td></tr><tr><td>1.0</td><td>1.0</td><td>1.0</td><td>1.0</td></tr><tr><td>1.0</td><td>1.0</td><td>1.0</td><td>1.0</td></tr><tr><td>1.0</td><td>1.0</td><td>1.0</td><td>1.0</td></tr></tbody></table></div>"
      ],
      "text/plain": [
       "shape: (1_000, 4)\n",
       "┌─────┬─────┬─────┬─────┐\n",
       "│ X_1 ┆ X_2 ┆ X_3 ┆ X_4 │\n",
       "│ --- ┆ --- ┆ --- ┆ --- │\n",
       "│ f64 ┆ f64 ┆ f64 ┆ f64 │\n",
       "╞═════╪═════╪═════╪═════╡\n",
       "│ 1.0 ┆ 1.0 ┆ 1.0 ┆ 1.0 │\n",
       "│ 1.0 ┆ 1.0 ┆ 1.0 ┆ 1.0 │\n",
       "│ 1.0 ┆ 1.0 ┆ 1.0 ┆ 1.0 │\n",
       "│ 1.0 ┆ 1.0 ┆ 1.0 ┆ 1.0 │\n",
       "│ 1.0 ┆ 1.0 ┆ 1.0 ┆ 1.0 │\n",
       "│ …   ┆ …   ┆ …   ┆ …   │\n",
       "│ 1.0 ┆ 1.0 ┆ 1.0 ┆ 1.0 │\n",
       "│ 1.0 ┆ 1.0 ┆ 1.0 ┆ 1.0 │\n",
       "│ 1.0 ┆ 1.0 ┆ 1.0 ┆ 1.0 │\n",
       "│ 1.0 ┆ 1.0 ┆ 1.0 ┆ 1.0 │\n",
       "│ 1.0 ┆ 1.0 ┆ 1.0 ┆ 1.0 │\n",
       "└─────┴─────┴─────┴─────┘"
      ]
     },
     "execution_count": 69,
     "metadata": {},
     "output_type": "execute_result"
    }
   ],
   "source": [
    "result.solutions"
   ]
  },
  {
   "cell_type": "code",
   "execution_count": null,
   "metadata": {},
   "outputs": [],
   "source": []
  }
 ],
 "metadata": {
  "kernelspec": {
   "display_name": "desdeo-5gtrLBsD-py3.12",
   "language": "python",
   "name": "python3"
  },
  "language_info": {
   "codemirror_mode": {
    "name": "ipython",
    "version": 3
   },
   "file_extension": ".py",
   "mimetype": "text/x-python",
   "name": "python",
   "nbconvert_exporter": "python",
   "pygments_lexer": "ipython3",
   "version": "3.12.1"
  }
 },
 "nbformat": 4,
 "nbformat_minor": 2
}
