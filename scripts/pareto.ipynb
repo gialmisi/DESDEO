{
 "cells": [
  {
   "cell_type": "code",
   "execution_count": 92,
   "metadata": {},
   "outputs": [],
   "source": [
    "from problem_model import forest_problem_vaaler, simple_forest_problem\n",
    "from desdeo.problem import simple_knapsack\n",
    "from methods import binary_nsga3, binary_rvea\n",
    "from desdeo.emo.hooks.archivers import FeasibleArchive\n",
    "from desdeo.emo.operators.selection import ReferenceVectorOptions\n",
    "import polars as pl"
   ]
  },
  {
   "cell_type": "code",
   "execution_count": 94,
   "metadata": {},
   "outputs": [],
   "source": [
    "problem = simple_forest_problem()\n",
    "\n",
    "# solver, publisher = binary_rvea(problem=problem, n_generations=500, reference_vector_options=ReferenceVectorOptions(number_of_vectors=1000), forced_verbosity=2)\n",
    "solver, publisher = binary_rvea(problem=problem)\n",
    "\n",
    "archive = FeasibleArchive(problem=problem, publisher=publisher)\n",
    "publisher.auto_subscribe(archive)\n"
   ]
  },
  {
   "cell_type": "code",
   "execution_count": 96,
   "metadata": {},
   "outputs": [],
   "source": [
    "result = solver()"
   ]
  },
  {
   "cell_type": "code",
   "execution_count": 97,
   "metadata": {},
   "outputs": [
    {
     "data": {
      "text/html": [
       "<div><style>\n",
       ".dataframe > thead > tr,\n",
       ".dataframe > tbody > tr {\n",
       "  text-align: right;\n",
       "  white-space: pre-wrap;\n",
       "}\n",
       "</style>\n",
       "<small>shape: (0, 29)</small><table border=\"1\" class=\"dataframe\"><thead><tr><th>NPV_1</th><th>DWV_1</th><th>NPV_2</th><th>DWV_2</th><th>NPV_3</th><th>DWV_3</th><th>NPV_4</th><th>DWV_4</th><th>NPV_5</th><th>DWV_5</th><th>NPV</th><th>DWV</th><th>NPV_min</th><th>DWV_min</th><th>row_constraint_00</th><th>row_constraint_01</th><th>row_constraint_02</th><th>row_constraint_10</th><th>row_constraint_11</th><th>row_constraint_12</th><th>row_constraint_20</th><th>row_constraint_21</th><th>row_constraint_22</th><th>row_constraint_30</th><th>row_constraint_31</th><th>row_constraint_32</th><th>row_constraint_40</th><th>row_constraint_41</th><th>row_constraint_42</th></tr><tr><td>array[i64, (3, 4)]</td><td>array[i64, (3, 4)]</td><td>array[i64, (3, 4)]</td><td>array[i64, (3, 4)]</td><td>array[i64, (3, 4)]</td><td>array[i64, (3, 4)]</td><td>array[i64, (3, 4)]</td><td>array[i64, (3, 4)]</td><td>array[i64, (3, 4)]</td><td>array[i64, (3, 4)]</td><td>f64</td><td>f64</td><td>f64</td><td>f64</td><td>f64</td><td>f64</td><td>f64</td><td>f64</td><td>f64</td><td>f64</td><td>f64</td><td>f64</td><td>f64</td><td>f64</td><td>f64</td><td>f64</td><td>f64</td><td>f64</td><td>f64</td></tr></thead><tbody></tbody></table></div>"
      ],
      "text/plain": [
       "shape: (0, 29)\n",
       "┌───────────┬───────────┬───────────┬───────────┬───┬───────────┬───────────┬───────────┬──────────┐\n",
       "│ NPV_1     ┆ DWV_1     ┆ NPV_2     ┆ DWV_2     ┆ … ┆ row_const ┆ row_const ┆ row_const ┆ row_cons │\n",
       "│ ---       ┆ ---       ┆ ---       ┆ ---       ┆   ┆ raint_32  ┆ raint_40  ┆ raint_41  ┆ traint_4 │\n",
       "│ array[i64 ┆ array[i64 ┆ array[i64 ┆ array[i64 ┆   ┆ ---       ┆ ---       ┆ ---       ┆ 2        │\n",
       "│ , (3, 4)] ┆ , (3, 4)] ┆ , (3, 4)] ┆ , (3, 4)] ┆   ┆ f64       ┆ f64       ┆ f64       ┆ ---      │\n",
       "│           ┆           ┆           ┆           ┆   ┆           ┆           ┆           ┆ f64      │\n",
       "╞═══════════╪═══════════╪═══════════╪═══════════╪═══╪═══════════╪═══════════╪═══════════╪══════════╡\n",
       "└───────────┴───────────┴───────────┴───────────┴───┴───────────┴───────────┴───────────┴──────────┘"
      ]
     },
     "execution_count": 97,
     "metadata": {},
     "output_type": "execute_result"
    }
   ],
   "source": []
  },
  {
   "cell_type": "code",
   "execution_count": 12,
   "metadata": {},
   "outputs": [
    {
     "data": {
      "text/plain": [
       "True"
      ]
     },
     "execution_count": 12,
     "metadata": {},
     "output_type": "execute_result"
    }
   ],
   "source": [
    "1 in solutions"
   ]
  },
  {
   "cell_type": "code",
   "execution_count": 13,
   "metadata": {},
   "outputs": [
    {
     "data": {
      "text/plain": [
       "True"
      ]
     },
     "execution_count": 13,
     "metadata": {},
     "output_type": "execute_result"
    }
   ],
   "source": [
    "0 in solutions"
   ]
  },
  {
   "cell_type": "code",
   "execution_count": 69,
   "metadata": {},
   "outputs": [
    {
     "data": {
      "text/html": [
       "<div><style>\n",
       ".dataframe > thead > tr,\n",
       ".dataframe > tbody > tr {\n",
       "  text-align: right;\n",
       "  white-space: pre-wrap;\n",
       "}\n",
       "</style>\n",
       "<small>shape: (1_000, 4)</small><table border=\"1\" class=\"dataframe\"><thead><tr><th>X_1</th><th>X_2</th><th>X_3</th><th>X_4</th></tr><tr><td>f64</td><td>f64</td><td>f64</td><td>f64</td></tr></thead><tbody><tr><td>1.0</td><td>1.0</td><td>1.0</td><td>1.0</td></tr><tr><td>1.0</td><td>1.0</td><td>1.0</td><td>1.0</td></tr><tr><td>1.0</td><td>1.0</td><td>1.0</td><td>1.0</td></tr><tr><td>1.0</td><td>1.0</td><td>1.0</td><td>1.0</td></tr><tr><td>1.0</td><td>1.0</td><td>1.0</td><td>1.0</td></tr><tr><td>&hellip;</td><td>&hellip;</td><td>&hellip;</td><td>&hellip;</td></tr><tr><td>1.0</td><td>1.0</td><td>1.0</td><td>1.0</td></tr><tr><td>1.0</td><td>1.0</td><td>1.0</td><td>1.0</td></tr><tr><td>1.0</td><td>1.0</td><td>1.0</td><td>1.0</td></tr><tr><td>1.0</td><td>1.0</td><td>1.0</td><td>1.0</td></tr><tr><td>1.0</td><td>1.0</td><td>1.0</td><td>1.0</td></tr></tbody></table></div>"
      ],
      "text/plain": [
       "shape: (1_000, 4)\n",
       "┌─────┬─────┬─────┬─────┐\n",
       "│ X_1 ┆ X_2 ┆ X_3 ┆ X_4 │\n",
       "│ --- ┆ --- ┆ --- ┆ --- │\n",
       "│ f64 ┆ f64 ┆ f64 ┆ f64 │\n",
       "╞═════╪═════╪═════╪═════╡\n",
       "│ 1.0 ┆ 1.0 ┆ 1.0 ┆ 1.0 │\n",
       "│ 1.0 ┆ 1.0 ┆ 1.0 ┆ 1.0 │\n",
       "│ 1.0 ┆ 1.0 ┆ 1.0 ┆ 1.0 │\n",
       "│ 1.0 ┆ 1.0 ┆ 1.0 ┆ 1.0 │\n",
       "│ 1.0 ┆ 1.0 ┆ 1.0 ┆ 1.0 │\n",
       "│ …   ┆ …   ┆ …   ┆ …   │\n",
       "│ 1.0 ┆ 1.0 ┆ 1.0 ┆ 1.0 │\n",
       "│ 1.0 ┆ 1.0 ┆ 1.0 ┆ 1.0 │\n",
       "│ 1.0 ┆ 1.0 ┆ 1.0 ┆ 1.0 │\n",
       "│ 1.0 ┆ 1.0 ┆ 1.0 ┆ 1.0 │\n",
       "│ 1.0 ┆ 1.0 ┆ 1.0 ┆ 1.0 │\n",
       "└─────┴─────┴─────┴─────┘"
      ]
     },
     "execution_count": 69,
     "metadata": {},
     "output_type": "execute_result"
    }
   ],
   "source": [
    "result.solutions"
   ]
  },
  {
   "cell_type": "code",
   "execution_count": null,
   "metadata": {},
   "outputs": [],
   "source": []
  }
 ],
 "metadata": {
  "kernelspec": {
   "display_name": "desdeo-5gtrLBsD-py3.12",
   "language": "python",
   "name": "python3"
  },
  "language_info": {
   "codemirror_mode": {
    "name": "ipython",
    "version": 3
   },
   "file_extension": ".py",
   "mimetype": "text/x-python",
   "name": "python",
   "nbconvert_exporter": "python",
   "pygments_lexer": "ipython3",
   "version": "3.12.1"
  }
 },
 "nbformat": 4,
 "nbformat_minor": 2
}
